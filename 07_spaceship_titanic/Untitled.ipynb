{
 "cells": [
  {
   "cell_type": "code",
   "execution_count": 1,
   "id": "5167547b-9dae-471a-a76f-014f061899ce",
   "metadata": {},
   "outputs": [],
   "source": [
    "# This code cell is to get rid of annoying tensorflow warnings\n",
    "import os\n",
    "os.environ['TF_CPP_MIN_LOG_LEVEL'] = '2'"
   ]
  },
  {
   "cell_type": "code",
   "execution_count": 2,
   "id": "4d2891d3-8c0a-47c7-a9d6-295d459e0ea2",
   "metadata": {},
   "outputs": [],
   "source": [
    "import numpy as np\n",
    "import pandas as pd\n",
    "import matplotlib.pyplot as plt\n",
    "import tensorflow as tf"
   ]
  },
  {
   "cell_type": "code",
   "execution_count": 3,
   "id": "e81dc001-c491-4f5e-9458-727f35268f7e",
   "metadata": {},
   "outputs": [],
   "source": [
    "df_train_main = pd.read_csv(\"train.csv\")\n",
    "df_test_main = pd.read_csv(\"test.csv\")"
   ]
  },
  {
   "cell_type": "code",
   "execution_count": 4,
   "id": "a515c1e5-4398-4e8e-b097-0e6c83e46506",
   "metadata": {},
   "outputs": [],
   "source": [
    "df_train = df_train_main.fillna(0)\n",
    "df_test = df_test_main.fillna(0)"
   ]
  },
  {
   "cell_type": "code",
   "execution_count": 5,
   "id": "ea1e6b65-9b39-45ab-acf1-b0e69f93a543",
   "metadata": {},
   "outputs": [],
   "source": [
    "df_train[\"HomePlanet\"] = (df_train[\"HomePlanet\"] == \"Europa\").astype(int)\n",
    "df_test[\"HomePlanet\"] = (df_test[\"HomePlanet\"] == \"Europa\").astype(int)"
   ]
  },
  {
   "cell_type": "code",
   "execution_count": 6,
   "id": "ab30b10d-d707-4d21-8d29-edbbca5ab6fd",
   "metadata": {},
   "outputs": [],
   "source": [
    "df_train[\"CryoSleep\"] = df_train[\"CryoSleep\"].astype(int)\n",
    "df_test[\"CryoSleep\"] = df_test[\"CryoSleep\"].astype(int)"
   ]
  },
  {
   "cell_type": "code",
   "execution_count": 7,
   "id": "b01dfa9e-99c6-4b6e-9d24-ccd4986ba2ff",
   "metadata": {},
   "outputs": [],
   "source": [
    "y_train = df_train[\"Transported\"].astype(int)"
   ]
  },
  {
   "cell_type": "code",
   "execution_count": 8,
   "id": "5d831508-9bc6-41db-bace-10baf1cb31ae",
   "metadata": {},
   "outputs": [],
   "source": [
    "df_train[\"VIP\"] = df_train[\"VIP\"].astype(int)\n",
    "df_test[\"VIP\"] = df_test[\"VIP\"].astype(int)"
   ]
  },
  {
   "cell_type": "code",
   "execution_count": 9,
   "id": "8256f69e-b64f-42a9-800e-aa804cc9a2b7",
   "metadata": {},
   "outputs": [
    {
     "name": "stderr",
     "output_type": "stream",
     "text": [
      "/tmp/ipykernel_39623/2924449338.py:1: FutureWarning: In a future version of pandas all arguments of DataFrame.drop except for the argument 'labels' will be keyword-only.\n",
      "  df_train = df_train.drop([\"PassengerId\", \"Cabin\", \"Destination\", \"Name\", \"Transported\"],1)\n",
      "/tmp/ipykernel_39623/2924449338.py:2: FutureWarning: In a future version of pandas all arguments of DataFrame.drop except for the argument 'labels' will be keyword-only.\n",
      "  df_test = df_test.drop([\"PassengerId\", \"Cabin\", \"Destination\", \"Name\"],1)\n"
     ]
    }
   ],
   "source": [
    "df_train = df_train.drop([\"PassengerId\", \"Cabin\", \"Destination\", \"Name\", \"Transported\"],1)\n",
    "df_test = df_test.drop([\"PassengerId\", \"Cabin\", \"Destination\", \"Name\"],1)"
   ]
  },
  {
   "cell_type": "code",
   "execution_count": 10,
   "id": "4ac1eab6-7f23-4838-abec-3dbeae069b85",
   "metadata": {},
   "outputs": [],
   "source": [
    "X_train = df_train.to_numpy()\n",
    "X_test = df_test.to_numpy()"
   ]
  },
  {
   "cell_type": "code",
   "execution_count": null,
   "id": "795965d0-4e14-492d-9e41-0d92df3623bd",
   "metadata": {},
   "outputs": [],
   "source": []
  },
  {
   "cell_type": "code",
   "execution_count": 19,
   "id": "1f3644dc-21c7-4a00-9f1d-162f4eafb27e",
   "metadata": {},
   "outputs": [],
   "source": [
    "model = tf.keras.models.Sequential([\n",
    "  tf.keras.layers.Dense(128, activation='relu'),\n",
    "  tf.keras.layers.Dropout(0.2),\n",
    "  tf.keras.layers.Dense(2, activation='softmax')\n",
    "])\n"
   ]
  },
  {
   "cell_type": "code",
   "execution_count": 20,
   "id": "74b3da80-c8c0-48f5-bef8-b5d638ff8774",
   "metadata": {},
   "outputs": [],
   "source": [
    "model.compile(optimizer='adam',\n",
    "              loss='sparse_categorical_crossentropy',\n",
    "              metrics=['accuracy'])"
   ]
  },
  {
   "cell_type": "code",
   "execution_count": 21,
   "id": "55031e7f-8a14-4358-9716-9974339c5483",
   "metadata": {},
   "outputs": [
    {
     "name": "stdout",
     "output_type": "stream",
     "text": [
      "Epoch 1/20\n",
      "272/272 [==============================] - 1s 2ms/step - loss: 21.4761 - accuracy: 0.6933\n",
      "Epoch 2/20\n",
      "272/272 [==============================] - 1s 2ms/step - loss: 6.4837 - accuracy: 0.7313\n",
      "Epoch 3/20\n",
      "272/272 [==============================] - 1s 2ms/step - loss: 2.4616 - accuracy: 0.7458\n",
      "Epoch 4/20\n",
      "272/272 [==============================] - 1s 2ms/step - loss: 1.3416 - accuracy: 0.7431\n",
      "Epoch 5/20\n",
      "272/272 [==============================] - 1s 3ms/step - loss: 0.9186 - accuracy: 0.7351\n",
      "Epoch 6/20\n",
      "272/272 [==============================] - 1s 3ms/step - loss: 0.7457 - accuracy: 0.7405\n",
      "Epoch 7/20\n",
      "272/272 [==============================] - 1s 2ms/step - loss: 0.6408 - accuracy: 0.7419\n",
      "Epoch 8/20\n",
      "272/272 [==============================] - 1s 3ms/step - loss: 0.6029 - accuracy: 0.7430\n",
      "Epoch 9/20\n",
      "272/272 [==============================] - 1s 2ms/step - loss: 0.5735 - accuracy: 0.7551\n",
      "Epoch 10/20\n",
      "272/272 [==============================] - 1s 2ms/step - loss: 0.6168 - accuracy: 0.7575\n",
      "Epoch 11/20\n",
      "272/272 [==============================] - 1s 2ms/step - loss: 0.5813 - accuracy: 0.7662\n",
      "Epoch 12/20\n",
      "272/272 [==============================] - 1s 2ms/step - loss: 0.5656 - accuracy: 0.7633\n",
      "Epoch 13/20\n",
      "272/272 [==============================] - 1s 2ms/step - loss: 0.5486 - accuracy: 0.7692\n",
      "Epoch 14/20\n",
      "272/272 [==============================] - 1s 2ms/step - loss: 0.5385 - accuracy: 0.7656\n",
      "Epoch 15/20\n",
      "272/272 [==============================] - 1s 2ms/step - loss: 0.5504 - accuracy: 0.7576\n",
      "Epoch 16/20\n",
      "272/272 [==============================] - 1s 2ms/step - loss: 0.5357 - accuracy: 0.7691\n",
      "Epoch 17/20\n",
      "272/272 [==============================] - 1s 2ms/step - loss: 0.5294 - accuracy: 0.7690\n",
      "Epoch 18/20\n",
      "272/272 [==============================] - 1s 2ms/step - loss: 0.5234 - accuracy: 0.7660\n",
      "Epoch 19/20\n",
      "272/272 [==============================] - 1s 2ms/step - loss: 0.5167 - accuracy: 0.7690\n",
      "Epoch 20/20\n",
      "272/272 [==============================] - 1s 2ms/step - loss: 0.5060 - accuracy: 0.7734\n"
     ]
    },
    {
     "data": {
      "text/plain": [
       "<keras.callbacks.History at 0x7f4c9c5f6070>"
      ]
     },
     "execution_count": 21,
     "metadata": {},
     "output_type": "execute_result"
    }
   ],
   "source": [
    "model.fit(X_train, y_train, epochs=10)"
   ]
  },
  {
   "cell_type": "code",
   "execution_count": 22,
   "id": "b3288f1b-9a60-4ca1-bda7-d170e74ce8f9",
   "metadata": {},
   "outputs": [
    {
     "name": "stdout",
     "output_type": "stream",
     "text": [
      "134/134 [==============================] - 0s 1ms/step\n"
     ]
    }
   ],
   "source": [
    "ans = np.argmax(model.predict(X_test), 1)"
   ]
  },
  {
   "cell_type": "code",
   "execution_count": 23,
   "id": "4c2078de-db2c-43a6-80cd-7ea5aa82c188",
   "metadata": {},
   "outputs": [],
   "source": [
    "df_ans = pd.DataFrame({\"PassengerId\": df_test_main[\"PassengerId\"], \"Transported\": ans})"
   ]
  },
  {
   "cell_type": "code",
   "execution_count": 24,
   "id": "41c8d00f-6996-46a0-955c-c4763b156b68",
   "metadata": {},
   "outputs": [],
   "source": [
    "df_ans[\"Transported\"] = df_ans[\"Transported\"] == 1"
   ]
  },
  {
   "cell_type": "code",
   "execution_count": 25,
   "id": "a5711331-f399-4836-8abb-78c062592054",
   "metadata": {},
   "outputs": [],
   "source": [
    "df_ans.to_csv(\"ans3.csv\", index=False)"
   ]
  },
  {
   "cell_type": "code",
   "execution_count": null,
   "id": "8c040b73-fe00-46dc-9e2e-23422b523b3a",
   "metadata": {},
   "outputs": [],
   "source": []
  }
 ],
 "metadata": {
  "kernelspec": {
   "display_name": "Python 3 (ipykernel)",
   "language": "python",
   "name": "python3"
  },
  "language_info": {
   "codemirror_mode": {
    "name": "ipython",
    "version": 3
   },
   "file_extension": ".py",
   "mimetype": "text/x-python",
   "name": "python",
   "nbconvert_exporter": "python",
   "pygments_lexer": "ipython3",
   "version": "3.9.16"
  }
 },
 "nbformat": 4,
 "nbformat_minor": 5
}
