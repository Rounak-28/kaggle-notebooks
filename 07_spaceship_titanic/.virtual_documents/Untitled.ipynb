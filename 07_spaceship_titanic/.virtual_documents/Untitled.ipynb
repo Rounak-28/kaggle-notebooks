# This code cell is to get rid of annoying tensorflow warnings
import os
os.environ['TF_CPP_MIN_LOG_LEVEL'] = '2'


import numpy as np
import pandas as pd
import matplotlib.pyplot as plt
import tensorflow as tf


df_train_main = pd.read_csv("train.csv")
df_test_main = pd.read_csv("test.csv")


df_train = df_train_main.fillna(0)
df_test = df_test_main.fillna(0)


df_train["HomePlanet"] = (df_train["HomePlanet"] == "Europa").astype(int)
df_test["HomePlanet"] = (df_test["HomePlanet"] == "Europa").astype(int)


df_train["CryoSleep"] = df_train["CryoSleep"].astype(int)
df_test["CryoSleep"] = df_test["CryoSleep"].astype(int)


y_train = df_train["Transported"].astype(int)


df_train["VIP"] = df_train["VIP"].astype(int)
df_test["VIP"] = df_test["VIP"].astype(int)


df_train = df_train.drop(["PassengerId", "Cabin", "Destination", "Name", "Transported"],1)
df_test = df_test.drop(["PassengerId", "Cabin", "Destination", "Name"],1)


X_train = df_train.to_numpy()
X_test = df_test.to_numpy()





model = tf.keras.models.Sequential([
  tf.keras.layers.Dense(128, activation='relu'),
  tf.keras.layers.Dropout(0.2),
  tf.keras.layers.Dense(2, activation='softmax')
])



model.compile(optimizer='adam',
              loss='sparse_categorical_crossentropy',
              metrics=['accuracy'])


model.fit(X_train, y_train, epochs=10)


ans = np.argmax(model.predict(X_test), 1)


df_ans = pd.DataFrame({"PassengerId": df_test_main["PassengerId"], "Transported": ans})


df_ans["Transported"] = df_ans["Transported"] == 1


df_ans.to_csv("ans3.csv", index=False)



