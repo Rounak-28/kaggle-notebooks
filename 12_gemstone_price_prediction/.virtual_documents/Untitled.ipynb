# This code cell is to get rid of annoying tensorflow warnings
import os
os.environ['TF_CPP_MIN_LOG_LEVEL'] = '2'


import pandas as pd
import tensorflow as tf


train_val_df = pd.read_csv("train.csv")


test_df = pd.read_csv("test.csv")


train_val_df.head(2)


cuts = train_val_df.cut.unique(); cuts_dict = dict(zip(cuts, range(len(cuts))))
color = train_val_df.color.unique(); colors_dict = dict(zip(color, range(len(color))))
clarity = train_val_df.clarity.unique(); claritys_dict = dict(zip(clarity, range(len(clarity))))


train_val_df = train_val_df.applymap(lambda s: cuts_dict.get(s) if s in cuts_dict else s)
train_val_df = train_val_df.applymap(lambda s: colors_dict.get(s) if s in colors_dict else s)
train_val_df = train_val_df.applymap(lambda s: claritys_dict.get(s) if s in claritys_dict else s)


test_df = test_df.applymap(lambda s: cuts_dict.get(s) if s in cuts_dict else s)
test_df = test_df.applymap(lambda s: colors_dict.get(s) if s in colors_dict else s)
test_df = test_df.applymap(lambda s: claritys_dict.get(s) if s in claritys_dict else s)


train_val_df.head()


y_train_val = train_val_df.price.to_numpy()


X_train_val = train_val_df.drop(["id", "price"], axis=1)


X_test = test_df.drop(["id"], axis=1)


X_train_val.head()


highest_per_col = [max(X_train_val[col]) for col in X_train_val.columns]


highest_per_col


X_train_val = X_train_val / highest_per_col


X_test = X_test / highest_per_col


X_train_val.head(2)


X_test.head(2)


from sklearn.model_selection import train_test_split


X_train, X_val, y_train, y_val = train_test_split(X_train_val, y_train_val, test_size=0.10, random_state=42)


X_train.shape, X_test.shape, X_val.shape


y_train.shape, y_val.shape


model = tf.keras.models.Sequential([
  tf.keras.layers.Dense(1024, activation='relu'),
  tf.keras.layers.Dropout(0.3),
  tf.keras.layers.Dense(512, activation='relu'),
  tf.keras.layers.Dropout(0.3),
  tf.keras.layers.Dense(256, activation='relu'),
  tf.keras.layers.Dropout(0.3),
  tf.keras.layers.Dense(128, activation='relu'),
  tf.keras.layers.Dropout(0.3),
  tf.keras.layers.Dense(1)
])

model.compile(optimizer='adam',
              loss=tf.keras.losses.MeanSquaredError(),
              metrics=[tf.keras.metrics.MeanAbsoluteError()])


model.fit(X_train, y_train, validation_data=(X_val, y_val), batch_size=64, epochs=2)


ans = model.predict(X_test)
ans = ans.reshape(-1)
ans_df = pd.DataFrame({"id": test_df.id, "price": ans})
ans_df.to_csv("outputs/ans2.csv", index=False)



