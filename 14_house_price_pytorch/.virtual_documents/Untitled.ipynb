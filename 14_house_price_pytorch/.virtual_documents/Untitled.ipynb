import pandas as pd
import torch
import torch.nn as nn
from sklearn.preprocessing import StandardScaler
import matplotlib.pyplot as plt


train_df = pd.read_csv("train.csv")
test_df = pd.read_csv("test.csv")


train_df.head(2)


test_df.head(2)


cols = ["MSSubClass", "LotArea", "PoolArea", "MiscVal", "MoSold", "YrSold"]
X_train = train_df[cols].values
X_test = test_df[cols].values
y_train = train_df.SalePrice.values.reshape(-1, 1)


sc = StandardScaler()
X_train = sc.fit_transform(X_train)
X_test = sc.transform(X_test)


device = "cuda" if torch.cuda.is_available() else "mps" if torch.backends.mps.is_available() else "cpu"


device


X_train = torch.tensor(X_train, dtype=torch.float32).to(device)
X_test = torch.tensor(X_test, dtype=torch.float32).to(device)
y_train = torch.tensor(y_train,  dtype=torch.float32).to(device)


print(X_train.shape, y_train.shape)
print(X_test.shape)


class NeuralNetModel(nn.Module):

    def __init__(self, input_num=6, hidden1=5, hidden2=5, output_num=1):
        super().__init__()
        self.layers = nn.Sequential(
            nn.Linear(input_num, hidden1),
            nn.ReLU(),
            nn.Linear(hidden1, hidden2),
            nn.ReLU(),
            nn.Linear(hidden2, output_num)
        )

    def forward(self, x):
        x = self.layers(x)
        return x


model = NeuralNetModel().to(device)
loss_function = nn.MSELoss()
optimizer = torch.optim.Adam(model.parameters(), lr=0.01)


epochs = 5000
loss_track = []
for i in range(epochs):

    # forward pass
    y_pred = model.forward(X_train)
    loss = loss_function(y_pred, y_train)

    # loss tracking
    loss_track.append(loss)

    # backward pass
    optimizer.zero_grad()
    loss.backward()
    optimizer.step()

    # printing every 1000 epoch
    if (i+1) % 1000 == 0:
        print(f"epoch: {i}, loss={loss.item()}")


plt.plot([t.cpu().detach().numpy().item() for t in loss_track])


predicated_ans = model(X_test)


predicated_ans = predicated_ans.cpu().detach().numpy().reshape(-1)


ans_df = pd.DataFrame({"Id": test_df.Id, "SalePrice": predicated_ans})
ans_df.to_csv("outputs/ans6.csv", index=False)



