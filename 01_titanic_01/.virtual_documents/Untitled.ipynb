import numpy as np
import pandas as pd
import matplotlib.pyplot as plt


df = pd.read_csv("train.csv")


df.head()


from sklearn.ensemble import RandomForestClassifier


model = RandomForestClassifier(random_state=42)


y = df["Survived"]


df["Sex"] = df["Sex"] == "male"


df["Sex"] = df["Sex"].astype(int)


df.head()


df = df.fillna(0)


cols = ["Sex","Pclass","Age", "SibSp", "Fare"]


X = df[cols]


X.head()


model.fit(X, y)


model.predict(X)[:10]


y[:10]


test_df = pd.read_csv("test.csv")


test_df.head()


test_df["Sex"] = test_df["Sex"] == "male"


test_df["Sex"] = test_df["Sex"].astype(int)


test_df.head()


# test_df.fillna(0)


test_X = test_df[cols]


test_X.head()


# idk = pd.DataFrame({"PassengerId":test_df["PassengerId"], "Survived": model.predict(test_x)})


test_X.fillna(0.0)


test_X = test_X.fillna(0.0)


model.predict(test_X)


idk = pd.DataFrame({"PassengerId":test_df["PassengerId"], "Survived": model.predict(test_X)})


idk.to_csv("result.csv", index=False)



