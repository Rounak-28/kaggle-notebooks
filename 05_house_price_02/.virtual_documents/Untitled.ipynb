import numpy as np
import pandas as pd
from sklearn.linear_model import LinearRegression


model = LinearRegression()


train_data = pd.read_csv("train.csv")


train_data.head()


train_y = train_data["SalePrice"]


train_y.head()


train_data.corr()["SalePrice"].sort_values()


cols = ["GarageArea", "GarageCars", "GrLivArea", "OverallQual"]


train_X = train_data[cols]


train_X


model.fit(train_X, train_y)


test_data = pd.read_csv("test.csv")


test_X = test_data[cols]


ansArr = model.predict(test_X.fillna(0))


ansArr


ansDf = pd.DataFrame({"Id":test_data["Id"], "SalePrice": ansArr})


ansDf.to_csv("ans.csv", index=None)



