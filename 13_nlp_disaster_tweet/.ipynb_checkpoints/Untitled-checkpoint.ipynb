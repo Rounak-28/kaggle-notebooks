{
 "cells": [
  {
   "cell_type": "code",
   "execution_count": null,
   "id": "4666a2f9-4cc8-407e-8a82-47d42918b231",
   "metadata": {},
   "outputs": [],
   "source": [
    "# This code cell is to get rid of annoying tensorflow warnings\n",
    "import os\n",
    "os.environ['TF_CPP_MIN_LOG_LEVEL'] = '2'"
   ]
  },
  {
   "cell_type": "code",
   "execution_count": null,
   "id": "6c4781de-657f-4e3d-933c-8cb10e277bfd",
   "metadata": {},
   "outputs": [],
   "source": [
    "import numpy as np\n",
    "import pandas as pd\n",
    "import tensorflow as tf"
   ]
  },
  {
   "cell_type": "code",
   "execution_count": null,
   "id": "167eee07-43fb-4bc1-b9a0-d05670b1023d",
   "metadata": {},
   "outputs": [],
   "source": [
    "train_df = pd.read_csv(\"train.csv\")\n",
    "test_df = pd.read_csv(\"test.csv\")"
   ]
  },
  {
   "cell_type": "code",
   "execution_count": null,
   "id": "ca41a519-b2e0-4b9c-84f9-39a6b264f765",
   "metadata": {},
   "outputs": [],
   "source": [
    "train_df.head(2)"
   ]
  },
  {
   "cell_type": "code",
   "execution_count": null,
   "id": "4f7f2eb0-4faf-499d-b696-58e77ff584f5",
   "metadata": {},
   "outputs": [],
   "source": [
    "X_train_df_raw = train_df.drop([\"id\", \"keyword\", \"location\", \"target\"], axis=1)\n",
    "X_test_df_raw = test_df.drop([\"id\", \"keyword\", \"location\"], axis=1)"
   ]
  },
  {
   "cell_type": "code",
   "execution_count": null,
   "id": "0c8f1c23-fdfb-4036-bc3c-fd2f70917182",
   "metadata": {},
   "outputs": [],
   "source": [
    "X_train_df_raw.head()"
   ]
  },
  {
   "cell_type": "code",
   "execution_count": null,
   "id": "0299ab55-14a7-40a7-aa3d-c54a78d91e3a",
   "metadata": {},
   "outputs": [],
   "source": [
    "X_test_df_raw.head()"
   ]
  },
  {
   "cell_type": "code",
   "execution_count": null,
   "id": "882fe791-f406-4d7f-b9ff-db806f6c663e",
   "metadata": {},
   "outputs": [],
   "source": [
    "y = train_df.target.to_numpy()"
   ]
  },
  {
   "cell_type": "code",
   "execution_count": null,
   "id": "5608baaa-ca8d-409a-9bdf-62819ce0c032",
   "metadata": {},
   "outputs": [],
   "source": [
    "from nltk.corpus import stopwords\n",
    "STOPWORDS = stopwords.words(\"english\")\n",
    "STOPWORDS[:3]"
   ]
  },
  {
   "cell_type": "code",
   "execution_count": null,
   "id": "f4ddbc04-73d7-4aa7-9a37-f475393295bf",
   "metadata": {},
   "outputs": [],
   "source": [
    "import string\n",
    "string.punctuation"
   ]
  },
  {
   "cell_type": "code",
   "execution_count": null,
   "id": "db9cc692-8bd5-4a66-aa44-c05b0507eb0f",
   "metadata": {},
   "outputs": [],
   "source": [
    "def text_process(sentence):\n",
    "    clean_words = [w for w in sentence.split() if w not in STOPWORDS]\n",
    "    return \" \".join(clean_words)"
   ]
  },
  {
   "cell_type": "code",
   "execution_count": null,
   "id": "c6404145-4fb6-49ce-b0d2-98fbcdaaacfd",
   "metadata": {},
   "outputs": [],
   "source": [
    "X_train_df = X_train_df_raw.text.apply(text_process)"
   ]
  },
  {
   "cell_type": "code",
   "execution_count": null,
   "id": "05278192-8e15-44de-ba3f-29d68746f59f",
   "metadata": {},
   "outputs": [],
   "source": [
    "X_test_df = X_test_df_raw.text.apply(text_process)"
   ]
  },
  {
   "cell_type": "code",
   "execution_count": null,
   "id": "33c9af47-cdf6-4c17-b00f-36d220679cba",
   "metadata": {},
   "outputs": [],
   "source": [
    "X_train_df"
   ]
  },
  {
   "cell_type": "code",
   "execution_count": null,
   "id": "aa917fc6-a035-4fb4-9da2-b491019e94a2",
   "metadata": {},
   "outputs": [],
   "source": [
    "X_test_df"
   ]
  },
  {
   "cell_type": "code",
   "execution_count": null,
   "id": "0879ca80-a3a8-48b1-a1c5-b8bba68a31d8",
   "metadata": {},
   "outputs": [],
   "source": [
    "from sklearn.feature_extraction.text import CountVectorizer\n",
    "\n",
    "cv = CountVectorizer()"
   ]
  },
  {
   "cell_type": "code",
   "execution_count": null,
   "id": "5531bd76-f54d-467e-a1c2-ea3f577a7d10",
   "metadata": {},
   "outputs": [],
   "source": [
    "X = cv.fit_transform(X_train_df)\n",
    "X = X.toarray()"
   ]
  },
  {
   "cell_type": "code",
   "execution_count": null,
   "id": "d956fa93-f658-4d5a-82de-5f7a9dd0e94f",
   "metadata": {},
   "outputs": [],
   "source": [
    "X_test = cv.transform(X_test_df)"
   ]
  },
  {
   "cell_type": "code",
   "execution_count": null,
   "id": "d49f752d-c318-4ee0-b698-8bdac61c9d3a",
   "metadata": {},
   "outputs": [],
   "source": [
    "cv.get_feature_names_out()"
   ]
  },
  {
   "cell_type": "code",
   "execution_count": null,
   "id": "ea1bc379-e366-4bd3-a135-3ad14736f303",
   "metadata": {},
   "outputs": [],
   "source": [
    "X.shape"
   ]
  },
  {
   "cell_type": "code",
   "execution_count": null,
   "id": "30942da5-a035-4f78-966d-f3bc063b3841",
   "metadata": {},
   "outputs": [],
   "source": [
    "from sklearn.model_selection import train_test_split\n",
    "\n",
    "X_train, X_val, y_train, y_val = train_test_split(X, y, test_size=0.2, random_state=42)"
   ]
  },
  {
   "cell_type": "code",
   "execution_count": null,
   "id": "0da83ffe-724a-4e5b-91bd-c7997aa26820",
   "metadata": {},
   "outputs": [],
   "source": [
    "print(X_train.shape, y_train.shape)\n",
    "print(X_val.shape, y_val.shape)"
   ]
  },
  {
   "cell_type": "code",
   "execution_count": null,
   "id": "1f6de408-1adf-4b76-872e-6901d689471f",
   "metadata": {},
   "outputs": [],
   "source": [
    "X_test.shape"
   ]
  },
  {
   "cell_type": "code",
   "execution_count": null,
   "id": "8ba17028-e36d-4673-9f3d-74d212f6afd8",
   "metadata": {},
   "outputs": [],
   "source": [
    "model = tf.keras.models.Sequential([\n",
    "  tf.keras.layers.Dense(128, activation='relu'),\n",
    "  tf.keras.layers.Dropout(0.2),\n",
    "  tf.keras.layers.Dense(128, activation='relu'),\n",
    "  tf.keras.layers.Dropout(0.2),\n",
    "  tf.keras.layers.Dense(128, activation='relu'),\n",
    "  tf.keras.layers.Dropout(0.2),\n",
    "  tf.keras.layers.Dense(2)\n",
    "])\n",
    "\n",
    "model.compile(optimizer='adam',\n",
    "              loss='sparse_categorical_crossentropy',\n",
    "              metrics=['accuracy'])\n"
   ]
  },
  {
   "cell_type": "code",
   "execution_count": null,
   "id": "ea85ef29-69a1-4f05-bc0a-4503347c5c80",
   "metadata": {},
   "outputs": [],
   "source": [
    "model.fit(X_train, y_train, validation_data=(X_val, y_val), epochs=2)"
   ]
  },
  {
   "cell_type": "code",
   "execution_count": null,
   "id": "6967fd9a-c5c5-4e52-bd71-b7c7c0e35824",
   "metadata": {},
   "outputs": [],
   "source": [
    "model.predict(X_test)"
   ]
  },
  {
   "cell_type": "code",
   "execution_count": null,
   "id": "b0abed83-9521-4377-b517-fe96cc49e2fb",
   "metadata": {},
   "outputs": [],
   "source": [
    "np.argmax(model.predict(X_test), 1)"
   ]
  },
  {
   "cell_type": "code",
   "execution_count": null,
   "id": "59545c5d-d24b-437e-a224-a12ed1e08ab4",
   "metadata": {},
   "outputs": [],
   "source": []
  }
 ],
 "metadata": {
  "kernelspec": {
   "display_name": "Python 3 (ipykernel)",
   "language": "python",
   "name": "python3"
  },
  "language_info": {
   "codemirror_mode": {
    "name": "ipython",
    "version": 3
   },
   "file_extension": ".py",
   "mimetype": "text/x-python",
   "name": "python",
   "nbconvert_exporter": "python",
   "pygments_lexer": "ipython3",
   "version": "3.9.16"
  }
 },
 "nbformat": 4,
 "nbformat_minor": 5
}
