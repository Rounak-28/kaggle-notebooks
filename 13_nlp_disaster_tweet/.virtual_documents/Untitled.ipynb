# This code cell is to get rid of annoying tensorflow warnings
import os
os.environ['TF_CPP_MIN_LOG_LEVEL'] = '2'


import numpy as np
import pandas as pd
import tensorflow as tf


train_df = pd.read_csv("train.csv")
test_df = pd.read_csv("test.csv")


train_df.head(2)


X_train_df_raw = train_df.drop(["id", "keyword", "location", "target"], axis=1)
X_test_df_raw = test_df.drop(["id", "keyword", "location"], axis=1)


X_train_df_raw.head()


X_test_df_raw.head()


y = train_df.target.to_numpy()


from nltk.corpus import stopwords
STOPWORDS = stopwords.words("english")
STOPWORDS[:3]


import string
string.punctuation


def text_process(sentence):
    sentence = "".join([char for char in sentence if char not in string.punctuation])
    clean_words = [w for w in sentence.split() if w not in STOPWORDS]
    return " ".join(clean_words)


X_train_df = X_train_df_raw.text.apply(text_process)


X_test_df = X_test_df_raw.text.apply(text_process)


X_train_df


X_test_df


from sklearn.feature_extraction.text import CountVectorizer

cv = CountVectorizer()


X = cv.fit_transform(X_train_df)
X = X.toarray()


X_test = cv.transform(X_test_df)


cv.get_feature_names_out()


X.shape


from sklearn.model_selection import train_test_split

X_train, X_val, y_train, y_val = train_test_split(X, y, test_size=0.2, random_state=42)


print(X_train.shape, y_train.shape)
print(X_val.shape, y_val.shape)


X_test.shape


model = tf.keras.models.Sequential([
  tf.keras.layers.Dense(128, activation='relu'),
  tf.keras.layers.Dropout(0.2),
  tf.keras.layers.Dense(128, activation='relu'),
  tf.keras.layers.Dropout(0.2),
  tf.keras.layers.Dense(128, activation='relu'),
  tf.keras.layers.Dropout(0.2),
  tf.keras.layers.Dense(2, activation="softmax")
])

model.compile(optimizer='adam',
              loss='sparse_categorical_crossentropy',
              metrics=['accuracy'])



model.fit(X_train, y_train, validation_data=(X_val, y_val), epochs=2)


model.predict(X_test)


ans = np.argmax(model.predict(X_test), 1)


ans_df = pd.DataFrame({"id": test_df.id, "target": ans})


ans_df.to_csv("outputs/ans3.csv", index=False)



