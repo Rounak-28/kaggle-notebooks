# This code cell is to get rid of annoying tensorflow warnings
import os
os.environ['TF_CPP_MIN_LOG_LEVEL'] = '2'


import numpy as np
import pandas as pd
import matplotlib.pyplot as plt
import tensorflow as tf


df_train = pd.read_csv("train.csv")
df_test = pd.read_csv("test.csv")


df_train.head()


df_train['total_acid'] = df_train['fixed acidity'] + df_train['volatile acidity'] + df_train['citric acid']
df_train['acid/density'] = df_train['total_acid']  / df_train['density']
df_train['alcohol_density'] = df_train['alcohol']  * df_train['density']
df_train['sulphate/density'] = df_train['sulphates']  / df_train['density']
df_train['sulphates/acid'] = df_train['sulphates'] / df_train['volatile acidity']
df_train['sulphates/chlorides'] = df_train['sulphates'] / df_train['chlorides']
df_train['sulphates*alcohol'] = df_train['sulphates'] * df_train['alcohol']


df_test['total_acid'] = df_test['fixed acidity'] + df_test['volatile acidity'] + df_test['citric acid']
df_test['acid/density'] = df_test['total_acid']  / df_test['density']
df_test['alcohol_density'] = df_test['alcohol']  * df_test['density']
df_test['sulphate/density'] = df_test['sulphates']  / df_test['density']
df_test['sulphates/acid'] = df_test['sulphates'] / df_test['volatile acidity']
df_test['sulphates/chlorides'] = df_test['sulphates'] / df_test['chlorides']
df_test['sulphates*alcohol'] = df_test['sulphates'] * df_test['alcohol']


df_train.head()


df_train.describe()


df_train["residual sugar"] = df_train["residual sugar"] / 16
df_train["free sulfur dioxide"] = df_train["free sulfur dioxide"] / 70
df_train["total sulfur dioxide"] = df_train["total sulfur dioxide"] / 300
df_train["total_acid"] = df_train["total_acid"] / 20
df_train["acid/density"] = df_train["acid/density"] / 20
df_train["alcohol_density"] = df_train["alcohol_density"] / 14
df_train["sulphate/density"] = df_train["sulphate/density"] / 2
df_train["sulphates/acid"] = df_train["sulphates/acid"] / 8
df_train["sulphates/chlorides"] = df_train["sulphates/chlorides"] / 64
df_train["sulphates*alcohol"] = df_train["sulphates*alcohol"] / 22


df_test["residual sugar"] = df_test["residual sugar"] / 16
df_test["free sulfur dioxide"] = df_test["free sulfur dioxide"] / 70
df_test["total sulfur dioxide"] = df_test["total sulfur dioxide"] / 300
df_test["total_acid"] = df_test["total_acid"] / 20
df_test["acid/density"] = df_test["acid/density"] / 20
df_test["alcohol_density"] = df_test["alcohol_density"] / 14
df_test["sulphate/density"] = df_test["sulphate/density"] / 2
df_test["sulphates/acid"] = df_test["sulphates/acid"] / 8
df_test["sulphates/chlorides"] = df_test["sulphates/chlorides"] / 64
df_test["sulphates*alcohol"] = df_test["sulphates*alcohol"] / 22


df_train


y_train = df_train["quality"]


X_train = df_train.drop(["Id", "quality", "fixed acidity", "volatile acidity", "chlorides", "density", "sulphates", "alcohol"],axis=1).to_numpy()
X_test = df_test.drop(["Id", "fixed acidity", "volatile acidity", "chlorides", "density", "sulphates", "alcohol"],axis=1).to_numpy()


model = tf.keras.models.Sequential([
  tf.keras.layers.Flatten(),
  tf.keras.layers.Dense(256, activation='relu'),
  tf.keras.layers.Dropout(0.4),
  tf.keras.layers.Dense(128, activation='relu'),
  tf.keras.layers.Dropout(0.4),
  tf.keras.layers.Dense(9, activation='softmax')
])
# from sklearn.linear_model import LogisticRegression
# model1 = LogisticRegression(max_iter=10000)


model.compile(optimizer='AdaMax',
              loss='sparse_categorical_crossentropy',
              metrics=['accuracy'])



model.fit(X_train, y_train, epochs=50)
# model1.fit(X_train, y_train)


# ans1 = model1.predict(X_test)


ans = np.argmax(model.predict(X_test), 1)


ans


df_ans = pd.DataFrame({"Id": df_test["Id"], "quality": ans})
# df_ans1 = pd.DataFrame({"Id": df_test["Id"], "quality": ans1})


df_ans.to_csv("outputs/ans5.csv", index=False)



