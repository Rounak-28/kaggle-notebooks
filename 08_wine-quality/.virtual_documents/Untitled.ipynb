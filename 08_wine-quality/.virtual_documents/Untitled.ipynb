# This code cell is to get rid of annoying tensorflow warnings
import os
os.environ['TF_CPP_MIN_LOG_LEVEL'] = '2'
