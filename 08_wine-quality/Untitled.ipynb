{
 "cells": [
  {
   "cell_type": "code",
   "execution_count": 1,
   "id": "549a6390-92a1-476f-b743-6867453910c2",
   "metadata": {},
   "outputs": [],
   "source": [
    "# This code cell is to get rid of annoying tensorflow warnings\n",
    "import os\n",
    "os.environ['TF_CPP_MIN_LOG_LEVEL'] = '2'"
   ]
  },
  {
   "cell_type": "code",
   "execution_count": 2,
   "id": "04713bbf-97f9-458c-a9bc-67ad3fde734b",
   "metadata": {},
   "outputs": [],
   "source": [
    "import numpy as np\n",
    "import pandas as pd\n",
    "import matplotlib.pyplot as plt\n",
    "import tensorflow as tf"
   ]
  },
  {
   "cell_type": "code",
   "execution_count": 3,
   "id": "c97cf37d-52b4-4c78-b3b4-1388b846e4ca",
   "metadata": {},
   "outputs": [],
   "source": [
    "df_train = pd.read_csv(\"train.csv\")\n",
    "df_test = pd.read_csv(\"test.csv\")"
   ]
  },
  {
   "cell_type": "code",
   "execution_count": 4,
   "id": "edc96926-55a0-4d2f-9227-d0d814f6bf09",
   "metadata": {},
   "outputs": [
    {
     "data": {
      "text/html": [
       "<div>\n",
       "<style scoped>\n",
       "    .dataframe tbody tr th:only-of-type {\n",
       "        vertical-align: middle;\n",
       "    }\n",
       "\n",
       "    .dataframe tbody tr th {\n",
       "        vertical-align: top;\n",
       "    }\n",
       "\n",
       "    .dataframe thead th {\n",
       "        text-align: right;\n",
       "    }\n",
       "</style>\n",
       "<table border=\"1\" class=\"dataframe\">\n",
       "  <thead>\n",
       "    <tr style=\"text-align: right;\">\n",
       "      <th></th>\n",
       "      <th>Id</th>\n",
       "      <th>fixed acidity</th>\n",
       "      <th>volatile acidity</th>\n",
       "      <th>citric acid</th>\n",
       "      <th>residual sugar</th>\n",
       "      <th>chlorides</th>\n",
       "      <th>free sulfur dioxide</th>\n",
       "      <th>total sulfur dioxide</th>\n",
       "      <th>density</th>\n",
       "      <th>pH</th>\n",
       "      <th>sulphates</th>\n",
       "      <th>alcohol</th>\n",
       "      <th>quality</th>\n",
       "    </tr>\n",
       "  </thead>\n",
       "  <tbody>\n",
       "    <tr>\n",
       "      <th>0</th>\n",
       "      <td>0</td>\n",
       "      <td>8.0</td>\n",
       "      <td>0.50</td>\n",
       "      <td>0.39</td>\n",
       "      <td>2.2</td>\n",
       "      <td>0.073</td>\n",
       "      <td>30.0</td>\n",
       "      <td>39.0</td>\n",
       "      <td>0.99572</td>\n",
       "      <td>3.33</td>\n",
       "      <td>0.77</td>\n",
       "      <td>12.1</td>\n",
       "      <td>6</td>\n",
       "    </tr>\n",
       "    <tr>\n",
       "      <th>1</th>\n",
       "      <td>1</td>\n",
       "      <td>9.3</td>\n",
       "      <td>0.30</td>\n",
       "      <td>0.73</td>\n",
       "      <td>2.3</td>\n",
       "      <td>0.092</td>\n",
       "      <td>30.0</td>\n",
       "      <td>67.0</td>\n",
       "      <td>0.99854</td>\n",
       "      <td>3.32</td>\n",
       "      <td>0.67</td>\n",
       "      <td>12.8</td>\n",
       "      <td>6</td>\n",
       "    </tr>\n",
       "    <tr>\n",
       "      <th>2</th>\n",
       "      <td>2</td>\n",
       "      <td>7.1</td>\n",
       "      <td>0.51</td>\n",
       "      <td>0.03</td>\n",
       "      <td>2.1</td>\n",
       "      <td>0.059</td>\n",
       "      <td>3.0</td>\n",
       "      <td>12.0</td>\n",
       "      <td>0.99660</td>\n",
       "      <td>3.52</td>\n",
       "      <td>0.73</td>\n",
       "      <td>11.3</td>\n",
       "      <td>7</td>\n",
       "    </tr>\n",
       "    <tr>\n",
       "      <th>3</th>\n",
       "      <td>3</td>\n",
       "      <td>8.1</td>\n",
       "      <td>0.87</td>\n",
       "      <td>0.22</td>\n",
       "      <td>2.6</td>\n",
       "      <td>0.084</td>\n",
       "      <td>11.0</td>\n",
       "      <td>65.0</td>\n",
       "      <td>0.99730</td>\n",
       "      <td>3.20</td>\n",
       "      <td>0.53</td>\n",
       "      <td>9.8</td>\n",
       "      <td>5</td>\n",
       "    </tr>\n",
       "    <tr>\n",
       "      <th>4</th>\n",
       "      <td>4</td>\n",
       "      <td>8.5</td>\n",
       "      <td>0.36</td>\n",
       "      <td>0.30</td>\n",
       "      <td>2.3</td>\n",
       "      <td>0.079</td>\n",
       "      <td>10.0</td>\n",
       "      <td>45.0</td>\n",
       "      <td>0.99444</td>\n",
       "      <td>3.20</td>\n",
       "      <td>1.36</td>\n",
       "      <td>9.5</td>\n",
       "      <td>6</td>\n",
       "    </tr>\n",
       "  </tbody>\n",
       "</table>\n",
       "</div>"
      ],
      "text/plain": [
       "   Id  fixed acidity  volatile acidity  citric acid  residual sugar  \\\n",
       "0   0            8.0              0.50         0.39             2.2   \n",
       "1   1            9.3              0.30         0.73             2.3   \n",
       "2   2            7.1              0.51         0.03             2.1   \n",
       "3   3            8.1              0.87         0.22             2.6   \n",
       "4   4            8.5              0.36         0.30             2.3   \n",
       "\n",
       "   chlorides  free sulfur dioxide  total sulfur dioxide  density    pH  \\\n",
       "0      0.073                 30.0                  39.0  0.99572  3.33   \n",
       "1      0.092                 30.0                  67.0  0.99854  3.32   \n",
       "2      0.059                  3.0                  12.0  0.99660  3.52   \n",
       "3      0.084                 11.0                  65.0  0.99730  3.20   \n",
       "4      0.079                 10.0                  45.0  0.99444  3.20   \n",
       "\n",
       "   sulphates  alcohol  quality  \n",
       "0       0.77     12.1        6  \n",
       "1       0.67     12.8        6  \n",
       "2       0.73     11.3        7  \n",
       "3       0.53      9.8        5  \n",
       "4       1.36      9.5        6  "
      ]
     },
     "execution_count": 4,
     "metadata": {},
     "output_type": "execute_result"
    }
   ],
   "source": [
    "df_train.head()"
   ]
  },
  {
   "cell_type": "code",
   "execution_count": 5,
   "id": "0b696c70-e448-4104-9983-c079f76884a9",
   "metadata": {},
   "outputs": [],
   "source": [
    "df_train['total_acid'] = df_train['fixed acidity'] + df_train['volatile acidity'] + df_train['citric acid']\n",
    "df_train['acid/density'] = df_train['total_acid']  / df_train['density']\n",
    "df_train['alcohol_density'] = df_train['alcohol']  * df_train['density']\n",
    "df_train['sulphate/density'] = df_train['sulphates']  / df_train['density']\n",
    "df_train['sulphates/acid'] = df_train['sulphates'] / df_train['volatile acidity']\n",
    "df_train['sulphates/chlorides'] = df_train['sulphates'] / df_train['chlorides']\n",
    "df_train['sulphates*alcohol'] = df_train['sulphates'] * df_train['alcohol']"
   ]
  },
  {
   "cell_type": "code",
   "execution_count": 6,
   "id": "eb68d0f7-2a95-4fba-8da0-dca2daf3596c",
   "metadata": {},
   "outputs": [],
   "source": [
    "df_test['total_acid'] = df_test['fixed acidity'] + df_test['volatile acidity'] + df_test['citric acid']\n",
    "df_test['acid/density'] = df_test['total_acid']  / df_test['density']\n",
    "df_test['alcohol_density'] = df_test['alcohol']  * df_test['density']\n",
    "df_test['sulphate/density'] = df_test['sulphates']  / df_test['density']\n",
    "df_test['sulphates/acid'] = df_test['sulphates'] / df_test['volatile acidity']\n",
    "df_test['sulphates/chlorides'] = df_test['sulphates'] / df_test['chlorides']\n",
    "df_test['sulphates*alcohol'] = df_test['sulphates'] * df_test['alcohol']"
   ]
  },
  {
   "cell_type": "code",
   "execution_count": null,
   "id": "0a3aefd0-458c-4aec-8119-7cce5efe6db8",
   "metadata": {},
   "outputs": [],
   "source": [
    "df_train.head()"
   ]
  },
  {
   "cell_type": "code",
   "execution_count": null,
   "id": "4d33840c-1c0f-4294-8326-0b26a8f3a8cb",
   "metadata": {},
   "outputs": [],
   "source": [
    "df_train.describe()"
   ]
  },
  {
   "cell_type": "code",
   "execution_count": 7,
   "id": "20653a95-7b78-4e86-bcb4-ab42a1d2e31f",
   "metadata": {},
   "outputs": [],
   "source": [
    "df_train[\"residual sugar\"] = df_train[\"residual sugar\"] / 16\n",
    "df_train[\"free sulfur dioxide\"] = df_train[\"free sulfur dioxide\"] / 70\n",
    "df_train[\"total sulfur dioxide\"] = df_train[\"total sulfur dioxide\"] / 300\n",
    "df_train[\"total_acid\"] = df_train[\"total_acid\"] / 20\n",
    "df_train[\"acid/density\"] = df_train[\"acid/density\"] / 20\n",
    "df_train[\"alcohol_density\"] = df_train[\"alcohol_density\"] / 14\n",
    "df_train[\"sulphate/density\"] = df_train[\"sulphate/density\"] / 2\n",
    "df_train[\"sulphates/acid\"] = df_train[\"sulphates/acid\"] / 8\n",
    "df_train[\"sulphates/chlorides\"] = df_train[\"sulphates/chlorides\"] / 64\n",
    "df_train[\"sulphates*alcohol\"] = df_train[\"sulphates*alcohol\"] / 22"
   ]
  },
  {
   "cell_type": "code",
   "execution_count": 8,
   "id": "ea368c76-1638-45fb-9ff2-c762a65d2827",
   "metadata": {},
   "outputs": [],
   "source": [
    "df_test[\"residual sugar\"] = df_test[\"residual sugar\"] / 16\n",
    "df_test[\"free sulfur dioxide\"] = df_test[\"free sulfur dioxide\"] / 70\n",
    "df_test[\"total sulfur dioxide\"] = df_test[\"total sulfur dioxide\"] / 300\n",
    "df_test[\"total_acid\"] = df_test[\"total_acid\"] / 20\n",
    "df_test[\"acid/density\"] = df_test[\"acid/density\"] / 20\n",
    "df_test[\"alcohol_density\"] = df_test[\"alcohol_density\"] / 14\n",
    "df_test[\"sulphate/density\"] = df_test[\"sulphate/density\"] / 2\n",
    "df_test[\"sulphates/acid\"] = df_test[\"sulphates/acid\"] / 8\n",
    "df_test[\"sulphates/chlorides\"] = df_test[\"sulphates/chlorides\"] / 64\n",
    "df_test[\"sulphates*alcohol\"] = df_test[\"sulphates*alcohol\"] / 22"
   ]
  },
  {
   "cell_type": "code",
   "execution_count": null,
   "id": "1c31046e-37d8-43e6-8285-ae7b4ddb97a9",
   "metadata": {},
   "outputs": [],
   "source": [
    "df_train"
   ]
  },
  {
   "cell_type": "code",
   "execution_count": 9,
   "id": "3c35a8c0-8d7c-4694-8e21-1f0d5998177a",
   "metadata": {},
   "outputs": [],
   "source": [
    "y_train = df_train[\"quality\"]"
   ]
  },
  {
   "cell_type": "code",
   "execution_count": 10,
   "id": "71db43a8-743f-4325-aaa1-d621b1229cea",
   "metadata": {},
   "outputs": [],
   "source": [
    "X_train = df_train.drop([\"Id\", \"quality\", \"fixed acidity\", \"volatile acidity\", \"chlorides\", \"density\", \"sulphates\", \"alcohol\"],axis=1).to_numpy()\n",
    "X_test = df_test.drop([\"Id\", \"fixed acidity\", \"volatile acidity\", \"chlorides\", \"density\", \"sulphates\", \"alcohol\"],axis=1).to_numpy()"
   ]
  },
  {
   "cell_type": "code",
   "execution_count": 16,
   "id": "d56aec63-55b1-46a0-ad3c-935753fd161c",
   "metadata": {},
   "outputs": [],
   "source": [
    "model = tf.keras.models.Sequential([\n",
    "  tf.keras.layers.Flatten(),\n",
    "  tf.keras.layers.Dense(256, activation='relu'),\n",
    "  tf.keras.layers.Dropout(0.4),\n",
    "  tf.keras.layers.Dense(128, activation='relu'),\n",
    "  tf.keras.layers.Dropout(0.4),\n",
    "  tf.keras.layers.Dense(9, activation='softmax')\n",
    "])\n",
    "# from sklearn.linear_model import LogisticRegression\n",
    "# model1 = LogisticRegression(max_iter=10000)"
   ]
  },
  {
   "cell_type": "code",
   "execution_count": 17,
   "id": "1c2fbbc5-6265-4e55-a9d2-327738d976af",
   "metadata": {},
   "outputs": [],
   "source": [
    "model.compile(optimizer='AdaMax',\n",
    "              loss='sparse_categorical_crossentropy',\n",
    "              metrics=['accuracy'])\n"
   ]
  },
  {
   "cell_type": "code",
   "execution_count": 18,
   "id": "2707d15d-6e3c-40de-b44d-d49b29617531",
   "metadata": {},
   "outputs": [
    {
     "name": "stdout",
     "output_type": "stream",
     "text": [
      "Epoch 1/50\n",
      "65/65 [==============================] - 1s 3ms/step - loss: 1.4895 - accuracy: 0.3983\n",
      "Epoch 2/50\n",
      "65/65 [==============================] - 0s 3ms/step - loss: 1.2992 - accuracy: 0.3998\n",
      "Epoch 3/50\n",
      "65/65 [==============================] - 0s 3ms/step - loss: 1.2841 - accuracy: 0.4314\n",
      "Epoch 4/50\n",
      "65/65 [==============================] - 0s 3ms/step - loss: 1.2513 - accuracy: 0.4329\n",
      "Epoch 5/50\n",
      "65/65 [==============================] - 0s 3ms/step - loss: 1.2556 - accuracy: 0.4295\n",
      "Epoch 6/50\n",
      "65/65 [==============================] - 0s 3ms/step - loss: 1.2462 - accuracy: 0.4329\n",
      "Epoch 7/50\n",
      "65/65 [==============================] - 0s 3ms/step - loss: 1.2310 - accuracy: 0.4742\n",
      "Epoch 8/50\n",
      "65/65 [==============================] - 0s 3ms/step - loss: 1.2134 - accuracy: 0.4660\n",
      "Epoch 9/50\n",
      "65/65 [==============================] - 0s 3ms/step - loss: 1.2061 - accuracy: 0.4883\n",
      "Epoch 10/50\n",
      "65/65 [==============================] - 0s 3ms/step - loss: 1.1977 - accuracy: 0.4815\n",
      "Epoch 11/50\n",
      "65/65 [==============================] - 0s 3ms/step - loss: 1.1854 - accuracy: 0.5097\n",
      "Epoch 12/50\n",
      "65/65 [==============================] - 0s 3ms/step - loss: 1.1805 - accuracy: 0.5092\n",
      "Epoch 13/50\n",
      "65/65 [==============================] - 0s 3ms/step - loss: 1.1729 - accuracy: 0.5083\n",
      "Epoch 14/50\n",
      "65/65 [==============================] - 0s 3ms/step - loss: 1.1475 - accuracy: 0.5078\n",
      "Epoch 15/50\n",
      "65/65 [==============================] - 0s 3ms/step - loss: 1.1495 - accuracy: 0.5209\n",
      "Epoch 16/50\n",
      "65/65 [==============================] - 0s 3ms/step - loss: 1.1448 - accuracy: 0.5229\n",
      "Epoch 17/50\n",
      "65/65 [==============================] - 0s 3ms/step - loss: 1.1486 - accuracy: 0.5112\n",
      "Epoch 18/50\n",
      "65/65 [==============================] - 0s 3ms/step - loss: 1.1319 - accuracy: 0.5326\n",
      "Epoch 19/50\n",
      "65/65 [==============================] - 0s 3ms/step - loss: 1.1327 - accuracy: 0.5340\n",
      "Epoch 20/50\n",
      "65/65 [==============================] - 0s 3ms/step - loss: 1.1288 - accuracy: 0.5384\n",
      "Epoch 21/50\n",
      "65/65 [==============================] - 0s 3ms/step - loss: 1.1186 - accuracy: 0.5302\n",
      "Epoch 22/50\n",
      "65/65 [==============================] - 0s 3ms/step - loss: 1.1135 - accuracy: 0.5365\n",
      "Epoch 23/50\n",
      "65/65 [==============================] - 0s 4ms/step - loss: 1.1095 - accuracy: 0.5331\n",
      "Epoch 24/50\n",
      "65/65 [==============================] - 0s 3ms/step - loss: 1.1139 - accuracy: 0.5394\n",
      "Epoch 25/50\n",
      "65/65 [==============================] - 0s 3ms/step - loss: 1.1023 - accuracy: 0.5496\n",
      "Epoch 26/50\n",
      "65/65 [==============================] - 0s 3ms/step - loss: 1.1092 - accuracy: 0.5540\n",
      "Epoch 27/50\n",
      "65/65 [==============================] - 0s 3ms/step - loss: 1.1089 - accuracy: 0.5433\n",
      "Epoch 28/50\n",
      "65/65 [==============================] - 0s 3ms/step - loss: 1.1034 - accuracy: 0.5467\n",
      "Epoch 29/50\n",
      "65/65 [==============================] - 0s 3ms/step - loss: 1.0991 - accuracy: 0.5428\n",
      "Epoch 30/50\n",
      "65/65 [==============================] - 0s 3ms/step - loss: 1.1003 - accuracy: 0.5540\n",
      "Epoch 31/50\n",
      "65/65 [==============================] - 0s 3ms/step - loss: 1.0922 - accuracy: 0.5642\n",
      "Epoch 32/50\n",
      "65/65 [==============================] - 0s 3ms/step - loss: 1.0907 - accuracy: 0.5584\n",
      "Epoch 33/50\n",
      "65/65 [==============================] - 0s 3ms/step - loss: 1.0940 - accuracy: 0.5365\n",
      "Epoch 34/50\n",
      "65/65 [==============================] - 0s 3ms/step - loss: 1.0773 - accuracy: 0.5598\n",
      "Epoch 35/50\n",
      "65/65 [==============================] - 0s 3ms/step - loss: 1.0913 - accuracy: 0.5496\n",
      "Epoch 36/50\n",
      "65/65 [==============================] - 0s 3ms/step - loss: 1.0851 - accuracy: 0.5579\n",
      "Epoch 37/50\n",
      "65/65 [==============================] - 0s 3ms/step - loss: 1.0842 - accuracy: 0.5540\n",
      "Epoch 38/50\n",
      "65/65 [==============================] - 0s 3ms/step - loss: 1.0883 - accuracy: 0.5491\n",
      "Epoch 39/50\n",
      "65/65 [==============================] - 0s 3ms/step - loss: 1.0779 - accuracy: 0.5598\n",
      "Epoch 40/50\n",
      "65/65 [==============================] - 0s 3ms/step - loss: 1.0752 - accuracy: 0.5593\n",
      "Epoch 41/50\n",
      "65/65 [==============================] - 0s 3ms/step - loss: 1.0770 - accuracy: 0.5491\n",
      "Epoch 42/50\n",
      "65/65 [==============================] - 0s 3ms/step - loss: 1.0717 - accuracy: 0.5608\n",
      "Epoch 43/50\n",
      "65/65 [==============================] - 0s 3ms/step - loss: 1.0683 - accuracy: 0.5608\n",
      "Epoch 44/50\n",
      "65/65 [==============================] - 0s 3ms/step - loss: 1.0722 - accuracy: 0.5637\n",
      "Epoch 45/50\n",
      "65/65 [==============================] - 0s 3ms/step - loss: 1.0651 - accuracy: 0.5598\n",
      "Epoch 46/50\n",
      "65/65 [==============================] - 0s 3ms/step - loss: 1.0835 - accuracy: 0.5603\n",
      "Epoch 47/50\n",
      "65/65 [==============================] - 0s 3ms/step - loss: 1.0849 - accuracy: 0.5613\n",
      "Epoch 48/50\n",
      "65/65 [==============================] - 0s 3ms/step - loss: 1.0723 - accuracy: 0.5720\n",
      "Epoch 49/50\n",
      "65/65 [==============================] - 0s 3ms/step - loss: 1.0757 - accuracy: 0.5486\n",
      "Epoch 50/50\n",
      "65/65 [==============================] - 0s 3ms/step - loss: 1.0716 - accuracy: 0.5559\n"
     ]
    },
    {
     "data": {
      "text/plain": [
       "<keras.callbacks.History at 0x7fc8fbe45e80>"
      ]
     },
     "execution_count": 18,
     "metadata": {},
     "output_type": "execute_result"
    }
   ],
   "source": [
    "model.fit(X_train, y_train, epochs=50)\n",
    "# model1.fit(X_train, y_train)"
   ]
  },
  {
   "cell_type": "code",
   "execution_count": null,
   "id": "fc21a84d-d2bd-41fc-a712-c669d7d12262",
   "metadata": {},
   "outputs": [],
   "source": [
    "# ans1 = model1.predict(X_test)"
   ]
  },
  {
   "cell_type": "code",
   "execution_count": 19,
   "id": "9527395c-d003-493c-b0f0-e7db3a3b83bb",
   "metadata": {},
   "outputs": [
    {
     "name": "stdout",
     "output_type": "stream",
     "text": [
      "43/43 [==============================] - 0s 1ms/step\n"
     ]
    }
   ],
   "source": [
    "ans = np.argmax(model.predict(X_test), 1)"
   ]
  },
  {
   "cell_type": "code",
   "execution_count": 20,
   "id": "0dfaa63d-9168-4027-bc0e-20d8020cb3a9",
   "metadata": {},
   "outputs": [
    {
     "data": {
      "text/plain": [
       "array([5, 6, 6, ..., 5, 5, 5])"
      ]
     },
     "execution_count": 20,
     "metadata": {},
     "output_type": "execute_result"
    }
   ],
   "source": [
    "ans"
   ]
  },
  {
   "cell_type": "code",
   "execution_count": 21,
   "id": "12d67bc8-e1a5-45f9-aee0-3d406483b239",
   "metadata": {},
   "outputs": [],
   "source": [
    "df_ans = pd.DataFrame({\"Id\": df_test[\"Id\"], \"quality\": ans})\n",
    "# df_ans1 = pd.DataFrame({\"Id\": df_test[\"Id\"], \"quality\": ans1})"
   ]
  },
  {
   "cell_type": "code",
   "execution_count": 22,
   "id": "48dbdaec-6007-46c8-9cac-1a9ddfc15d68",
   "metadata": {},
   "outputs": [],
   "source": [
    "df_ans.to_csv(\"outputs/ans5.csv\", index=False)"
   ]
  },
  {
   "cell_type": "code",
   "execution_count": null,
   "id": "503504f0-97cd-4b71-8a98-fa226183700d",
   "metadata": {},
   "outputs": [],
   "source": []
  }
 ],
 "metadata": {
  "kernelspec": {
   "display_name": "Python 3 (ipykernel)",
   "language": "python",
   "name": "python3"
  },
  "language_info": {
   "codemirror_mode": {
    "name": "ipython",
    "version": 3
   },
   "file_extension": ".py",
   "mimetype": "text/x-python",
   "name": "python",
   "nbconvert_exporter": "python",
   "pygments_lexer": "ipython3",
   "version": "3.9.16"
  }
 },
 "nbformat": 4,
 "nbformat_minor": 5
}
