import numpy as np
import pandas as pd


train_df = pd.read_csv("train.csv")


# train_df.head()


train_df = train_df.fillna(0)


train_df["Sex"] = train_df["Sex"] == "male"


train_df["Sex"] = train_df["Sex"].astype(int)


train_df.head()


train_df.corr()["Survived"]


cols = ["Pclass", "Sex"]


train_X = train_df[cols]


train_y = train_df["Survived"]


from sklearn.ensemble import RandomForestClassifier


model = RandomForestClassifier()


model.fit(train_X, train_y)


# model.predict(train_X[:10])


# train_y[:10]


test_df = pd.read_csv("test.csv")


test_df.head()


test_df["Sex"] = test_df["Sex"] == "male"


test_df["Sex"] = test_df["Sex"].astype(int)


test_df.head()


test_X = test_df[cols]


model.predict(test_X[:100])


dataArr = model.predict(test_X)


dataDf = pd.DataFrame({"PassengerId":test_df["PassengerId"], "Survived":dataArr})


# dataDf.columns = ["PassengerId", "Survived"]


dataDf.to_csv("ans.csv", index=None)



