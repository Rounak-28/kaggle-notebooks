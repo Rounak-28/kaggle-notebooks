import pandas as pd
from sklearn.model_selection import train_test_split
from sklearn.metrics import accuracy_score
from sklearn.preprocessing import StandardScaler
import torch
import torch.nn as nn
import matplotlib.pyplot as plt


train_df = pd.read_csv("train.csv")
test_df = pd.read_csv("test.csv")


train_df.head(2)


test_df.head(2)


device = "cuda" if torch.cuda.is_available() else "mps" if torch.backends.mps.is_available() else "cpu"


device


X_train_val = train_df.drop(["id", "Class"], axis=1).to_numpy()
X_test = test_df.drop(["id"], axis=1).to_numpy()


y_train_val = train_df.Class.to_numpy()


sc = StandardScaler()
X_train_val = sc.fit_transform(X_train_val)
X_test = sc.transform(X_test)


X_train, X_val, y_train, y_val = train_test_split(X_train_val, y_train_val, test_size=0.10, random_state=42)





# from sklearn.neural_network import MLPClassifier
# sk_model = MLPClassifier(max_iter=1000)

# sk_model.fit(X_train, y_train)

# sk_pre_val = sk_model.predict(X_val)

# accuracy_score(y_val, sk_pre_val)





X_train = torch.tensor(X_train, dtype=torch.float32).to(device)
X_val = torch.tensor(X_val, dtype=torch.float32).to(device)
X_test = torch.tensor(X_test, dtype=torch.float32).to(device)
y_train = torch.tensor(y_train).to(device)
y_val = torch.tensor(y_val).to(device)


print(X_train.shape, y_train.shape)
print(X_val.shape, y_val.shape)
print(X_test.shape)


class NeuralNet(nn.Module):

    def __init__(self):
        super().__init__()
        self.layers = nn.Sequential(
            nn.Linear(8, 64),
            nn.BatchNorm1d(64),
            nn.ReLU(),
            nn.Linear(64, 128),
            nn.BatchNorm1d(128),
            nn.ReLU(),
            nn.Linear(128, 2)
        )

    def forward(self, x):
        x = self.layers(x)
        return x


model = NeuralNet().to(device)
loss_function = nn.CrossEntropyLoss()


optimizer = torch.optim.Adam(model.parameters(), lr=0.001)


loss_track = []


epochs = 1000
for i in range(epochs):

    # forward pass
    y_pred = model.forward(X_train)
    loss = loss_function(y_pred, y_train)

    # loss tracking
    loss_track.append(loss)

    # backward pass
    optimizer.zero_grad()
    loss.backward()
    optimizer.step()

    # printing things...
    if (i+1) % 100 == 0:
        print(f"epoch: {i}, loss={loss.item()}")


plt.plot([t.cpu().detach().numpy() for t in loss_track])


predicated_val_ans = torch.argmax(model(X_val), 1)
print(predicated_val_ans)
print(y_val)


val_accuracy = accuracy_score(y_val.cpu(), predicated_val_ans.cpu())
print("Validation accuracy is %.2f%%" % (val_accuracy*100))


predicated_test_ans = torch.argmax(model(X_test), 1)
print(predicated_test_ans)


ans_df = pd.DataFrame({"id": test_df.id, "Class": predicated_test_ans.cpu()})
ans_df.to_csv("outputs/ans14.csv", index=False)



