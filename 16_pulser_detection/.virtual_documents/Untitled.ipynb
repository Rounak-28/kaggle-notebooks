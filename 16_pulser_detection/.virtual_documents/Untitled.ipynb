import pandas as pd
from sklearn.model_selection import train_test_split
from sklearn.metrics import accuracy_score
from sklearn.preprocessing import StandardScaler
from xgboost import XGBClassifier


train_df = pd.read_csv("train.csv")
test_df = pd.read_csv("test.csv")


train_df.head(2)


test_df.head(2)


X_train_val = train_df.drop(["id", "Class"], axis=1).to_numpy()
X_test = test_df.drop(["id"], axis=1).to_numpy()


y_train_val = train_df.Class.to_numpy()


sc = StandardScaler()
X_train_val = sc.fit_transform(X_train_val)
X_test = sc.transform(X_test)


X_train, X_val, y_train, y_val = train_test_split(X_train_val, y_train_val, test_size=0.10, random_state=42)


print(X_train.shape, y_train.shape)
print(X_val.shape, y_val.shape)
print(X_test.shape)


model = XGBClassifier()
model.fit(X_train, y_train)


predicated_val_ans = model.predict(X_val)
val_accuracy = accuracy_score(y_val, predicated_val_ans)
print("Validation accuracy is %.2f%%" % (val_accuracy*100))


predicated_test_ans = model.predict(X_test)
print(predicated_test_ans)


ans_df = pd.DataFrame({"id": test_df.id, "Class": predicated_test_ans})
ans_df.to_csv("outputs/ans16.csv", index=False)



