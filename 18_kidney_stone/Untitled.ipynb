{
 "cells": [
  {
   "cell_type": "code",
   "execution_count": 1,
   "id": "1af363ac-ec29-4568-9e7c-2737ceddaa14",
   "metadata": {},
   "outputs": [],
   "source": [
    "import pandas as pd\n",
    "from sklearn.model_selection import train_test_split\n",
    "from sklearn.metrics import accuracy_score\n",
    "from xgboost import XGBClassifier"
   ]
  },
  {
   "cell_type": "code",
   "execution_count": 2,
   "id": "8af7c462-7eae-45db-822e-8b7661a223ad",
   "metadata": {},
   "outputs": [],
   "source": [
    "df_train_val = pd.read_csv(\"data/train.csv\")\n",
    "df_test = pd.read_csv(\"data/test.csv\")"
   ]
  },
  {
   "cell_type": "code",
   "execution_count": 3,
   "id": "41a10c39-82ef-487d-9655-02c78296ff69",
   "metadata": {},
   "outputs": [],
   "source": [
    "X_train_val = df_train_val.drop([\"id\", \"target\"], axis=1).to_numpy()\n",
    "X_test = df_test.drop([\"id\"], axis=1).to_numpy()\n",
    "\n",
    "y_train_val = df_train_val.target.to_numpy()"
   ]
  },
  {
   "cell_type": "code",
   "execution_count": 4,
   "id": "9bb42c1b-7501-4993-97e3-6dc769ef6909",
   "metadata": {},
   "outputs": [],
   "source": [
    "X_train, X_val, y_train, y_val = train_test_split(X_train_val, y_train_val, test_size=0.1, random_state=42)"
   ]
  },
  {
   "cell_type": "code",
   "execution_count": 5,
   "id": "3f44f636-d44c-4784-8ef2-b679a94aa6ec",
   "metadata": {},
   "outputs": [
    {
     "name": "stdout",
     "output_type": "stream",
     "text": [
      "(372, 6) (372,)\n",
      "(42, 6) (42,)\n",
      "(276, 6)\n"
     ]
    }
   ],
   "source": [
    "print(X_train.shape, y_train.shape)\n",
    "print(X_val.shape, y_val.shape)\n",
    "print(X_test.shape)"
   ]
  },
  {
   "cell_type": "code",
   "execution_count": 6,
   "id": "edfaa51e-b97d-45bb-b8fd-ef96bcbd1bbd",
   "metadata": {},
   "outputs": [],
   "source": [
    "model = XGBClassifier(n_estimators=10, max_depth=1)"
   ]
  },
  {
   "cell_type": "code",
   "execution_count": 7,
   "id": "4a6bac35-8c98-47d6-b983-26616f05456e",
   "metadata": {},
   "outputs": [
    {
     "data": {
      "text/plain": [
       "XGBClassifier(base_score=None, booster=None, callbacks=None,\n",
       "              colsample_bylevel=None, colsample_bynode=None,\n",
       "              colsample_bytree=None, early_stopping_rounds=None,\n",
       "              enable_categorical=False, eval_metric=None, feature_types=None,\n",
       "              gamma=None, gpu_id=None, grow_policy=None, importance_type=None,\n",
       "              interaction_constraints=None, learning_rate=None, max_bin=None,\n",
       "              max_cat_threshold=None, max_cat_to_onehot=None,\n",
       "              max_delta_step=None, max_depth=1, max_leaves=None,\n",
       "              min_child_weight=None, missing=nan, monotone_constraints=None,\n",
       "              n_estimators=10, n_jobs=None, num_parallel_tree=None,\n",
       "              predictor=None, random_state=None, ...)"
      ]
     },
     "execution_count": 7,
     "metadata": {},
     "output_type": "execute_result"
    }
   ],
   "source": [
    "model.fit(X_train, y_train)"
   ]
  },
  {
   "cell_type": "code",
   "execution_count": 8,
   "id": "989b83cb-38f2-4c22-87d3-ff694f06bcd5",
   "metadata": {},
   "outputs": [
    {
     "name": "stdout",
     "output_type": "stream",
     "text": [
      "[1 1 0 1 0 1 1 0 1 1 0 0 0 1 0 1 0 1 0 1 0 1 0 0 0 0 1 1 0 0 0 0 0 1 0 1 0\n",
      " 0 0 0 0 0]\n"
     ]
    }
   ],
   "source": [
    "predicated_val_ans = model.predict(X_val)\n",
    "print(predicated_val_ans)"
   ]
  },
  {
   "cell_type": "code",
   "execution_count": 9,
   "id": "ef113ef9-c419-4df8-80ac-c4ae1a9aee58",
   "metadata": {},
   "outputs": [
    {
     "name": "stdout",
     "output_type": "stream",
     "text": [
      "val accuracy id: 0.81%\n"
     ]
    }
   ],
   "source": [
    "val_accuracy = accuracy_score(y_val, predicated_val_ans)\n",
    "print(f\"val accuracy id: {val_accuracy:.2f}%\")"
   ]
  },
  {
   "cell_type": "code",
   "execution_count": 10,
   "id": "9fa1c633-4e78-4ea3-a09d-9282b355406c",
   "metadata": {},
   "outputs": [
    {
     "name": "stdout",
     "output_type": "stream",
     "text": [
      "[0 0 1 0 0 1 0 1 0 0 0 0 1 0 0 0 1 0 0 0 0 0 0 1 1 0 0 0 0 1 1 1 1 1 1 0 1\n",
      " 1 0 0 1 0 1 0 1 0 1 0 0 0 1 1 0 0 0 0 1 0 1 0 1 0 0 0 0 1 0 1 0 0 0 1 0 1\n",
      " 0 0 1 0 0 0 0 0 0 0 1 0 0 0 0 1 1 0 0 0 0 1 0 0 1 0 0 1 1 0 1 0 0 1 1 1 0\n",
      " 0 1 0 0 0 0 0 0 1 0 0 0 0 0 0 1 1 1 0 1 0 0 0 1 1 0 1 0 0 0 0 0 1 1 1 0 1\n",
      " 1 1 0 1 0 0 1 1 1 0 0 1 0 0 1 0 0 0 1 0 1 0 0 0 1 1 0 0 0 0 1 0 1 1 0 0 0\n",
      " 0 0 0 1 0 0 1 1 0 0 0 1 0 0 1 0 0 0 0 0 0 1 1 0 0 0 1 1 0 1 1 0 0 0 0 1 1\n",
      " 0 1 0 0 0 0 1 0 0 1 1 1 1 1 1 0 1 1 0 0 1 0 0 0 1 1 1 1 1 0 0 0 0 1 1 1 1\n",
      " 0 0 1 0 0 0 0 1 1 0 0 1 1 0 1 0 0]\n"
     ]
    }
   ],
   "source": [
    "predicated_test_ans = model.predict(X_test)\n",
    "print(predicated_test_ans)"
   ]
  },
  {
   "cell_type": "code",
   "execution_count": 11,
   "id": "28c983c0-b0bd-4c6e-b4f4-546d7097f58b",
   "metadata": {},
   "outputs": [],
   "source": [
    "df_ans = pd.DataFrame({\"id\": df_test.id, \"target\": predicated_test_ans})\n",
    "df_ans.to_csv(\"outputs/ans3.csv\", index=False)"
   ]
  },
  {
   "cell_type": "code",
   "execution_count": null,
   "id": "f0662a95-1f61-4c91-b9c1-eaf4635f33fd",
   "metadata": {},
   "outputs": [],
   "source": []
  }
 ],
 "metadata": {
  "kernelspec": {
   "display_name": "Python 3 (ipykernel)",
   "language": "python",
   "name": "python3"
  },
  "language_info": {
   "codemirror_mode": {
    "name": "ipython",
    "version": 3
   },
   "file_extension": ".py",
   "mimetype": "text/x-python",
   "name": "python",
   "nbconvert_exporter": "python",
   "pygments_lexer": "ipython3",
   "version": "3.9.16"
  }
 },
 "nbformat": 4,
 "nbformat_minor": 5
}
