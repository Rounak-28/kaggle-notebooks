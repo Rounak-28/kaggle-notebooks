import pandas as pd
from sklearn.model_selection import train_test_split
from sklearn.metrics import accuracy_score
from xgboost import XGBClassifier


df_train_val = pd.read_csv("data/train.csv")
df_test = pd.read_csv("data/test.csv")


X_train_val = df_train_val.drop(["id", "target"], axis=1).to_numpy()
X_test = df_test.drop(["id"], axis=1).to_numpy()

y_train_val = df_train_val.target.to_numpy()


X_train, X_val, y_train, y_val = train_test_split(X_train_val, y_train_val, test_size=0.1, random_state=42)


print(X_train.shape, y_train.shape)
print(X_val.shape, y_val.shape)
print(X_test.shape)


model = XGBClassifier(n_estimators=10, max_depth=1)


model.fit(X_train, y_train)


predicated_val_ans = model.predict(X_val)
print(predicated_val_ans)


val_accuracy = accuracy_score(y_val, predicated_val_ans)
print(f"val accuracy id: {val_accuracy:.2f}%")


predicated_test_ans = model.predict(X_test)
print(predicated_test_ans)


df_ans = pd.DataFrame({"id": df_test.id, "target": predicated_test_ans})
df_ans.to_csv("outputs/ans3.csv", index=False)



