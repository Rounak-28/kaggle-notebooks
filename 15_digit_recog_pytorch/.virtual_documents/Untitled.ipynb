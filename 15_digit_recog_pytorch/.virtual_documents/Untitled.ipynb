import pandas as pd
from sklearn.model_selection import train_test_split
import matplotlib.pyplot as plt
from sklearn.metrics import accuracy_score
import torch
import torch.nn as nn


train_df = pd.read_csv("train.csv")
test_df = pd.read_csv("test.csv")


train_df.head()


test_df.head()


y_train_val = train_df.label.to_numpy()
y_train_val


X_train_val = train_df.drop("label", axis=1).to_numpy()
X_train_val.shape


X_test = test_df.to_numpy()
X_test.shape


X_train_val = X_train_val / 255.0
X_test = X_test / 255.0


X_train, X_val, y_train, y_val = train_test_split(X_train_val, y_train_val, test_size=0.10, random_state=42)


print(X_train.shape, y_train.shape)
print(X_val.shape, y_val.shape)
print(X_test.shape)


X_train = torch.tensor(X_train, dtype=torch.float32)
X_val = torch.tensor(X_val, dtype=torch.float32)
X_test = torch.tensor(X_test, dtype=torch.float32)
y_val = torch.tensor(y_val)
y_train = torch.tensor(y_train)


class NeuralNet(nn.Module):

    def __init__(self):
        super().__init__()
        self.flatten = nn.Flatten()
        self.layers = nn.Sequential(
            nn.Linear(28*28, 512),
            nn.ReLU(),
            nn.Linear(512, 512),
            nn.ReLU(),
            nn.Linear(512, 10)
        )

    def forward(self, x):
        x = self.flatten(x)
        x = self.layers(x)
        return x


model = NeuralNet()
loss_function = nn.CrossEntropyLoss()


optimizer = torch.optim.Adam(model.parameters(), lr=0.001)


loss_track = []


epochs = 20

for i in range(epochs):

    # forward pass
    y_pred = model.forward(X_train)
    loss = loss_function(y_pred, y_train)

    # loss tracing
    loss_track.append(loss)

    # backward pass
    optimizer.zero_grad()
    loss.backward()

    # update
    optimizer.step()

    if i % 2 == 0:
        print(f"epoch: {i}, loss={loss.item()}")


plt.plot([t.detach().numpy() for t in loss_track])


predicated_val_values = torch.argmax(model(X_val), 1)
print(predicated_val_values)
print(y_val)


val_score = accuracy_score(y_val, predicated_val_values)
print("validation accuracy is %.2f%%" % (val_score*100))


predicated_test_values = torch.argmax(model(X_test), 1)
print(predicated_test_values)


ans_df = pd.DataFrame({"ImageId": torch.arange(1, test_df.shape[0]+1), "Label": predicated_test_values})
ans_df.to_csv("outputs/ans1.csv", index=False)



