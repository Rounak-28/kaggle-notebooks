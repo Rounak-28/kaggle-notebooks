# This code cell is to get rid of annoying tensorflow warnings
import os
os.environ['TF_CPP_MIN_LOG_LEVEL'] = '2'


import numpy as np
import pandas as pd
from sklearn.feature_extraction.text import CountVectorizer
from nltk.tokenize import RegexpTokenizer
from nltk.stem import PorterStemmer
from nltk.corpus import stopwords
# from sklearn.naive_bayes import MultinomialNB
import tensorflow as tf


df_train = pd.read_csv("train.csv")
df_test = pd.read_csv("test.csv")


df_train.head()


y_train = df_train["target"]


data_train = df_train["text"].to_numpy()
data_test = df_test["text"].to_numpy()


data_train


tokenizer = RegexpTokenizer("\w+")
sw = set(stopwords.words("english"))
ps = PorterStemmer()


def cleanSentence(sent):
    sent = sent.lower()
    words = tokenizer.tokenize(sent)
    cleaned_sent_arr = [w for w in words if w not in sw]
    stemmed_words = [ps.stem(token) for token in cleaned_sent_arr]
    cleaned_sent = " ".join(stemmed_words)
    return cleaned_sent


def getDoc(document):
    d = []
    for doc in document:
        d.append(cleanSentence(doc))
    return np.array(d)


cleaned_data_train = getDoc(data_train)
cleaned_data_test = getDoc(data_test)


data_train


cleaned_data_train


cv = CountVectorizer()


X_train = cv.fit_transform(cleaned_data_train).toarray()
X_test = cv.transform(cleaned_data_test).toarray()


# model = MultinomialNB()

model = tf.keras.models.Sequential([
  tf.keras.layers.Dense(128, activation='relu'),
  tf.keras.layers.Dropout(0.2),
  tf.keras.layers.Dense(2, activation='softmax')
])


model.compile(optimizer='adam',
              loss='sparse_categorical_crossentropy',
              metrics=['accuracy'])


model.fit(X_train, y_train, epochs=5)


X_train.shape, y_train.shape


ans = np.argmax(model.predict(X_test), 1)


df_ans = pd.DataFrame({"id": df_test["id"], "target": ans})


df_ans.to_csv("outputs/ans7.csv", index=False)



