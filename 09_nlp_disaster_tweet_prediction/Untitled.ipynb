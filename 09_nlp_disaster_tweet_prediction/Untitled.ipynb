{
 "cells": [
  {
   "cell_type": "code",
   "execution_count": 1,
   "id": "a854191e-7ae5-419f-b131-7e64c7d6292e",
   "metadata": {},
   "outputs": [],
   "source": [
    "# This code cell is to get rid of annoying tensorflow warnings\n",
    "import os\n",
    "os.environ['TF_CPP_MIN_LOG_LEVEL'] = '2'"
   ]
  },
  {
   "cell_type": "code",
   "execution_count": 2,
   "id": "7c00cb4e-9218-4572-9b70-419d044eea46",
   "metadata": {},
   "outputs": [],
   "source": [
    "import numpy as np\n",
    "import pandas as pd\n",
    "from sklearn.feature_extraction.text import CountVectorizer\n",
    "from nltk.tokenize import RegexpTokenizer\n",
    "from nltk.stem import PorterStemmer\n",
    "from nltk.corpus import stopwords\n",
    "# from sklearn.naive_bayes import MultinomialNB\n",
    "import tensorflow as tf"
   ]
  },
  {
   "cell_type": "code",
   "execution_count": 3,
   "id": "5c555bac-d886-426c-aec4-379ecd979347",
   "metadata": {},
   "outputs": [],
   "source": [
    "df_train = pd.read_csv(\"train.csv\")\n",
    "df_test = pd.read_csv(\"test.csv\")"
   ]
  },
  {
   "cell_type": "code",
   "execution_count": 4,
   "id": "0428acd6-e636-4cff-b686-ed368b37b139",
   "metadata": {},
   "outputs": [
    {
     "data": {
      "text/html": [
       "<div>\n",
       "<style scoped>\n",
       "    .dataframe tbody tr th:only-of-type {\n",
       "        vertical-align: middle;\n",
       "    }\n",
       "\n",
       "    .dataframe tbody tr th {\n",
       "        vertical-align: top;\n",
       "    }\n",
       "\n",
       "    .dataframe thead th {\n",
       "        text-align: right;\n",
       "    }\n",
       "</style>\n",
       "<table border=\"1\" class=\"dataframe\">\n",
       "  <thead>\n",
       "    <tr style=\"text-align: right;\">\n",
       "      <th></th>\n",
       "      <th>id</th>\n",
       "      <th>keyword</th>\n",
       "      <th>location</th>\n",
       "      <th>text</th>\n",
       "      <th>target</th>\n",
       "    </tr>\n",
       "  </thead>\n",
       "  <tbody>\n",
       "    <tr>\n",
       "      <th>0</th>\n",
       "      <td>1</td>\n",
       "      <td>NaN</td>\n",
       "      <td>NaN</td>\n",
       "      <td>Our Deeds are the Reason of this #earthquake M...</td>\n",
       "      <td>1</td>\n",
       "    </tr>\n",
       "    <tr>\n",
       "      <th>1</th>\n",
       "      <td>4</td>\n",
       "      <td>NaN</td>\n",
       "      <td>NaN</td>\n",
       "      <td>Forest fire near La Ronge Sask. Canada</td>\n",
       "      <td>1</td>\n",
       "    </tr>\n",
       "    <tr>\n",
       "      <th>2</th>\n",
       "      <td>5</td>\n",
       "      <td>NaN</td>\n",
       "      <td>NaN</td>\n",
       "      <td>All residents asked to 'shelter in place' are ...</td>\n",
       "      <td>1</td>\n",
       "    </tr>\n",
       "    <tr>\n",
       "      <th>3</th>\n",
       "      <td>6</td>\n",
       "      <td>NaN</td>\n",
       "      <td>NaN</td>\n",
       "      <td>13,000 people receive #wildfires evacuation or...</td>\n",
       "      <td>1</td>\n",
       "    </tr>\n",
       "    <tr>\n",
       "      <th>4</th>\n",
       "      <td>7</td>\n",
       "      <td>NaN</td>\n",
       "      <td>NaN</td>\n",
       "      <td>Just got sent this photo from Ruby #Alaska as ...</td>\n",
       "      <td>1</td>\n",
       "    </tr>\n",
       "  </tbody>\n",
       "</table>\n",
       "</div>"
      ],
      "text/plain": [
       "   id keyword location                                               text  \\\n",
       "0   1     NaN      NaN  Our Deeds are the Reason of this #earthquake M...   \n",
       "1   4     NaN      NaN             Forest fire near La Ronge Sask. Canada   \n",
       "2   5     NaN      NaN  All residents asked to 'shelter in place' are ...   \n",
       "3   6     NaN      NaN  13,000 people receive #wildfires evacuation or...   \n",
       "4   7     NaN      NaN  Just got sent this photo from Ruby #Alaska as ...   \n",
       "\n",
       "   target  \n",
       "0       1  \n",
       "1       1  \n",
       "2       1  \n",
       "3       1  \n",
       "4       1  "
      ]
     },
     "execution_count": 4,
     "metadata": {},
     "output_type": "execute_result"
    }
   ],
   "source": [
    "df_train.head()"
   ]
  },
  {
   "cell_type": "code",
   "execution_count": 5,
   "id": "eb4afb1a-a43a-4a45-b891-f2a9172ca195",
   "metadata": {},
   "outputs": [],
   "source": [
    "y_train = df_train[\"target\"]"
   ]
  },
  {
   "cell_type": "code",
   "execution_count": 6,
   "id": "7bf3cf69-465d-4fc7-8a8c-466212f68891",
   "metadata": {},
   "outputs": [],
   "source": [
    "data_train = df_train[\"text\"].to_numpy()\n",
    "data_test = df_test[\"text\"].to_numpy()"
   ]
  },
  {
   "cell_type": "code",
   "execution_count": 7,
   "id": "70ebe2c8-7bb7-45b4-82b7-f8dae5f07c5c",
   "metadata": {},
   "outputs": [
    {
     "data": {
      "text/plain": [
       "array(['Our Deeds are the Reason of this #earthquake May ALLAH Forgive us all',\n",
       "       'Forest fire near La Ronge Sask. Canada',\n",
       "       \"All residents asked to 'shelter in place' are being notified by officers. No other evacuation or shelter in place orders are expected\",\n",
       "       ...,\n",
       "       'M1.94 [01:04 UTC]?5km S of Volcano Hawaii. http://t.co/zDtoyd8EbJ',\n",
       "       'Police investigating after an e-bike collided with a car in Little Portugal. E-bike rider suffered serious non-life threatening injuries.',\n",
       "       'The Latest: More Homes Razed by Northern California Wildfire - ABC News http://t.co/YmY4rSkQ3d'],\n",
       "      dtype=object)"
      ]
     },
     "execution_count": 7,
     "metadata": {},
     "output_type": "execute_result"
    }
   ],
   "source": [
    "data_train"
   ]
  },
  {
   "cell_type": "code",
   "execution_count": 8,
   "id": "8f6db15a-da2f-4e0e-957c-db5175f3fdbb",
   "metadata": {},
   "outputs": [],
   "source": [
    "tokenizer = RegexpTokenizer(\"\\w+\")\n",
    "sw = set(stopwords.words(\"english\"))\n",
    "ps = PorterStemmer()"
   ]
  },
  {
   "cell_type": "code",
   "execution_count": 9,
   "id": "4a697ca2-7792-48fa-8dcf-106a7767b762",
   "metadata": {},
   "outputs": [],
   "source": [
    "def cleanSentence(sent):\n",
    "    sent = sent.lower()\n",
    "    words = tokenizer.tokenize(sent)\n",
    "    cleaned_sent_arr = [w for w in words if w not in sw]\n",
    "    stemmed_words = [ps.stem(token) for token in cleaned_sent_arr]\n",
    "    cleaned_sent = \" \".join(stemmed_words)\n",
    "    return cleaned_sent"
   ]
  },
  {
   "cell_type": "code",
   "execution_count": 10,
   "id": "813667d1-b3b5-4dbd-979e-8a20cceb0879",
   "metadata": {},
   "outputs": [],
   "source": [
    "def getDoc(document):\n",
    "    d = []\n",
    "    for doc in document:\n",
    "        d.append(cleanSentence(doc))\n",
    "    return np.array(d)"
   ]
  },
  {
   "cell_type": "code",
   "execution_count": 11,
   "id": "559cd2a0-095a-4cec-a146-f9213736e588",
   "metadata": {},
   "outputs": [],
   "source": [
    "cleaned_data_train = getDoc(data_train)\n",
    "cleaned_data_test = getDoc(data_test)"
   ]
  },
  {
   "cell_type": "code",
   "execution_count": 12,
   "id": "2aa4178f-db9e-449e-a020-bb05390d9ce8",
   "metadata": {},
   "outputs": [
    {
     "data": {
      "text/plain": [
       "array(['Our Deeds are the Reason of this #earthquake May ALLAH Forgive us all',\n",
       "       'Forest fire near La Ronge Sask. Canada',\n",
       "       \"All residents asked to 'shelter in place' are being notified by officers. No other evacuation or shelter in place orders are expected\",\n",
       "       ...,\n",
       "       'M1.94 [01:04 UTC]?5km S of Volcano Hawaii. http://t.co/zDtoyd8EbJ',\n",
       "       'Police investigating after an e-bike collided with a car in Little Portugal. E-bike rider suffered serious non-life threatening injuries.',\n",
       "       'The Latest: More Homes Razed by Northern California Wildfire - ABC News http://t.co/YmY4rSkQ3d'],\n",
       "      dtype=object)"
      ]
     },
     "execution_count": 12,
     "metadata": {},
     "output_type": "execute_result"
    }
   ],
   "source": [
    "data_train"
   ]
  },
  {
   "cell_type": "code",
   "execution_count": 13,
   "id": "13e2a8de-a20a-40d5-94cf-5fc3475dfe73",
   "metadata": {},
   "outputs": [
    {
     "data": {
      "text/plain": [
       "array(['deed reason earthquak may allah forgiv us',\n",
       "       'forest fire near la rong sask canada',\n",
       "       'resid ask shelter place notifi offic evacu shelter place order expect',\n",
       "       ..., 'm1 94 01 04 utc 5km volcano hawaii http co zdtoyd8ebj',\n",
       "       'polic investig e bike collid car littl portug e bike rider suffer seriou non life threaten injuri',\n",
       "       'latest home raze northern california wildfir abc news http co ymy4rskq3d'],\n",
       "      dtype='<U129')"
      ]
     },
     "execution_count": 13,
     "metadata": {},
     "output_type": "execute_result"
    }
   ],
   "source": [
    "cleaned_data_train"
   ]
  },
  {
   "cell_type": "code",
   "execution_count": 14,
   "id": "7e2caa72-f67c-4f83-8917-5bdec417786f",
   "metadata": {},
   "outputs": [],
   "source": [
    "cv = CountVectorizer()"
   ]
  },
  {
   "cell_type": "code",
   "execution_count": 15,
   "id": "4800ff7f-a23c-4179-9894-f91d41c0a123",
   "metadata": {},
   "outputs": [],
   "source": [
    "X_train = cv.fit_transform(cleaned_data_train).toarray()\n",
    "X_test = cv.transform(cleaned_data_test).toarray()"
   ]
  },
  {
   "cell_type": "code",
   "execution_count": 16,
   "id": "ccda9a27-626c-434a-8bf7-73fa6a7ecf30",
   "metadata": {},
   "outputs": [],
   "source": [
    "# model = MultinomialNB()\n",
    "\n",
    "model = tf.keras.models.Sequential([\n",
    "  tf.keras.layers.Dense(128, activation='relu'),\n",
    "  tf.keras.layers.Dropout(0.2),\n",
    "  tf.keras.layers.Dense(2, activation='softmax')\n",
    "])"
   ]
  },
  {
   "cell_type": "code",
   "execution_count": 17,
   "id": "eecc6890-3910-4f27-9ea4-9ec1213a0abf",
   "metadata": {},
   "outputs": [],
   "source": [
    "model.compile(optimizer='adam',\n",
    "              loss='sparse_categorical_crossentropy',\n",
    "              metrics=['accuracy'])"
   ]
  },
  {
   "cell_type": "code",
   "execution_count": 18,
   "id": "731630d5-c5b7-4312-b6fc-d2b4e7969133",
   "metadata": {},
   "outputs": [
    {
     "name": "stdout",
     "output_type": "stream",
     "text": [
      "Epoch 1/5\n",
      "238/238 [==============================] - 12s 47ms/step - loss: 0.5030 - accuracy: 0.7700\n",
      "Epoch 2/5\n",
      "238/238 [==============================] - 11s 45ms/step - loss: 0.2520 - accuracy: 0.9020\n",
      "Epoch 3/5\n",
      "238/238 [==============================] - 11s 46ms/step - loss: 0.1222 - accuracy: 0.9581\n",
      "Epoch 4/5\n",
      "238/238 [==============================] - 11s 45ms/step - loss: 0.0702 - accuracy: 0.9745\n",
      "Epoch 5/5\n",
      "238/238 [==============================] - 11s 46ms/step - loss: 0.0462 - accuracy: 0.9838\n"
     ]
    },
    {
     "data": {
      "text/plain": [
       "<keras.callbacks.History at 0x7f83e403e0a0>"
      ]
     },
     "execution_count": 18,
     "metadata": {},
     "output_type": "execute_result"
    }
   ],
   "source": [
    "model.fit(X_train, y_train, epochs=5)"
   ]
  },
  {
   "cell_type": "code",
   "execution_count": 19,
   "id": "659d3a73-2f35-4e14-ad75-8776e51f8205",
   "metadata": {},
   "outputs": [
    {
     "data": {
      "text/plain": [
       "((7613, 18526), (7613,))"
      ]
     },
     "execution_count": 19,
     "metadata": {},
     "output_type": "execute_result"
    }
   ],
   "source": [
    "X_train.shape, y_train.shape"
   ]
  },
  {
   "cell_type": "code",
   "execution_count": 27,
   "id": "3b3e7aad-c419-4f94-98bd-10998198c660",
   "metadata": {},
   "outputs": [
    {
     "name": "stdout",
     "output_type": "stream",
     "text": [
      "102/102 [==============================] - 1s 8ms/step\n"
     ]
    }
   ],
   "source": [
    "ans = np.argmax(model.predict(X_test), 1)"
   ]
  },
  {
   "cell_type": "code",
   "execution_count": 29,
   "id": "7d681696-7e5a-49d0-9f9e-f94fd19ed4cf",
   "metadata": {},
   "outputs": [],
   "source": [
    "df_ans = pd.DataFrame({\"id\": df_test[\"id\"], \"target\": ans})"
   ]
  },
  {
   "cell_type": "code",
   "execution_count": 30,
   "id": "f6778408-e7f7-47c7-9e51-3c9fe109687c",
   "metadata": {},
   "outputs": [],
   "source": [
    "df_ans.to_csv(\"outputs/ans7.csv\", index=None)"
   ]
  },
  {
   "cell_type": "code",
   "execution_count": null,
   "id": "cbbd32a9-1384-4a6c-81e6-067e335331f4",
   "metadata": {},
   "outputs": [],
   "source": []
  }
 ],
 "metadata": {
  "kernelspec": {
   "display_name": "Python 3 (ipykernel)",
   "language": "python",
   "name": "python3"
  },
  "language_info": {
   "codemirror_mode": {
    "name": "ipython",
    "version": 3
   },
   "file_extension": ".py",
   "mimetype": "text/x-python",
   "name": "python",
   "nbconvert_exporter": "python",
   "pygments_lexer": "ipython3",
   "version": "3.9.16"
  }
 },
 "nbformat": 4,
 "nbformat_minor": 5
}
