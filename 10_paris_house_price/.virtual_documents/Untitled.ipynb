import numpy as np
import pandas as pd


df_train = pd.read_csv("train.csv")
df_test = pd.read_csv("test.csv")


df_train.head()


df_test.head()


y_train = df_train["price"]


X_train = df_train.drop(["id", "price"], axis=1)
X_test = df_test.drop("id", axis=1)


from sklearn.linear_model import LinearRegression


model = LinearRegression()


model.fit(X_train, y_train)


ans = model.predict(X_test)


df_ans = pd.DataFrame({"id": df_test["id"], "price": ans})


df_ans.to_csv("outputs/ans1.csv", index=False)



