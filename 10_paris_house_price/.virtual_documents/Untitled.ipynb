# This code cell is to get rid of annoying tensorflow warnings
import os
os.environ['TF_CPP_MIN_LOG_LEVEL'] = '2'


import numpy as np
import pandas as pd
import tensorflow as tf


df_train = pd.read_csv("train.csv")
df_test = pd.read_csv("test.csv")


df_train.head()


y_train = df_train["price"]


X_train = df_train.drop(["id", "price"], axis=1)
X_test = df_test.drop(["id"], axis=1)


from sklearn.preprocessing import StandardScaler, OneHotEncoder
from sklearn.compose import make_column_transformer


transformer = make_column_transformer(
     (StandardScaler(), ['squareMeters', 'cityCode', 'basement', 'attic', 'hasGuestRoom']),
     (OneHotEncoder(handle_unknown='ignore'), ['numberOfRooms', 'floors', 'cityPartRange', 'numPrevOwners', 'made', 'garage']))


transformer.fit(X_train)


X_train = transformer.transform(X_train).toarray()
X_test = transformer.transform(X_test).toarray()


from tensorflow.keras import backend as K
def rmse(y_true, y_pred):
    return K.sqrt(K.mean(K.square(y_pred - y_true)))


model = tf.keras.Sequential([
    tf.keras.layers.Dense(256, activation='relu'),
    tf.keras.layers.Dense(256, activation='relu'),
    tf.keras.layers.Dense(128, activation='relu'),
    tf.keras.layers.Dense(1)
])


model.compile(
    loss=rmse,
    optimizer=tf.keras.optimizers.Adam(),
    metrics=[rmse]
)


model.fit(X_train, y_train, epochs=20)


ans = np.array(model.predict(X_test))


ans = np.squeeze(ans)


ans.shape


df_ans = pd.DataFrame({"id": df_test["id"], "price": ans})


df_ans.to_csv("outputs/ans4.csv", index=False)



