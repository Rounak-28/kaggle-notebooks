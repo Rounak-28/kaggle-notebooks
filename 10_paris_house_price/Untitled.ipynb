{
 "cells": [
  {
   "cell_type": "code",
   "execution_count": 1,
   "id": "3984a350-9af6-4262-b15c-9f2ef30670c6",
   "metadata": {},
   "outputs": [],
   "source": [
    "# This code cell is to get rid of annoying tensorflow warnings\n",
    "import os\n",
    "os.environ['TF_CPP_MIN_LOG_LEVEL'] = '2'"
   ]
  },
  {
   "cell_type": "code",
   "execution_count": 2,
   "id": "b4e14e2e-aa94-47a3-aaeb-c2d98a0bd686",
   "metadata": {},
   "outputs": [],
   "source": [
    "import numpy as np\n",
    "import pandas as pd\n",
    "import tensorflow as tf"
   ]
  },
  {
   "cell_type": "code",
   "execution_count": 3,
   "id": "7bb8e154-1888-4c87-9e51-cd801d2d01bb",
   "metadata": {},
   "outputs": [],
   "source": [
    "df_train = pd.read_csv(\"train.csv\")\n",
    "df_test = pd.read_csv(\"test.csv\")"
   ]
  },
  {
   "cell_type": "code",
   "execution_count": 4,
   "id": "884f655c-557a-4ae2-b5f0-8bcd9cd75ab5",
   "metadata": {},
   "outputs": [
    {
     "data": {
      "text/html": [
       "<div>\n",
       "<style scoped>\n",
       "    .dataframe tbody tr th:only-of-type {\n",
       "        vertical-align: middle;\n",
       "    }\n",
       "\n",
       "    .dataframe tbody tr th {\n",
       "        vertical-align: top;\n",
       "    }\n",
       "\n",
       "    .dataframe thead th {\n",
       "        text-align: right;\n",
       "    }\n",
       "</style>\n",
       "<table border=\"1\" class=\"dataframe\">\n",
       "  <thead>\n",
       "    <tr style=\"text-align: right;\">\n",
       "      <th></th>\n",
       "      <th>id</th>\n",
       "      <th>squareMeters</th>\n",
       "      <th>numberOfRooms</th>\n",
       "      <th>hasYard</th>\n",
       "      <th>hasPool</th>\n",
       "      <th>floors</th>\n",
       "      <th>cityCode</th>\n",
       "      <th>cityPartRange</th>\n",
       "      <th>numPrevOwners</th>\n",
       "      <th>made</th>\n",
       "      <th>isNewBuilt</th>\n",
       "      <th>hasStormProtector</th>\n",
       "      <th>basement</th>\n",
       "      <th>attic</th>\n",
       "      <th>garage</th>\n",
       "      <th>hasStorageRoom</th>\n",
       "      <th>hasGuestRoom</th>\n",
       "      <th>price</th>\n",
       "    </tr>\n",
       "  </thead>\n",
       "  <tbody>\n",
       "    <tr>\n",
       "      <th>0</th>\n",
       "      <td>0</td>\n",
       "      <td>34291</td>\n",
       "      <td>24</td>\n",
       "      <td>1</td>\n",
       "      <td>0</td>\n",
       "      <td>47</td>\n",
       "      <td>35693</td>\n",
       "      <td>2</td>\n",
       "      <td>1</td>\n",
       "      <td>2000</td>\n",
       "      <td>0</td>\n",
       "      <td>1</td>\n",
       "      <td>8</td>\n",
       "      <td>5196</td>\n",
       "      <td>369</td>\n",
       "      <td>0</td>\n",
       "      <td>3</td>\n",
       "      <td>3436795.2</td>\n",
       "    </tr>\n",
       "    <tr>\n",
       "      <th>1</th>\n",
       "      <td>1</td>\n",
       "      <td>95145</td>\n",
       "      <td>60</td>\n",
       "      <td>0</td>\n",
       "      <td>1</td>\n",
       "      <td>60</td>\n",
       "      <td>34773</td>\n",
       "      <td>1</td>\n",
       "      <td>4</td>\n",
       "      <td>2000</td>\n",
       "      <td>0</td>\n",
       "      <td>1</td>\n",
       "      <td>729</td>\n",
       "      <td>4496</td>\n",
       "      <td>277</td>\n",
       "      <td>0</td>\n",
       "      <td>6</td>\n",
       "      <td>9519958.0</td>\n",
       "    </tr>\n",
       "    <tr>\n",
       "      <th>2</th>\n",
       "      <td>2</td>\n",
       "      <td>92661</td>\n",
       "      <td>45</td>\n",
       "      <td>1</td>\n",
       "      <td>1</td>\n",
       "      <td>62</td>\n",
       "      <td>45457</td>\n",
       "      <td>4</td>\n",
       "      <td>8</td>\n",
       "      <td>2020</td>\n",
       "      <td>1</td>\n",
       "      <td>1</td>\n",
       "      <td>7473</td>\n",
       "      <td>8953</td>\n",
       "      <td>245</td>\n",
       "      <td>1</td>\n",
       "      <td>9</td>\n",
       "      <td>9276448.1</td>\n",
       "    </tr>\n",
       "    <tr>\n",
       "      <th>3</th>\n",
       "      <td>3</td>\n",
       "      <td>97184</td>\n",
       "      <td>99</td>\n",
       "      <td>0</td>\n",
       "      <td>0</td>\n",
       "      <td>59</td>\n",
       "      <td>15113</td>\n",
       "      <td>1</td>\n",
       "      <td>1</td>\n",
       "      <td>2000</td>\n",
       "      <td>0</td>\n",
       "      <td>1</td>\n",
       "      <td>6424</td>\n",
       "      <td>8522</td>\n",
       "      <td>256</td>\n",
       "      <td>1</td>\n",
       "      <td>9</td>\n",
       "      <td>9725732.2</td>\n",
       "    </tr>\n",
       "    <tr>\n",
       "      <th>4</th>\n",
       "      <td>4</td>\n",
       "      <td>61752</td>\n",
       "      <td>100</td>\n",
       "      <td>0</td>\n",
       "      <td>0</td>\n",
       "      <td>57</td>\n",
       "      <td>64245</td>\n",
       "      <td>8</td>\n",
       "      <td>4</td>\n",
       "      <td>2018</td>\n",
       "      <td>1</td>\n",
       "      <td>0</td>\n",
       "      <td>7151</td>\n",
       "      <td>2786</td>\n",
       "      <td>863</td>\n",
       "      <td>0</td>\n",
       "      <td>7</td>\n",
       "      <td>6181908.8</td>\n",
       "    </tr>\n",
       "  </tbody>\n",
       "</table>\n",
       "</div>"
      ],
      "text/plain": [
       "   id  squareMeters  numberOfRooms  hasYard  hasPool  floors  cityCode  \\\n",
       "0   0         34291             24        1        0      47     35693   \n",
       "1   1         95145             60        0        1      60     34773   \n",
       "2   2         92661             45        1        1      62     45457   \n",
       "3   3         97184             99        0        0      59     15113   \n",
       "4   4         61752            100        0        0      57     64245   \n",
       "\n",
       "   cityPartRange  numPrevOwners  made  isNewBuilt  hasStormProtector  \\\n",
       "0              2              1  2000           0                  1   \n",
       "1              1              4  2000           0                  1   \n",
       "2              4              8  2020           1                  1   \n",
       "3              1              1  2000           0                  1   \n",
       "4              8              4  2018           1                  0   \n",
       "\n",
       "   basement  attic  garage  hasStorageRoom  hasGuestRoom      price  \n",
       "0         8   5196     369               0             3  3436795.2  \n",
       "1       729   4496     277               0             6  9519958.0  \n",
       "2      7473   8953     245               1             9  9276448.1  \n",
       "3      6424   8522     256               1             9  9725732.2  \n",
       "4      7151   2786     863               0             7  6181908.8  "
      ]
     },
     "execution_count": 4,
     "metadata": {},
     "output_type": "execute_result"
    }
   ],
   "source": [
    "df_train.head()"
   ]
  },
  {
   "cell_type": "code",
   "execution_count": 5,
   "id": "11cf1884-0bab-41a0-9d96-0c15f54590e8",
   "metadata": {},
   "outputs": [],
   "source": [
    "y_train = df_train[\"price\"]"
   ]
  },
  {
   "cell_type": "code",
   "execution_count": 6,
   "id": "541d6ffd-3ed7-4c21-ba94-387b64054fde",
   "metadata": {},
   "outputs": [],
   "source": [
    "X_train = df_train.drop([\"id\", \"price\"], axis=1)\n",
    "X_test = df_test.drop([\"id\"], axis=1)"
   ]
  },
  {
   "cell_type": "code",
   "execution_count": 7,
   "id": "aadd9b74-90f7-4b9c-81c5-b6f97183bb41",
   "metadata": {},
   "outputs": [],
   "source": [
    "from sklearn.preprocessing import StandardScaler, OneHotEncoder\n",
    "from sklearn.compose import make_column_transformer"
   ]
  },
  {
   "cell_type": "code",
   "execution_count": 8,
   "id": "cca13adc-e93b-480a-88b3-792647eafc3c",
   "metadata": {},
   "outputs": [],
   "source": [
    "transformer = make_column_transformer(\n",
    "     (StandardScaler(), ['squareMeters', 'cityCode', 'basement', 'attic', 'hasGuestRoom']),\n",
    "     (OneHotEncoder(handle_unknown='ignore'), ['numberOfRooms', 'floors', 'cityPartRange', 'numPrevOwners', 'made', 'garage']))"
   ]
  },
  {
   "cell_type": "code",
   "execution_count": 9,
   "id": "78aa1fd7-625a-4c33-b904-6756d56d2315",
   "metadata": {},
   "outputs": [
    {
     "data": {
      "text/plain": [
       "ColumnTransformer(transformers=[('standardscaler', StandardScaler(),\n",
       "                                 ['squareMeters', 'cityCode', 'basement',\n",
       "                                  'attic', 'hasGuestRoom']),\n",
       "                                ('onehotencoder',\n",
       "                                 OneHotEncoder(handle_unknown='ignore'),\n",
       "                                 ['numberOfRooms', 'floors', 'cityPartRange',\n",
       "                                  'numPrevOwners', 'made', 'garage'])])"
      ]
     },
     "execution_count": 9,
     "metadata": {},
     "output_type": "execute_result"
    }
   ],
   "source": [
    "transformer.fit(X_train)"
   ]
  },
  {
   "cell_type": "code",
   "execution_count": 10,
   "id": "a0de1be8-d4f4-4170-824d-73b410313c1a",
   "metadata": {},
   "outputs": [],
   "source": [
    "X_train = transformer.transform(X_train).toarray()\n",
    "X_test = transformer.transform(X_test).toarray()"
   ]
  },
  {
   "cell_type": "code",
   "execution_count": 11,
   "id": "17c4237c-a0bf-4cf8-88c0-ab2d1dd9727c",
   "metadata": {},
   "outputs": [],
   "source": [
    "# from sklearn.linear_model import LinearRegression"
   ]
  },
  {
   "cell_type": "code",
   "execution_count": 13,
   "id": "7fa6a787-48bb-43fc-954d-e623e062e478",
   "metadata": {},
   "outputs": [],
   "source": [
    "from tensorflow.keras import backend as K\n",
    "def rmse(y_true, y_pred):\n",
    "    return K.sqrt(K.mean(K.square(y_pred - y_true)))"
   ]
  },
  {
   "cell_type": "code",
   "execution_count": 14,
   "id": "3a8b0185-eaf7-48ca-b18e-6ec371325b3c",
   "metadata": {},
   "outputs": [],
   "source": [
    "model = tf.keras.Sequential([\n",
    "    tf.keras.layers.Dense(256, activation='relu'),\n",
    "    tf.keras.layers.Dense(256, activation='relu'),\n",
    "    tf.keras.layers.Dense(128, activation='relu'),\n",
    "    tf.keras.layers.Dense(1)\n",
    "])"
   ]
  },
  {
   "cell_type": "code",
   "execution_count": 15,
   "id": "e9cf60fe-2bc2-4d08-b888-2cf380aea351",
   "metadata": {},
   "outputs": [],
   "source": [
    "model.compile(\n",
    "    loss=rmse,\n",
    "    optimizer=tf.keras.optimizers.Adam(),\n",
    "    metrics=[rmse]\n",
    ")"
   ]
  },
  {
   "cell_type": "code",
   "execution_count": 16,
   "id": "416942cd-faff-4017-aa49-e415aa8466a4",
   "metadata": {},
   "outputs": [
    {
     "name": "stdout",
     "output_type": "stream",
     "text": [
      "Epoch 1/20\n",
      "711/711 [==============================] - 6s 7ms/step - loss: 3332781.7500 - rmse: 3330567.2500\n",
      "Epoch 2/20\n",
      "711/711 [==============================] - 4s 6ms/step - loss: 585699.3125 - rmse: 585163.8125\n",
      "Epoch 3/20\n",
      "711/711 [==============================] - 4s 6ms/step - loss: 218710.9062 - rmse: 218511.4375\n",
      "Epoch 4/20\n",
      "711/711 [==============================] - 4s 6ms/step - loss: 211320.4219 - rmse: 211277.3281\n",
      "Epoch 5/20\n",
      "711/711 [==============================] - 4s 6ms/step - loss: 213578.8281 - rmse: 213394.5469\n",
      "Epoch 6/20\n",
      "711/711 [==============================] - 4s 6ms/step - loss: 209690.5156 - rmse: 209503.8594\n",
      "Epoch 7/20\n",
      "711/711 [==============================] - 4s 6ms/step - loss: 209464.8125 - rmse: 209275.8594\n",
      "Epoch 8/20\n",
      "711/711 [==============================] - 4s 6ms/step - loss: 209525.8750 - rmse: 209337.5469\n",
      "Epoch 9/20\n",
      "711/711 [==============================] - 4s 6ms/step - loss: 208422.7500 - rmse: 208237.5000\n",
      "Epoch 10/20\n",
      "711/711 [==============================] - 4s 6ms/step - loss: 209042.2500 - rmse: 208850.5156\n",
      "Epoch 11/20\n",
      "711/711 [==============================] - 5s 6ms/step - loss: 209101.8594 - rmse: 208912.4688\n",
      "Epoch 12/20\n",
      "711/711 [==============================] - 4s 6ms/step - loss: 208584.4531 - rmse: 208396.8438\n",
      "Epoch 13/20\n",
      "711/711 [==============================] - 4s 6ms/step - loss: 208367.6250 - rmse: 208314.1875\n",
      "Epoch 14/20\n",
      "711/711 [==============================] - 4s 6ms/step - loss: 208449.5781 - rmse: 208262.4375\n",
      "Epoch 15/20\n",
      "711/711 [==============================] - 4s 6ms/step - loss: 207580.7500 - rmse: 207392.2656\n",
      "Epoch 16/20\n",
      "711/711 [==============================] - 4s 6ms/step - loss: 208803.3125 - rmse: 208618.2656\n",
      "Epoch 17/20\n",
      "711/711 [==============================] - 4s 6ms/step - loss: 207384.2188 - rmse: 207201.8281\n",
      "Epoch 18/20\n",
      "711/711 [==============================] - 4s 6ms/step - loss: 209457.3281 - rmse: 209276.1094\n",
      "Epoch 19/20\n",
      "711/711 [==============================] - 4s 6ms/step - loss: 208438.9688 - rmse: 208256.3594\n",
      "Epoch 20/20\n",
      "711/711 [==============================] - 4s 6ms/step - loss: 206360.2656 - rmse: 206175.2500\n"
     ]
    },
    {
     "data": {
      "text/plain": [
       "<keras.callbacks.History at 0x7fd7f0330d60>"
      ]
     },
     "execution_count": 16,
     "metadata": {},
     "output_type": "execute_result"
    }
   ],
   "source": [
    "model.fit(X_train, y_train, epochs=20)"
   ]
  },
  {
   "cell_type": "code",
   "execution_count": 23,
   "id": "c147fc22-fbbe-4ed2-9849-62c50109a319",
   "metadata": {},
   "outputs": [
    {
     "name": "stdout",
     "output_type": "stream",
     "text": [
      "474/474 [==============================] - 1s 3ms/step\n"
     ]
    }
   ],
   "source": [
    "ans = np.array(model.predict(X_test))"
   ]
  },
  {
   "cell_type": "code",
   "execution_count": 30,
   "id": "88896fa1-7832-46e4-94db-21047c31dc6e",
   "metadata": {},
   "outputs": [],
   "source": [
    "ans = np.squeeze(ans)"
   ]
  },
  {
   "cell_type": "code",
   "execution_count": 31,
   "id": "94178fd9-1d55-481b-94d1-ba539cd12000",
   "metadata": {},
   "outputs": [
    {
     "data": {
      "text/plain": [
       "(15154,)"
      ]
     },
     "execution_count": 31,
     "metadata": {},
     "output_type": "execute_result"
    }
   ],
   "source": [
    "ans.shape"
   ]
  },
  {
   "cell_type": "code",
   "execution_count": 32,
   "id": "b6405e1e-ea13-4c52-a020-ab27d45c26ca",
   "metadata": {},
   "outputs": [],
   "source": [
    "df_ans = pd.DataFrame({\"id\": df_test[\"id\"], \"price\": ans})"
   ]
  },
  {
   "cell_type": "code",
   "execution_count": 33,
   "id": "2650ca99-2a11-41e3-b5b4-c48ede3b9385",
   "metadata": {},
   "outputs": [],
   "source": [
    "df_ans.to_csv(\"outputs/ans4.csv\", index=False)"
   ]
  },
  {
   "cell_type": "code",
   "execution_count": null,
   "id": "faae29d5-4a4d-47c5-bda7-061ec5c07874",
   "metadata": {},
   "outputs": [],
   "source": []
  }
 ],
 "metadata": {
  "kernelspec": {
   "display_name": "Python 3 (ipykernel)",
   "language": "python",
   "name": "python3"
  },
  "language_info": {
   "codemirror_mode": {
    "name": "ipython",
    "version": 3
   },
   "file_extension": ".py",
   "mimetype": "text/x-python",
   "name": "python",
   "nbconvert_exporter": "python",
   "pygments_lexer": "ipython3",
   "version": "3.9.16"
  }
 },
 "nbformat": 4,
 "nbformat_minor": 5
}
