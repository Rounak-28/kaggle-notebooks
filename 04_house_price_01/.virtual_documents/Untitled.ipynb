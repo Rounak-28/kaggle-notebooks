import numpy as np
import pandas as pd
from sklearn.ensemble import RandomForestRegressor


train_data = pd.read_csv("train.csv")


cols = list(train_data.select_dtypes(include=[np.number]).columns.values)


cols = cols[:-1]


cols


cols.remove("MasVnrArea")


cols


X = train_data[cols]


X.describe


y = train_data["SalePrice"]


y


X = X.fillna(0)


model = RandomForestRegressor()


model.fit(X, y)


test_data = pd.read_csv("test.csv")


idk = test_data[cols]


idk = idk.fillna(0)


ansArray = model.predict(idk)


ansArray


ans = pd.DataFrame({"Id":test_data["Id"], "SalePrice": ansArray})


ans.to_csv("ans.csv", index=None)



