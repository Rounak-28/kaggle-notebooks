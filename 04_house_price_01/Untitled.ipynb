{
 "cells": [
  {
   "cell_type": "code",
   "execution_count": 1,
   "id": "c6045265-f46c-492e-9502-abd8064d7a0e",
   "metadata": {},
   "outputs": [],
   "source": [
    "import numpy as np\n",
    "import pandas as pd\n",
    "from sklearn.ensemble import RandomForestRegressor"
   ]
  },
  {
   "cell_type": "code",
   "execution_count": 2,
   "id": "dbd3120f-64b4-49b6-83be-c13ce72c9b03",
   "metadata": {},
   "outputs": [],
   "source": [
    "train_data = pd.read_csv(\"train.csv\")"
   ]
  },
  {
   "cell_type": "code",
   "execution_count": 3,
   "id": "916cc427-fc3d-451e-b287-5390f1d3d7c7",
   "metadata": {},
   "outputs": [],
   "source": [
    "cols = list(train_data.select_dtypes(include=[np.number]).columns.values)"
   ]
  },
  {
   "cell_type": "code",
   "execution_count": 4,
   "id": "485e033b-02fd-4bb3-9a34-373810bbbef8",
   "metadata": {},
   "outputs": [],
   "source": [
    "cols = cols[:-1]"
   ]
  },
  {
   "cell_type": "code",
   "execution_count": 5,
   "id": "0890ba10-2293-4dcc-9408-b5591fd0ee1c",
   "metadata": {},
   "outputs": [
    {
     "data": {
      "text/plain": [
       "['Id',\n",
       " 'MSSubClass',\n",
       " 'LotFrontage',\n",
       " 'LotArea',\n",
       " 'OverallQual',\n",
       " 'OverallCond',\n",
       " 'YearBuilt',\n",
       " 'YearRemodAdd',\n",
       " 'MasVnrArea',\n",
       " 'BsmtFinSF1',\n",
       " 'BsmtFinSF2',\n",
       " 'BsmtUnfSF',\n",
       " 'TotalBsmtSF',\n",
       " '1stFlrSF',\n",
       " '2ndFlrSF',\n",
       " 'LowQualFinSF',\n",
       " 'GrLivArea',\n",
       " 'BsmtFullBath',\n",
       " 'BsmtHalfBath',\n",
       " 'FullBath',\n",
       " 'HalfBath',\n",
       " 'BedroomAbvGr',\n",
       " 'KitchenAbvGr',\n",
       " 'TotRmsAbvGrd',\n",
       " 'Fireplaces',\n",
       " 'GarageYrBlt',\n",
       " 'GarageCars',\n",
       " 'GarageArea',\n",
       " 'WoodDeckSF',\n",
       " 'OpenPorchSF',\n",
       " 'EnclosedPorch',\n",
       " '3SsnPorch',\n",
       " 'ScreenPorch',\n",
       " 'PoolArea',\n",
       " 'MiscVal',\n",
       " 'MoSold',\n",
       " 'YrSold']"
      ]
     },
     "execution_count": 5,
     "metadata": {},
     "output_type": "execute_result"
    }
   ],
   "source": [
    "cols"
   ]
  },
  {
   "cell_type": "code",
   "execution_count": 6,
   "id": "f572bdb3-0dfe-4273-8f8b-a82da297748b",
   "metadata": {},
   "outputs": [],
   "source": [
    "cols.remove(\"MasVnrArea\")"
   ]
  },
  {
   "cell_type": "code",
   "execution_count": 7,
   "id": "6db15b35-2337-47a6-b3b3-1f0b13312dbc",
   "metadata": {},
   "outputs": [
    {
     "data": {
      "text/plain": [
       "['Id',\n",
       " 'MSSubClass',\n",
       " 'LotFrontage',\n",
       " 'LotArea',\n",
       " 'OverallQual',\n",
       " 'OverallCond',\n",
       " 'YearBuilt',\n",
       " 'YearRemodAdd',\n",
       " 'BsmtFinSF1',\n",
       " 'BsmtFinSF2',\n",
       " 'BsmtUnfSF',\n",
       " 'TotalBsmtSF',\n",
       " '1stFlrSF',\n",
       " '2ndFlrSF',\n",
       " 'LowQualFinSF',\n",
       " 'GrLivArea',\n",
       " 'BsmtFullBath',\n",
       " 'BsmtHalfBath',\n",
       " 'FullBath',\n",
       " 'HalfBath',\n",
       " 'BedroomAbvGr',\n",
       " 'KitchenAbvGr',\n",
       " 'TotRmsAbvGrd',\n",
       " 'Fireplaces',\n",
       " 'GarageYrBlt',\n",
       " 'GarageCars',\n",
       " 'GarageArea',\n",
       " 'WoodDeckSF',\n",
       " 'OpenPorchSF',\n",
       " 'EnclosedPorch',\n",
       " '3SsnPorch',\n",
       " 'ScreenPorch',\n",
       " 'PoolArea',\n",
       " 'MiscVal',\n",
       " 'MoSold',\n",
       " 'YrSold']"
      ]
     },
     "execution_count": 7,
     "metadata": {},
     "output_type": "execute_result"
    }
   ],
   "source": [
    "cols"
   ]
  },
  {
   "cell_type": "code",
   "execution_count": 8,
   "id": "562e9f6f-a7f4-42e4-82f6-b1004132e0d2",
   "metadata": {},
   "outputs": [],
   "source": [
    "X = train_data[cols]"
   ]
  },
  {
   "cell_type": "code",
   "execution_count": null,
   "id": "9bbe3987-b429-4cbc-afe9-445c3eabf40b",
   "metadata": {},
   "outputs": [],
   "source": [
    "X.describe"
   ]
  },
  {
   "cell_type": "code",
   "execution_count": 10,
   "id": "2c62ccbf-641b-4b87-aad5-ad592fe3d15e",
   "metadata": {},
   "outputs": [],
   "source": [
    "y = train_data[\"SalePrice\"]"
   ]
  },
  {
   "cell_type": "code",
   "execution_count": 11,
   "id": "941ea040-ec16-44c6-b9c9-4d14db848578",
   "metadata": {},
   "outputs": [
    {
     "data": {
      "text/plain": [
       "0       208500\n",
       "1       181500\n",
       "2       223500\n",
       "3       140000\n",
       "4       250000\n",
       "         ...  \n",
       "1455    175000\n",
       "1456    210000\n",
       "1457    266500\n",
       "1458    142125\n",
       "1459    147500\n",
       "Name: SalePrice, Length: 1460, dtype: int64"
      ]
     },
     "execution_count": 11,
     "metadata": {},
     "output_type": "execute_result"
    }
   ],
   "source": [
    "y"
   ]
  },
  {
   "cell_type": "code",
   "execution_count": 14,
   "id": "341f9886-a84b-4b0b-8f99-b303bf41689c",
   "metadata": {},
   "outputs": [],
   "source": [
    "X = X.fillna(0)"
   ]
  },
  {
   "cell_type": "code",
   "execution_count": 15,
   "id": "2b8728b4-dcf1-4767-835e-652007f98528",
   "metadata": {},
   "outputs": [],
   "source": [
    "model = RandomForestRegressor()"
   ]
  },
  {
   "cell_type": "code",
   "execution_count": 16,
   "id": "e4bd4cb5-2aee-4a83-9405-0756d999c497",
   "metadata": {},
   "outputs": [
    {
     "data": {
      "text/plain": [
       "RandomForestRegressor()"
      ]
     },
     "execution_count": 16,
     "metadata": {},
     "output_type": "execute_result"
    }
   ],
   "source": [
    "model.fit(X, y)"
   ]
  },
  {
   "cell_type": "code",
   "execution_count": 17,
   "id": "dbdb9a21-3f00-4c24-8558-a3914d6f5e25",
   "metadata": {},
   "outputs": [],
   "source": [
    "test_data = pd.read_csv(\"test.csv\")"
   ]
  },
  {
   "cell_type": "code",
   "execution_count": 19,
   "id": "3d7d34af-04a2-4dd4-b4d2-1302dc10f813",
   "metadata": {},
   "outputs": [],
   "source": [
    "idk = test_data[cols]"
   ]
  },
  {
   "cell_type": "code",
   "execution_count": 21,
   "id": "4edfe4da-adf5-49e7-acac-f65e1600c234",
   "metadata": {},
   "outputs": [],
   "source": [
    "idk = idk.fillna(0)"
   ]
  },
  {
   "cell_type": "code",
   "execution_count": 23,
   "id": "09c6ec4a-0d3d-45b7-8a92-772642da5a7a",
   "metadata": {},
   "outputs": [],
   "source": [
    "ansArray = model.predict(idk)"
   ]
  },
  {
   "cell_type": "code",
   "execution_count": 24,
   "id": "c490df24-b537-40c5-ad34-9babeec0e22d",
   "metadata": {},
   "outputs": [
    {
     "data": {
      "text/plain": [
       "array([124935.  , 154786.5 , 179709.8 , ..., 154642.  , 111087.43,\n",
       "       234106.28])"
      ]
     },
     "execution_count": 24,
     "metadata": {},
     "output_type": "execute_result"
    }
   ],
   "source": [
    "ansArray"
   ]
  },
  {
   "cell_type": "code",
   "execution_count": 26,
   "id": "8b0d8d67-74c6-4128-9734-25b457fd3e75",
   "metadata": {},
   "outputs": [],
   "source": [
    "ans = pd.DataFrame({\"Id\":test_data[\"Id\"], \"SalePrice\": ansArray})"
   ]
  },
  {
   "cell_type": "code",
   "execution_count": 29,
   "id": "89ee6076-8748-4838-8e50-4dec2797c96e",
   "metadata": {},
   "outputs": [],
   "source": [
    "ans.to_csv(\"ans.csv\", index=None)"
   ]
  },
  {
   "cell_type": "code",
   "execution_count": null,
   "id": "b565ba7e-38af-49c9-a661-e4fdf45692b0",
   "metadata": {},
   "outputs": [],
   "source": []
  }
 ],
 "metadata": {
  "kernelspec": {
   "display_name": "Python 3 (ipykernel)",
   "language": "python",
   "name": "python3"
  },
  "language_info": {
   "codemirror_mode": {
    "name": "ipython",
    "version": 3
   },
   "file_extension": ".py",
   "mimetype": "text/x-python",
   "name": "python",
   "nbconvert_exporter": "python",
   "pygments_lexer": "ipython3",
   "version": "3.9.13"
  }
 },
 "nbformat": 4,
 "nbformat_minor": 5
}
