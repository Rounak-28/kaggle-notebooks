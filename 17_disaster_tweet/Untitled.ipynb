{
 "cells": [
  {
   "cell_type": "code",
   "execution_count": 87,
   "id": "da811cda-ea8d-41ba-9912-04a9c05e8802",
   "metadata": {},
   "outputs": [],
   "source": [
    "import pandas as pd\n",
    "from sklearn.model_selection import train_test_split\n",
    "from sklearn.feature_extraction.text import CountVectorizer\n",
    "\n",
    "import torch\n",
    "import torch.nn as nn\n",
    "import torch.nn.functional as F\n",
    "torch.manual_seed(42)\n",
    "\n",
    "from torch.utils.data import Dataset, DataLoader\n",
    "\n",
    "from nltk.tokenize import RegexpTokenizer\n",
    "from nltk.corpus import stopwords\n",
    "from nltk.stem import PorterStemmer"
   ]
  },
  {
   "cell_type": "code",
   "execution_count": 88,
   "id": "40f2d5fc-a632-492b-af73-afc7b3eef06c",
   "metadata": {},
   "outputs": [],
   "source": [
    "train_val_df_raw = pd.read_csv(\"train.csv\")\n",
    "test_df_raw = pd.read_csv(\"test.csv\")"
   ]
  },
  {
   "cell_type": "code",
   "execution_count": 89,
   "id": "ac7aaff1-3208-4eec-871d-a9e9a156972a",
   "metadata": {},
   "outputs": [],
   "source": [
    "train_df_raw, val_df_raw = train_test_split(train_val_df_raw, test_size=0.1, random_state=42)"
   ]
  },
  {
   "cell_type": "code",
   "execution_count": 90,
   "id": "04ce59c4-0bfe-480b-b935-dd1163f3b797",
   "metadata": {},
   "outputs": [
    {
     "data": {
      "text/html": [
       "<div>\n",
       "<style scoped>\n",
       "    .dataframe tbody tr th:only-of-type {\n",
       "        vertical-align: middle;\n",
       "    }\n",
       "\n",
       "    .dataframe tbody tr th {\n",
       "        vertical-align: top;\n",
       "    }\n",
       "\n",
       "    .dataframe thead th {\n",
       "        text-align: right;\n",
       "    }\n",
       "</style>\n",
       "<table border=\"1\" class=\"dataframe\">\n",
       "  <thead>\n",
       "    <tr style=\"text-align: right;\">\n",
       "      <th></th>\n",
       "      <th>id</th>\n",
       "      <th>keyword</th>\n",
       "      <th>location</th>\n",
       "      <th>text</th>\n",
       "      <th>target</th>\n",
       "    </tr>\n",
       "  </thead>\n",
       "  <tbody>\n",
       "    <tr>\n",
       "      <th>4620</th>\n",
       "      <td>6568</td>\n",
       "      <td>injury</td>\n",
       "      <td>Plano, Texas</td>\n",
       "      <td>'McFadden Reportedly to Test Hamstring Thursda...</td>\n",
       "      <td>0</td>\n",
       "    </tr>\n",
       "    <tr>\n",
       "      <th>2858</th>\n",
       "      <td>4107</td>\n",
       "      <td>drought</td>\n",
       "      <td>Nigeria</td>\n",
       "      <td>w--=-=-=-[ NEMA warns Nigerians to prepare for...</td>\n",
       "      <td>1</td>\n",
       "    </tr>\n",
       "  </tbody>\n",
       "</table>\n",
       "</div>"
      ],
      "text/plain": [
       "        id  keyword      location  \\\n",
       "4620  6568   injury  Plano, Texas   \n",
       "2858  4107  drought       Nigeria   \n",
       "\n",
       "                                                   text  target  \n",
       "4620  'McFadden Reportedly to Test Hamstring Thursda...       0  \n",
       "2858  w--=-=-=-[ NEMA warns Nigerians to prepare for...       1  "
      ]
     },
     "execution_count": 90,
     "metadata": {},
     "output_type": "execute_result"
    }
   ],
   "source": [
    "train_df_raw.head(2)"
   ]
  },
  {
   "cell_type": "code",
   "execution_count": 91,
   "id": "e4ecbc70-fdac-4a63-9ec5-3d71d13a1cd4",
   "metadata": {},
   "outputs": [
    {
     "data": {
      "text/html": [
       "<div>\n",
       "<style scoped>\n",
       "    .dataframe tbody tr th:only-of-type {\n",
       "        vertical-align: middle;\n",
       "    }\n",
       "\n",
       "    .dataframe tbody tr th {\n",
       "        vertical-align: top;\n",
       "    }\n",
       "\n",
       "    .dataframe thead th {\n",
       "        text-align: right;\n",
       "    }\n",
       "</style>\n",
       "<table border=\"1\" class=\"dataframe\">\n",
       "  <thead>\n",
       "    <tr style=\"text-align: right;\">\n",
       "      <th></th>\n",
       "      <th>id</th>\n",
       "      <th>keyword</th>\n",
       "      <th>location</th>\n",
       "      <th>text</th>\n",
       "    </tr>\n",
       "  </thead>\n",
       "  <tbody>\n",
       "    <tr>\n",
       "      <th>0</th>\n",
       "      <td>0</td>\n",
       "      <td>NaN</td>\n",
       "      <td>NaN</td>\n",
       "      <td>Just happened a terrible car crash</td>\n",
       "    </tr>\n",
       "    <tr>\n",
       "      <th>1</th>\n",
       "      <td>2</td>\n",
       "      <td>NaN</td>\n",
       "      <td>NaN</td>\n",
       "      <td>Heard about #earthquake is different cities, s...</td>\n",
       "    </tr>\n",
       "  </tbody>\n",
       "</table>\n",
       "</div>"
      ],
      "text/plain": [
       "   id keyword location                                               text\n",
       "0   0     NaN      NaN                 Just happened a terrible car crash\n",
       "1   2     NaN      NaN  Heard about #earthquake is different cities, s..."
      ]
     },
     "execution_count": 91,
     "metadata": {},
     "output_type": "execute_result"
    }
   ],
   "source": [
    "test_df_raw.head(2)"
   ]
  },
  {
   "cell_type": "code",
   "execution_count": 92,
   "id": "e9f7e146-986f-4b5a-840a-7728d0eb1e1f",
   "metadata": {},
   "outputs": [
    {
     "data": {
      "text/html": [
       "<div>\n",
       "<style scoped>\n",
       "    .dataframe tbody tr th:only-of-type {\n",
       "        vertical-align: middle;\n",
       "    }\n",
       "\n",
       "    .dataframe tbody tr th {\n",
       "        vertical-align: top;\n",
       "    }\n",
       "\n",
       "    .dataframe thead th {\n",
       "        text-align: right;\n",
       "    }\n",
       "</style>\n",
       "<table border=\"1\" class=\"dataframe\">\n",
       "  <thead>\n",
       "    <tr style=\"text-align: right;\">\n",
       "      <th></th>\n",
       "      <th>id</th>\n",
       "      <th>keyword</th>\n",
       "      <th>location</th>\n",
       "      <th>text</th>\n",
       "      <th>target</th>\n",
       "    </tr>\n",
       "  </thead>\n",
       "  <tbody>\n",
       "    <tr>\n",
       "      <th>2644</th>\n",
       "      <td>3796</td>\n",
       "      <td>destruction</td>\n",
       "      <td>NaN</td>\n",
       "      <td>So you have a new weapon that can cause un-ima...</td>\n",
       "      <td>1</td>\n",
       "    </tr>\n",
       "    <tr>\n",
       "      <th>2227</th>\n",
       "      <td>3185</td>\n",
       "      <td>deluge</td>\n",
       "      <td>NaN</td>\n",
       "      <td>The f$&amp;amp;@ing things I do for #GISHWHES Just...</td>\n",
       "      <td>0</td>\n",
       "    </tr>\n",
       "  </tbody>\n",
       "</table>\n",
       "</div>"
      ],
      "text/plain": [
       "        id      keyword location  \\\n",
       "2644  3796  destruction      NaN   \n",
       "2227  3185       deluge      NaN   \n",
       "\n",
       "                                                   text  target  \n",
       "2644  So you have a new weapon that can cause un-ima...       1  \n",
       "2227  The f$&amp;@ing things I do for #GISHWHES Just...       0  "
      ]
     },
     "execution_count": 92,
     "metadata": {},
     "output_type": "execute_result"
    }
   ],
   "source": [
    "val_df_raw.head(2)"
   ]
  },
  {
   "cell_type": "code",
   "execution_count": 93,
   "id": "9b283598-d870-43c7-8ac6-9666f2c420ff",
   "metadata": {},
   "outputs": [],
   "source": [
    "train_df = train_df_raw.drop([\"id\", \"keyword\", \"location\"], axis=1)\n",
    "val_df = val_df_raw.drop([\"id\", \"keyword\", \"location\"], axis=1)\n",
    "test_df = test_df_raw.drop([\"id\", \"keyword\", \"location\"], axis=1)\n",
    "\n",
    "test_df[\"target\"] = 0  # hacky way for custom dataset class :)"
   ]
  },
  {
   "cell_type": "code",
   "execution_count": 94,
   "id": "9ce17d7e-9186-40c7-b825-24462041d37f",
   "metadata": {},
   "outputs": [],
   "source": [
    "tokenizer = RegexpTokenizer('\\w+')\n",
    "sw = stopwords.words(\"english\")\n",
    "ps = PorterStemmer()"
   ]
  },
  {
   "cell_type": "code",
   "execution_count": 95,
   "id": "6fb85ef8-645f-4b6e-b037-0e4e483d321a",
   "metadata": {},
   "outputs": [],
   "source": [
    "def clean_text(text):\n",
    "    tokens = tokenizer.tokenize(text.lower())\n",
    "    clean_words = [w for w in tokens if w not in sw]\n",
    "    text = \" \".join([ps.stem(w) for w in clean_words])\n",
    "    return text"
   ]
  },
  {
   "cell_type": "code",
   "execution_count": 96,
   "id": "2dc9dae8-c283-4314-95ad-e3fb3256fd2e",
   "metadata": {},
   "outputs": [],
   "source": [
    "train_df.text = train_df.text.apply(clean_text)\n",
    "val_df.text = val_df.text.apply(clean_text)\n",
    "test_df.text = test_df.text.apply(clean_text)"
   ]
  },
  {
   "cell_type": "code",
   "execution_count": 97,
   "id": "d2460a8a-e766-4488-8721-0afeaabcf8bb",
   "metadata": {},
   "outputs": [
    {
     "data": {
      "text/plain": [
       "<6851x17201 sparse matrix of type '<class 'numpy.int64'>'\n",
       "\twith 73173 stored elements in Compressed Sparse Row format>"
      ]
     },
     "execution_count": 97,
     "metadata": {},
     "output_type": "execute_result"
    }
   ],
   "source": [
    "cv = CountVectorizer()\n",
    "cv.fit_transform(train_df.text)"
   ]
  },
  {
   "cell_type": "code",
   "execution_count": 98,
   "id": "d676803a-d41a-41c7-b16b-b63103633cd3",
   "metadata": {},
   "outputs": [
    {
     "data": {
      "text/plain": [
       "((6851, 2), (3263, 2), (762, 2))"
      ]
     },
     "execution_count": 98,
     "metadata": {},
     "output_type": "execute_result"
    }
   ],
   "source": [
    "train_df.shape, test_df.shape, val_df.shape"
   ]
  },
  {
   "cell_type": "code",
   "execution_count": 99,
   "id": "242a8621-0dbd-470c-9f48-4a347c024bc5",
   "metadata": {},
   "outputs": [],
   "source": [
    "class CustomDataset(Dataset):\n",
    "    def __init__(self, df):\n",
    "        self.df = df\n",
    "\n",
    "    def __len__(self):\n",
    "        return self.df.shape[0]\n",
    "\n",
    "    def __getitem__(self, idx):\n",
    "        X = cv.transform([self.df.text.iloc[idx]]).toarray()[0]\n",
    "        X = torch.tensor(X, dtype=torch.float32)\n",
    "        y = self.df.target.iloc[idx]\n",
    "        return X, y"
   ]
  },
  {
   "cell_type": "code",
   "execution_count": 100,
   "id": "ecbdc04e-c298-4a03-86b0-6aea5f61c819",
   "metadata": {},
   "outputs": [],
   "source": [
    "training_data = CustomDataset(train_df)\n",
    "test_data = CustomDataset(test_df)\n",
    "val_data = CustomDataset(val_df)"
   ]
  },
  {
   "cell_type": "code",
   "execution_count": 101,
   "id": "4c19c46e-a2ac-4680-8150-7a728ed48166",
   "metadata": {},
   "outputs": [],
   "source": [
    "train_dataloader = DataLoader(training_data, batch_size=512, shuffle=True)\n",
    "test_dataloader = DataLoader(test_data, batch_size=512, shuffle=True)\n",
    "val_dataloader = DataLoader(val_data, batch_size=512, shuffle=True)"
   ]
  },
  {
   "cell_type": "code",
   "execution_count": 102,
   "id": "3405961b-1e00-42fd-ab95-d4bb91806893",
   "metadata": {},
   "outputs": [
    {
     "name": "stdout",
     "output_type": "stream",
     "text": [
      "torch.Size([512, 17201])\n",
      "torch.Size([512])\n"
     ]
    }
   ],
   "source": [
    "for x, y in train_dataloader:\n",
    "    print(x.shape)\n",
    "    print(y.shape)\n",
    "    break"
   ]
  },
  {
   "cell_type": "code",
   "execution_count": 103,
   "id": "6e07570e-8528-4f0a-8825-e75859d0d839",
   "metadata": {},
   "outputs": [
    {
     "name": "stdout",
     "output_type": "stream",
     "text": [
      "Using cuda device\n"
     ]
    }
   ],
   "source": [
    "device = \"cuda\" if torch.cuda.is_available() else \"mps\" if torch.backends.mps.is_available() else \"cpu\"\n",
    "print(f\"Using {device} device\")"
   ]
  },
  {
   "cell_type": "code",
   "execution_count": 104,
   "id": "9116f378-e160-45fa-9a00-b1a2486dfadd",
   "metadata": {},
   "outputs": [
    {
     "name": "stdout",
     "output_type": "stream",
     "text": [
      "17201\n"
     ]
    }
   ],
   "source": [
    "in_features = cv.get_feature_names_out().shape[0]\n",
    "print(in_features)"
   ]
  },
  {
   "cell_type": "code",
   "execution_count": 107,
   "id": "08f3a8b8-a73b-4cc9-9e52-2930795e80cd",
   "metadata": {},
   "outputs": [
    {
     "name": "stdout",
     "output_type": "stream",
     "text": [
      "RNNModel(\n",
      "  (rnn): RNN(17201, 128, batch_first=True)\n",
      "  (fc1): Linear(in_features=128, out_features=64, bias=True)\n",
      "  (fc2): Linear(in_features=64, out_features=2, bias=True)\n",
      ")\n"
     ]
    }
   ],
   "source": [
    "class RNNModel(nn.Module):\n",
    "    def __init__(self, hidden_dim, layer_dim):\n",
    "        super(RNNModel, self).__init__()\n",
    "        self.hidden_dim = hidden_dim\n",
    "        self.layer_dim = layer_dim\n",
    "        self.rnn = nn.RNN(in_features, hidden_dim, layer_dim, batch_first=True, nonlinearity='relu')\n",
    "        self.fc1 = nn.Linear(hidden_dim, 64)\n",
    "        self.fc2 = nn.Linear(64, 2)\n",
    "\n",
    "    def forward(self, x):\n",
    "        h0 = torch.zeros((self.layer_dim, self.hidden_dim), device=device)\n",
    "        out, hn = self.rnn(x, h0)\n",
    "        out = F.relu(self.fc1(out))\n",
    "        out = self.fc2(out)\n",
    "        return out\n",
    "\n",
    "hidden_dim = 128\n",
    "layer_dim = 1\n",
    "model = RNNModel(hidden_dim, layer_dim).to(device)\n",
    "print(model)"
   ]
  },
  {
   "cell_type": "code",
   "execution_count": 81,
   "id": "913c11ea-e4f8-4e51-94e6-b67ce4814c88",
   "metadata": {},
   "outputs": [],
   "source": [
    "# class NeuralNet(nn.Module):\n",
    "#     def __init__(self):\n",
    "#         super().__init__()\n",
    "#         self.fc1 = nn.Linear(in_features, 10)\n",
    "#         self.bn1 = nn.BatchNorm1d(10)\n",
    "#         self.fc2 = nn.Linear(10, 2)\n",
    "\n",
    "#     def forward(self, x):\n",
    "#         x = F.relu(self.bn1(self.fc1(x)))\n",
    "#         x = self.fc2(x)\n",
    "#         return x\n",
    "\n",
    "# model = NeuralNet().to(device)\n",
    "# print(model)"
   ]
  },
  {
   "cell_type": "code",
   "execution_count": 108,
   "id": "3e16a35d-b1db-4380-ac74-380061e5ca2e",
   "metadata": {},
   "outputs": [],
   "source": [
    "loss_fn = nn.CrossEntropyLoss()\n",
    "optimizer = torch.optim.Adam(model.parameters(), lr=0.0005)"
   ]
  },
  {
   "cell_type": "code",
   "execution_count": 109,
   "id": "fcb7630a-6030-436b-bcfb-bcfb3da126b3",
   "metadata": {},
   "outputs": [],
   "source": [
    "def train(dataloader, model, loss_fn, optimizer):\n",
    "    size = len(dataloader.dataset)\n",
    "    model.train()\n",
    "    for batch, (X, y) in enumerate(dataloader):\n",
    "        X, y = X.to(device), y.to(device)\n",
    "\n",
    "        # Compute prediction error\n",
    "        pred = model(X)\n",
    "        loss = loss_fn(pred, y)\n",
    "\n",
    "        # Backpropagation\n",
    "        optimizer.zero_grad()\n",
    "        loss.backward()\n",
    "        optimizer.step()\n",
    "\n",
    "        if batch % 100 == 0:\n",
    "            loss, current = loss.item(), (batch + 1) * len(X)\n",
    "            print(f\"loss: {loss:>7f}  [{current:>5d}/{size:>5d}]\")"
   ]
  },
  {
   "cell_type": "code",
   "execution_count": 110,
   "id": "fb28b09f-c3e1-4b0c-87ae-e175bf72c404",
   "metadata": {},
   "outputs": [],
   "source": [
    "def test(dataloader, model, loss_fn):\n",
    "    size = len(dataloader.dataset)\n",
    "    num_batches = len(dataloader)\n",
    "    model.eval()\n",
    "    test_loss, correct = 0, 0\n",
    "    with torch.no_grad():\n",
    "        for X, y in dataloader:\n",
    "            X, y = X.to(device), y.to(device)\n",
    "            pred = model(X)\n",
    "            test_loss += loss_fn(pred, y).item()\n",
    "            correct += (pred.argmax(1) == y).type(torch.float).sum().item()\n",
    "    test_loss /= num_batches\n",
    "    correct /= size\n",
    "    print(f\"Test Error: \\n Accuracy: {(100*correct):>0.1f}%, Avg loss: {test_loss:>8f} \\n\")"
   ]
  },
  {
   "cell_type": "code",
   "execution_count": 112,
   "id": "2a459648-5095-48c6-8b23-a3c1d912752a",
   "metadata": {},
   "outputs": [
    {
     "name": "stdout",
     "output_type": "stream",
     "text": [
      "Epoch 1\n",
      "-------------------------------\n",
      "loss: 0.329795  [  512/ 6851]\n",
      "Test Error: \n",
      " Accuracy: 77.7%, Avg loss: 0.482509 \n",
      "\n",
      "Epoch 2\n",
      "-------------------------------\n",
      "loss: 0.285260  [  512/ 6851]\n",
      "Test Error: \n",
      " Accuracy: 75.7%, Avg loss: 0.480915 \n",
      "\n",
      "Epoch 3\n",
      "-------------------------------\n",
      "loss: 0.237643  [  512/ 6851]\n",
      "Test Error: \n",
      " Accuracy: 78.2%, Avg loss: 0.476086 \n",
      "\n",
      "Epoch 4\n",
      "-------------------------------\n",
      "loss: 0.176351  [  512/ 6851]\n",
      "Test Error: \n",
      " Accuracy: 77.8%, Avg loss: 0.513321 \n",
      "\n",
      "Epoch 5\n",
      "-------------------------------\n",
      "loss: 0.174923  [  512/ 6851]\n",
      "Test Error: \n",
      " Accuracy: 78.3%, Avg loss: 0.525511 \n",
      "\n",
      "Done!\n"
     ]
    }
   ],
   "source": [
    "epochs = 5\n",
    "for t in range(epochs):\n",
    "    print(f\"Epoch {t+1}\\n-------------------------------\")\n",
    "    train(train_dataloader, model, loss_fn, optimizer)\n",
    "    test(val_dataloader, model, loss_fn)\n",
    "print(\"Done!\")"
   ]
  },
  {
   "cell_type": "code",
   "execution_count": 113,
   "id": "ae7dd8f5-c05e-4a96-aab6-a1e6a7b7ccbe",
   "metadata": {},
   "outputs": [],
   "source": [
    "predicated_ans = []"
   ]
  },
  {
   "cell_type": "code",
   "execution_count": 114,
   "id": "863608e3-de1c-4034-aba4-10ef28b20ac3",
   "metadata": {},
   "outputs": [],
   "source": [
    "for X, y in test_dataloader:\n",
    "    X = X.to(device)\n",
    "    ans_np = torch.argmax(model(X), dim=1).cpu().numpy()\n",
    "    for n in ans_np:\n",
    "        predicated_ans.append(n)"
   ]
  },
  {
   "cell_type": "code",
   "execution_count": 115,
   "id": "cc0aeb48-9f0d-4a97-b42b-6cfc2e4aaf27",
   "metadata": {},
   "outputs": [],
   "source": [
    "ans_df = pd.DataFrame({\"id\": test_df_raw.id, \"target\": predicated_ans})\n",
    "ans_df.to_csv(\"outputs/ans12.csv\", index=False)"
   ]
  },
  {
   "cell_type": "code",
   "execution_count": null,
   "id": "5b3ed19d-214e-436c-b3c0-ab6016448c1e",
   "metadata": {},
   "outputs": [],
   "source": []
  }
 ],
 "metadata": {
  "kernelspec": {
   "display_name": "Python 3 (ipykernel)",
   "language": "python",
   "name": "python3"
  },
  "language_info": {
   "codemirror_mode": {
    "name": "ipython",
    "version": 3
   },
   "file_extension": ".py",
   "mimetype": "text/x-python",
   "name": "python",
   "nbconvert_exporter": "python",
   "pygments_lexer": "ipython3",
   "version": "3.9.16"
  }
 },
 "nbformat": 4,
 "nbformat_minor": 5
}
