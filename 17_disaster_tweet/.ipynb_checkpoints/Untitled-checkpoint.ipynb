{
 "cells": [
  {
   "cell_type": "code",
   "execution_count": null,
   "id": "da811cda-ea8d-41ba-9912-04a9c05e8802",
   "metadata": {},
   "outputs": [],
   "source": [
    "import pandas as pd\n",
    "from sklearn.model_selection import train_test_split\n",
    "from sklearn.feature_extraction.text import CountVectorizer\n",
    "\n",
    "import torch\n",
    "import torch.nn as nn\n",
    "import torch.nn.functional as F\n",
    "\n",
    "from torch.utils.data import Dataset, DataLoader\n",
    "\n",
    "from nltk.tokenize import RegexpTokenizer\n",
    "from nltk.corpus import stopwords\n",
    "from nltk.stem import PorterStemmer"
   ]
  },
  {
   "cell_type": "code",
   "execution_count": null,
   "id": "40f2d5fc-a632-492b-af73-afc7b3eef06c",
   "metadata": {},
   "outputs": [],
   "source": [
    "train_val_df_raw = pd.read_csv(\"train.csv\")\n",
    "test_df_raw = pd.read_csv(\"test.csv\")"
   ]
  },
  {
   "cell_type": "code",
   "execution_count": null,
   "id": "ac7aaff1-3208-4eec-871d-a9e9a156972a",
   "metadata": {},
   "outputs": [],
   "source": [
    "train_df_raw, val_df_raw = train_test_split(train_val_df_raw, test_size=0.1, random_state=42)"
   ]
  },
  {
   "cell_type": "code",
   "execution_count": null,
   "id": "04ce59c4-0bfe-480b-b935-dd1163f3b797",
   "metadata": {},
   "outputs": [],
   "source": [
    "train_df_raw.head(2)"
   ]
  },
  {
   "cell_type": "code",
   "execution_count": null,
   "id": "e4ecbc70-fdac-4a63-9ec5-3d71d13a1cd4",
   "metadata": {},
   "outputs": [],
   "source": [
    "test_df_raw.head(2)"
   ]
  },
  {
   "cell_type": "code",
   "execution_count": null,
   "id": "e9f7e146-986f-4b5a-840a-7728d0eb1e1f",
   "metadata": {},
   "outputs": [],
   "source": [
    "val_df_raw.head(2)"
   ]
  },
  {
   "cell_type": "code",
   "execution_count": null,
   "id": "9b283598-d870-43c7-8ac6-9666f2c420ff",
   "metadata": {},
   "outputs": [],
   "source": [
    "train_df = train_df_raw.drop([\"id\", \"keyword\", \"location\"], axis=1)\n",
    "val_df = val_df_raw.drop([\"id\", \"keyword\", \"location\"], axis=1)\n",
    "test_df = test_df_raw.drop([\"id\", \"keyword\", \"location\"], axis=1)\n",
    "\n",
    "test_df[\"target\"] = 0  # hacky way for custom dataset class :)"
   ]
  },
  {
   "cell_type": "code",
   "execution_count": null,
   "id": "9ce17d7e-9186-40c7-b825-24462041d37f",
   "metadata": {},
   "outputs": [],
   "source": [
    "tokenizer = RegexpTokenizer('\\w+')\n",
    "sw = stopwords.words(\"english\")\n",
    "ps = PorterStemmer()"
   ]
  },
  {
   "cell_type": "code",
   "execution_count": null,
   "id": "6fb85ef8-645f-4b6e-b037-0e4e483d321a",
   "metadata": {},
   "outputs": [],
   "source": [
    "def clean_text(text):\n",
    "    tokens = tokenizer.tokenize(text.lower())\n",
    "    clean_words = [w for w in tokens if w not in sw]\n",
    "    text = \" \".join([ps.stem(w) for w in clean_words])\n",
    "    return text"
   ]
  },
  {
   "cell_type": "code",
   "execution_count": null,
   "id": "2dc9dae8-c283-4314-95ad-e3fb3256fd2e",
   "metadata": {},
   "outputs": [],
   "source": [
    "train_df.text = train_df.text.apply(clean_text)\n",
    "val_df.text = val_df.text.apply(clean_text)\n",
    "test_df.text = test_df.text.apply(clean_text)"
   ]
  },
  {
   "cell_type": "code",
   "execution_count": null,
   "id": "d2460a8a-e766-4488-8721-0afeaabcf8bb",
   "metadata": {},
   "outputs": [],
   "source": [
    "cv = CountVectorizer()\n",
    "cv.fit_transform(train_df.text)"
   ]
  },
  {
   "cell_type": "code",
   "execution_count": null,
   "id": "d676803a-d41a-41c7-b16b-b63103633cd3",
   "metadata": {},
   "outputs": [],
   "source": [
    "train_df.shape, test_df.shape, val_df.shape"
   ]
  },
  {
   "cell_type": "code",
   "execution_count": null,
   "id": "242a8621-0dbd-470c-9f48-4a347c024bc5",
   "metadata": {},
   "outputs": [],
   "source": [
    "class CustomDataset(Dataset):\n",
    "    def __init__(self, df):\n",
    "        self.df = df\n",
    "\n",
    "    def __len__(self):\n",
    "        return self.df.shape[0]\n",
    "\n",
    "    def __getitem__(self, idx):\n",
    "        X = cv.transform([self.df.text.iloc[idx]]).toarray()[0]\n",
    "        X = torch.tensor(X, dtype=torch.float32)\n",
    "        y = self.df.target.iloc[idx]\n",
    "        return X, y"
   ]
  },
  {
   "cell_type": "code",
   "execution_count": null,
   "id": "ecbdc04e-c298-4a03-86b0-6aea5f61c819",
   "metadata": {},
   "outputs": [],
   "source": [
    "training_data = CustomDataset(train_df)\n",
    "test_data = CustomDataset(test_df)\n",
    "val_data = CustomDataset(val_df)"
   ]
  },
  {
   "cell_type": "code",
   "execution_count": null,
   "id": "4c19c46e-a2ac-4680-8150-7a728ed48166",
   "metadata": {},
   "outputs": [],
   "source": [
    "train_dataloader = DataLoader(training_data, batch_size=64, shuffle=True)\n",
    "test_dataloader = DataLoader(test_data, batch_size=64, shuffle=True)\n",
    "val_dataloader = DataLoader(val_data, batch_size=64, shuffle=True)"
   ]
  },
  {
   "cell_type": "code",
   "execution_count": null,
   "id": "3405961b-1e00-42fd-ab95-d4bb91806893",
   "metadata": {},
   "outputs": [],
   "source": [
    "for x, y in train_dataloader:\n",
    "    print(x.shape)\n",
    "    print(y.shape)\n",
    "    break"
   ]
  },
  {
   "cell_type": "code",
   "execution_count": null,
   "id": "6e07570e-8528-4f0a-8825-e75859d0d839",
   "metadata": {},
   "outputs": [],
   "source": [
    "device = \"cuda\" if torch.cuda.is_available() else \"mps\" if torch.backends.mps.is_available() else \"cpu\"\n",
    "print(f\"Using {device} device\")"
   ]
  },
  {
   "cell_type": "code",
   "execution_count": null,
   "id": "9116f378-e160-45fa-9a00-b1a2486dfadd",
   "metadata": {},
   "outputs": [],
   "source": [
    "in_features = cv.get_feature_names_out().shape[0]\n",
    "print(in_features)"
   ]
  },
  {
   "cell_type": "code",
   "execution_count": null,
   "id": "08f3a8b8-a73b-4cc9-9e52-2930795e80cd",
   "metadata": {},
   "outputs": [],
   "source": [
    "class RNNModel(nn.Module):\n",
    "    def __init__(self, hidden_dim, layer_dim):\n",
    "        super(RNNModel, self).__init__()\n",
    "        self.hidden_dim = hidden_dim\n",
    "        self.layer_dim = layer_dim\n",
    "        self.rnn = nn.RNN(in_features, hidden_dim, layer_dim, batch_first=True, nonlinearity='relu')\n",
    "        self.fc = nn.Linear(hidden_dim, 2)\n",
    "\n",
    "    def forward(self, x):\n",
    "        h0 = torch.zeros((self.layer_dim, self.hidden_dim), device=device)\n",
    "        out, hn = self.rnn(x, h0)\n",
    "        out = self.fc(out)\n",
    "        return out\n",
    "\n",
    "hidden_dim = 100\n",
    "layer_dim = 2\n",
    "model = RNNModel(hidden_dim, layer_dim).to(device)\n",
    "print(model)"
   ]
  },
  {
   "cell_type": "code",
   "execution_count": null,
   "id": "913c11ea-e4f8-4e51-94e6-b67ce4814c88",
   "metadata": {},
   "outputs": [],
   "source": [
    "# class NeuralNet(nn.Module):\n",
    "#     def __init__(self):\n",
    "#         super().__init__()\n",
    "#         self.fc1 = nn.Linear(in_features, 128)\n",
    "#         self.bn1 = nn.BatchNorm1d(128)\n",
    "#         self.fc2 = nn.Linear(128, 2)\n",
    "\n",
    "#     def forward(self, x):\n",
    "#         x = F.relu(self.bn1(self.fc1(x)))\n",
    "#         x = self.fc2(x)\n",
    "#         return x\n",
    "\n",
    "# model = NeuralNet().to(device)\n",
    "# print(model)"
   ]
  },
  {
   "cell_type": "code",
   "execution_count": null,
   "id": "3e16a35d-b1db-4380-ac74-380061e5ca2e",
   "metadata": {},
   "outputs": [],
   "source": [
    "loss_fn = nn.CrossEntropyLoss()\n",
    "optimizer = torch.optim.Adam(model.parameters(), lr=1e-4)"
   ]
  },
  {
   "cell_type": "code",
   "execution_count": null,
   "id": "fcb7630a-6030-436b-bcfb-bcfb3da126b3",
   "metadata": {},
   "outputs": [],
   "source": [
    "def train(dataloader, model, loss_fn, optimizer):\n",
    "    size = len(dataloader.dataset)\n",
    "    model.train()\n",
    "    for batch, (X, y) in enumerate(dataloader):\n",
    "        X, y = X.to(device), y.to(device)\n",
    "\n",
    "        # Compute prediction error\n",
    "        pred = model(X)\n",
    "        loss = loss_fn(pred, y)\n",
    "\n",
    "        # Backpropagation\n",
    "        optimizer.zero_grad()\n",
    "        loss.backward()\n",
    "        optimizer.step()\n",
    "\n",
    "        if batch % 100 == 0:\n",
    "            loss, current = loss.item(), (batch + 1) * len(X)\n",
    "            print(f\"loss: {loss:>7f}  [{current:>5d}/{size:>5d}]\")"
   ]
  },
  {
   "cell_type": "code",
   "execution_count": null,
   "id": "fb28b09f-c3e1-4b0c-87ae-e175bf72c404",
   "metadata": {},
   "outputs": [],
   "source": [
    "def test(dataloader, model, loss_fn):\n",
    "    size = len(dataloader.dataset)\n",
    "    num_batches = len(dataloader)\n",
    "    model.eval()\n",
    "    test_loss, correct = 0, 0\n",
    "    with torch.no_grad():\n",
    "        for X, y in dataloader:\n",
    "            X, y = X.to(device), y.to(device)\n",
    "            pred = model(X)\n",
    "            test_loss += loss_fn(pred, y).item()\n",
    "            correct += (pred.argmax(1) == y).type(torch.float).sum().item()\n",
    "    test_loss /= num_batches\n",
    "    correct /= size\n",
    "    print(f\"Test Error: \\n Accuracy: {(100*correct):>0.1f}%, Avg loss: {test_loss:>8f} \\n\")"
   ]
  },
  {
   "cell_type": "code",
   "execution_count": null,
   "id": "2a459648-5095-48c6-8b23-a3c1d912752a",
   "metadata": {},
   "outputs": [],
   "source": [
    "epochs = 5\n",
    "for t in range(epochs):\n",
    "    print(f\"Epoch {t+1}\\n-------------------------------\")\n",
    "    train(train_dataloader, model, loss_fn, optimizer)\n",
    "    test(val_dataloader, model, loss_fn)\n",
    "print(\"Done!\")"
   ]
  },
  {
   "cell_type": "code",
   "execution_count": null,
   "id": "ae7dd8f5-c05e-4a96-aab6-a1e6a7b7ccbe",
   "metadata": {},
   "outputs": [],
   "source": [
    "predicated_ans = []"
   ]
  },
  {
   "cell_type": "code",
   "execution_count": null,
   "id": "863608e3-de1c-4034-aba4-10ef28b20ac3",
   "metadata": {},
   "outputs": [],
   "source": [
    "for X, y in test_dataloader:\n",
    "    X = X.to(device)\n",
    "    ans_np = torch.argmax(model(X), dim=1).cpu().numpy()\n",
    "    for n in ans_np:\n",
    "        predicated_ans.append(n)"
   ]
  },
  {
   "cell_type": "code",
   "execution_count": null,
   "id": "cc0aeb48-9f0d-4a97-b42b-6cfc2e4aaf27",
   "metadata": {},
   "outputs": [],
   "source": [
    "ans_df = pd.DataFrame({\"id\": test_df_raw.id, \"target\": predicated_ans})\n",
    "ans_df.to_csv(\"outputs/ans7.csv\", index=False)"
   ]
  },
  {
   "cell_type": "code",
   "execution_count": null,
   "id": "5b3ed19d-214e-436c-b3c0-ab6016448c1e",
   "metadata": {},
   "outputs": [],
   "source": []
  }
 ],
 "metadata": {
  "kernelspec": {
   "display_name": "Python 3 (ipykernel)",
   "language": "python",
   "name": "python3"
  },
  "language_info": {
   "codemirror_mode": {
    "name": "ipython",
    "version": 3
   },
   "file_extension": ".py",
   "mimetype": "text/x-python",
   "name": "python",
   "nbconvert_exporter": "python",
   "pygments_lexer": "ipython3",
   "version": "3.9.16"
  }
 },
 "nbformat": 4,
 "nbformat_minor": 5
}
