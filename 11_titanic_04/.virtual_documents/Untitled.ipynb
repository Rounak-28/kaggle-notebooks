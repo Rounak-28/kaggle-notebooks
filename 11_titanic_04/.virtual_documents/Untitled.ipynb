import numpy as np
import pandas as pd


data_train = pd.read_csv("train.csv")
data_test = pd.read_csv("test.csv")


data_train.head(2)


data_test.head(2)


y_train = data_train["Survived"]


train_cols_to_drop = ["PassengerId", "Survived", "Name", "Ticket", "Cabin", "Embarked"]
test_cols_to_drop = ["PassengerId", "Name", "Ticket", "Cabin", "Embarked"]


X_train = data_train.drop(train_cols_to_drop, axis=1)
X_test = data_test.drop(test_cols_to_drop, axis=1)


X_train["Sex"] = (X_train["Sex"] == "male").astype(int)
X_test["Sex"] = (X_test["Sex"] == "male").astype(int)


X_train = X_train.fillna(X_train["Age"].mean())
X_test = X_test.fillna(X_test["Age"].mean())


X_train.head(2)


X_test.head(2)


from sklearn.linear_model import LogisticRegression


lr_model = LogisticRegression()


lr_model.fit(X_train, y_train)


lr_ans = lr_model.predict(X_test)


lr_ans


lr_ans_df = pd.DataFrame({"PassengerId": data_test["PassengerId"], "Survived": lr_ans})


lr_ans_df.to_csv("outputs/ans_lr_1.csv", index=False)





from sklearn.ensemble import RandomForestClassifier


rf_model = RandomForestClassifier()


rf_model.fit(X_train, y_train)


rf_ans = rf_model.predict(X_test)


rf_ans


rf_ans_df = pd.DataFrame({"PassengerId": data_test["PassengerId"], "Survived": rf_ans})


rf_ans_df.to_csv("outputs/ans_rf_1.csv", index=False)





# This code cell is to get rid of annoying tensorflow warnings
import os
os.environ['TF_CPP_MIN_LOG_LEVEL'] = '2'


import tensorflow as tf


X_train.head(2)


X_train_arr = X_train.to_numpy()


y_train_arr = y_train.to_numpy()


tf_model = tf.keras.Sequential([
    tf.keras.layers.Dense(256, activation='relu'),
    tf.keras.layers.Dense(2, activation="softmax")
])


tf_model.compile(optimizer='adam',
              loss='sparse_categorical_crossentropy',
              metrics=['accuracy'])


tf_model.fit(X_train_arr, y_train_arr, epochs=20)


tf_ans = np.argmax(tf_model.predict(X_test), 1)


tf_ans


tf_ans_df = pd.DataFrame({"PassengerId": data_test["PassengerId"], "Survived": tf_ans})


tf_ans_df.to_csv("outputs/ans_tf_8.csv", index=False)



