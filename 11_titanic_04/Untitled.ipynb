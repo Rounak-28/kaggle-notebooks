{
 "cells": [
  {
   "cell_type": "code",
   "execution_count": 1,
   "id": "ecc632cf-8de1-4118-a278-454853481986",
   "metadata": {},
   "outputs": [],
   "source": [
    "import numpy as np\n",
    "import pandas as pd"
   ]
  },
  {
   "cell_type": "code",
   "execution_count": 2,
   "id": "4390227d-4823-4e57-8404-54922d12c60a",
   "metadata": {},
   "outputs": [],
   "source": [
    "data_train = pd.read_csv(\"train.csv\")\n",
    "data_test = pd.read_csv(\"test.csv\")"
   ]
  },
  {
   "cell_type": "code",
   "execution_count": null,
   "id": "fb8b3007-5f4b-45dc-a6c6-351d1fc34a52",
   "metadata": {},
   "outputs": [],
   "source": [
    "data_train.head(2)"
   ]
  },
  {
   "cell_type": "code",
   "execution_count": null,
   "id": "75a99e75-86fc-41f5-ad02-db400d252bc2",
   "metadata": {},
   "outputs": [],
   "source": [
    "data_test.head(2)"
   ]
  },
  {
   "cell_type": "code",
   "execution_count": 3,
   "id": "5299db9a-c6a9-4f33-979b-90965ad24a9e",
   "metadata": {},
   "outputs": [],
   "source": [
    "y_train = data_train[\"Survived\"]"
   ]
  },
  {
   "cell_type": "code",
   "execution_count": 4,
   "id": "c2d22d3e-b710-4b70-b7c1-d4eadffb3b74",
   "metadata": {},
   "outputs": [],
   "source": [
    "train_cols_to_drop = [\"PassengerId\", \"Survived\", \"Name\", \"Ticket\", \"Cabin\", \"Embarked\"]\n",
    "test_cols_to_drop = [\"PassengerId\", \"Name\", \"Ticket\", \"Cabin\", \"Embarked\"]"
   ]
  },
  {
   "cell_type": "code",
   "execution_count": 5,
   "id": "5e24fe1e-d647-46e6-9a0f-98ac17a263c9",
   "metadata": {},
   "outputs": [],
   "source": [
    "X_train = data_train.drop(train_cols_to_drop, axis=1)\n",
    "X_test = data_test.drop(test_cols_to_drop, axis=1)"
   ]
  },
  {
   "cell_type": "code",
   "execution_count": 6,
   "id": "7065d005-8ad2-4ed7-9c13-ab17247a8fcf",
   "metadata": {},
   "outputs": [],
   "source": [
    "X_train[\"Sex\"] = (X_train[\"Sex\"] == \"male\").astype(int)\n",
    "X_test[\"Sex\"] = (X_test[\"Sex\"] == \"male\").astype(int)"
   ]
  },
  {
   "cell_type": "code",
   "execution_count": 7,
   "id": "6f4e7b33-8302-4feb-81ce-ed2519e11abb",
   "metadata": {},
   "outputs": [],
   "source": [
    "X_train = X_train.fillna(X_train[\"Age\"].mean())\n",
    "X_test = X_test.fillna(X_test[\"Age\"].mean())"
   ]
  },
  {
   "cell_type": "code",
   "execution_count": null,
   "id": "335662ab-66ba-4626-b8be-9a6e3e51a2ed",
   "metadata": {},
   "outputs": [],
   "source": [
    "X_train.head(2)"
   ]
  },
  {
   "cell_type": "code",
   "execution_count": null,
   "id": "430f0662-8ae2-4372-8ade-5962a1bbeaf9",
   "metadata": {},
   "outputs": [],
   "source": [
    "X_test.head(2)"
   ]
  },
  {
   "cell_type": "markdown",
   "id": "48755174-a048-4d9c-9161-cb3db9a629c8",
   "metadata": {},
   "source": [
    "## test with logistic regression"
   ]
  },
  {
   "cell_type": "code",
   "execution_count": null,
   "id": "503b4d61-d728-42ea-bca3-0a28e56e0055",
   "metadata": {},
   "outputs": [],
   "source": [
    "from sklearn.linear_model import LogisticRegression"
   ]
  },
  {
   "cell_type": "code",
   "execution_count": null,
   "id": "26959add-6005-45a4-9e4e-9e0eed4653f2",
   "metadata": {},
   "outputs": [],
   "source": [
    "lr_model = LogisticRegression()"
   ]
  },
  {
   "cell_type": "code",
   "execution_count": null,
   "id": "d8a61775-eddc-493b-a46b-84761bedb7e7",
   "metadata": {},
   "outputs": [],
   "source": [
    "lr_model.fit(X_train, y_train)"
   ]
  },
  {
   "cell_type": "code",
   "execution_count": null,
   "id": "5da9d24e-c908-4624-b96b-69bf84dd7f09",
   "metadata": {},
   "outputs": [],
   "source": [
    "lr_ans = lr_model.predict(X_test)"
   ]
  },
  {
   "cell_type": "code",
   "execution_count": null,
   "id": "b5dc26e6-a34b-4686-84e2-44e16916aeba",
   "metadata": {},
   "outputs": [],
   "source": [
    "lr_ans"
   ]
  },
  {
   "cell_type": "code",
   "execution_count": null,
   "id": "85624c83-5ef9-4cfa-bd20-098c8c47af0a",
   "metadata": {},
   "outputs": [],
   "source": [
    "lr_ans_df = pd.DataFrame({\"PassengerId\": data_test[\"PassengerId\"], \"Survived\": lr_ans})"
   ]
  },
  {
   "cell_type": "code",
   "execution_count": null,
   "id": "fb939cb2-6595-4e62-945e-443b3e372845",
   "metadata": {},
   "outputs": [],
   "source": [
    "lr_ans_df.to_csv(\"outputs/ans_lr_1.csv\", index=False)"
   ]
  },
  {
   "cell_type": "code",
   "execution_count": null,
   "id": "f71d8898-7c6e-4c76-b1d7-164fd78452a4",
   "metadata": {},
   "outputs": [],
   "source": []
  },
  {
   "cell_type": "markdown",
   "id": "018c0f62-e00d-4756-b1ce-2bc493704b82",
   "metadata": {},
   "source": [
    "## test with random forest"
   ]
  },
  {
   "cell_type": "code",
   "execution_count": null,
   "id": "9a00ba77-b885-4e93-8981-c1ecb206c587",
   "metadata": {},
   "outputs": [],
   "source": [
    "from sklearn.ensemble import RandomForestClassifier"
   ]
  },
  {
   "cell_type": "code",
   "execution_count": null,
   "id": "899a97d3-13e9-4031-a139-77c0cb6518f9",
   "metadata": {},
   "outputs": [],
   "source": [
    "rf_model = RandomForestClassifier()"
   ]
  },
  {
   "cell_type": "code",
   "execution_count": null,
   "id": "048a13fc-155b-430c-b804-ab096a297074",
   "metadata": {},
   "outputs": [],
   "source": [
    "rf_model.fit(X_train, y_train)"
   ]
  },
  {
   "cell_type": "code",
   "execution_count": null,
   "id": "23e96d3c-c11d-407f-aacc-dd802c12d8a9",
   "metadata": {},
   "outputs": [],
   "source": [
    "rf_ans = rf_model.predict(X_test)"
   ]
  },
  {
   "cell_type": "code",
   "execution_count": null,
   "id": "b4ef4fce-8325-43a8-9dbb-05a3a99f2987",
   "metadata": {},
   "outputs": [],
   "source": [
    "rf_ans"
   ]
  },
  {
   "cell_type": "code",
   "execution_count": null,
   "id": "f57801af-3260-4ed5-b860-690978bc5129",
   "metadata": {},
   "outputs": [],
   "source": [
    "rf_ans_df = pd.DataFrame({\"PassengerId\": data_test[\"PassengerId\"], \"Survived\": rf_ans})"
   ]
  },
  {
   "cell_type": "code",
   "execution_count": null,
   "id": "005aa125-9aad-46e5-b468-a593208d9eb0",
   "metadata": {},
   "outputs": [],
   "source": [
    "rf_ans_df.to_csv(\"outputs/ans_rf_1.csv\", index=False)"
   ]
  },
  {
   "cell_type": "code",
   "execution_count": null,
   "id": "0616a5e8-c352-4d7f-b928-452d3d70e963",
   "metadata": {},
   "outputs": [],
   "source": []
  },
  {
   "cell_type": "markdown",
   "id": "b2d81bf2-5433-4ea3-b3cc-dbd4f091ac38",
   "metadata": {},
   "source": [
    "## test with tensorflow"
   ]
  },
  {
   "cell_type": "code",
   "execution_count": 8,
   "id": "63a353dc-2130-49f0-8677-2d4c2c4bbc9e",
   "metadata": {},
   "outputs": [],
   "source": [
    "# This code cell is to get rid of annoying tensorflow warnings\n",
    "import os\n",
    "os.environ['TF_CPP_MIN_LOG_LEVEL'] = '2'"
   ]
  },
  {
   "cell_type": "code",
   "execution_count": 9,
   "id": "7feed91c-5426-46b8-8730-615fb642c377",
   "metadata": {},
   "outputs": [],
   "source": [
    "import tensorflow as tf"
   ]
  },
  {
   "cell_type": "code",
   "execution_count": 10,
   "id": "32aad2d3-369a-4a7d-a6e0-c048e0c2e123",
   "metadata": {},
   "outputs": [
    {
     "data": {
      "text/html": [
       "<div>\n",
       "<style scoped>\n",
       "    .dataframe tbody tr th:only-of-type {\n",
       "        vertical-align: middle;\n",
       "    }\n",
       "\n",
       "    .dataframe tbody tr th {\n",
       "        vertical-align: top;\n",
       "    }\n",
       "\n",
       "    .dataframe thead th {\n",
       "        text-align: right;\n",
       "    }\n",
       "</style>\n",
       "<table border=\"1\" class=\"dataframe\">\n",
       "  <thead>\n",
       "    <tr style=\"text-align: right;\">\n",
       "      <th></th>\n",
       "      <th>Pclass</th>\n",
       "      <th>Sex</th>\n",
       "      <th>Age</th>\n",
       "      <th>SibSp</th>\n",
       "      <th>Parch</th>\n",
       "      <th>Fare</th>\n",
       "    </tr>\n",
       "  </thead>\n",
       "  <tbody>\n",
       "    <tr>\n",
       "      <th>0</th>\n",
       "      <td>3</td>\n",
       "      <td>1</td>\n",
       "      <td>22.0</td>\n",
       "      <td>1</td>\n",
       "      <td>0</td>\n",
       "      <td>7.2500</td>\n",
       "    </tr>\n",
       "    <tr>\n",
       "      <th>1</th>\n",
       "      <td>1</td>\n",
       "      <td>0</td>\n",
       "      <td>38.0</td>\n",
       "      <td>1</td>\n",
       "      <td>0</td>\n",
       "      <td>71.2833</td>\n",
       "    </tr>\n",
       "  </tbody>\n",
       "</table>\n",
       "</div>"
      ],
      "text/plain": [
       "   Pclass  Sex   Age  SibSp  Parch     Fare\n",
       "0       3    1  22.0      1      0   7.2500\n",
       "1       1    0  38.0      1      0  71.2833"
      ]
     },
     "execution_count": 10,
     "metadata": {},
     "output_type": "execute_result"
    }
   ],
   "source": [
    "X_train.head(2)"
   ]
  },
  {
   "cell_type": "code",
   "execution_count": 11,
   "id": "36e3bc1c-7d2c-4041-97a5-94155d460546",
   "metadata": {},
   "outputs": [],
   "source": [
    "X_train_arr = X_train.to_numpy()"
   ]
  },
  {
   "cell_type": "code",
   "execution_count": 12,
   "id": "53dd62f2-9074-42bc-a70e-6545bf28cc56",
   "metadata": {},
   "outputs": [],
   "source": [
    "y_train_arr = y_train.to_numpy()"
   ]
  },
  {
   "cell_type": "code",
   "execution_count": 13,
   "id": "7cd23183-21a0-4250-8547-63aff912126b",
   "metadata": {},
   "outputs": [],
   "source": [
    "tf_model = tf.keras.Sequential([\n",
    "    tf.keras.layers.Dense(256, activation='relu'),\n",
    "    tf.keras.layers.Dense(2, activation=\"softmax\")\n",
    "])"
   ]
  },
  {
   "cell_type": "code",
   "execution_count": 14,
   "id": "a17366dc-a77e-4db9-b0b7-e862c9e2c448",
   "metadata": {},
   "outputs": [],
   "source": [
    "tf_model.compile(optimizer='adam',\n",
    "              loss='sparse_categorical_crossentropy',\n",
    "              metrics=['accuracy'])"
   ]
  },
  {
   "cell_type": "code",
   "execution_count": 15,
   "id": "58568baf-ee66-498f-b930-21e8f569588f",
   "metadata": {},
   "outputs": [
    {
     "name": "stdout",
     "output_type": "stream",
     "text": [
      "Epoch 1/20\n",
      "28/28 [==============================] - 1s 3ms/step - loss: 0.9335 - accuracy: 0.6218\n",
      "Epoch 2/20\n",
      "28/28 [==============================] - 0s 3ms/step - loss: 0.6197 - accuracy: 0.6902\n",
      "Epoch 3/20\n",
      "28/28 [==============================] - 0s 3ms/step - loss: 0.5598 - accuracy: 0.7160\n",
      "Epoch 4/20\n",
      "28/28 [==============================] - 0s 3ms/step - loss: 0.5617 - accuracy: 0.7160\n",
      "Epoch 5/20\n",
      "28/28 [==============================] - 0s 2ms/step - loss: 0.5558 - accuracy: 0.7127\n",
      "Epoch 6/20\n",
      "28/28 [==============================] - 0s 2ms/step - loss: 0.5652 - accuracy: 0.7194\n",
      "Epoch 7/20\n",
      "28/28 [==============================] - 0s 2ms/step - loss: 0.5331 - accuracy: 0.7329\n",
      "Epoch 8/20\n",
      "28/28 [==============================] - 0s 2ms/step - loss: 0.4986 - accuracy: 0.7598\n",
      "Epoch 9/20\n",
      "28/28 [==============================] - 0s 2ms/step - loss: 0.5014 - accuracy: 0.7722\n",
      "Epoch 10/20\n",
      "28/28 [==============================] - 0s 2ms/step - loss: 0.4883 - accuracy: 0.7789\n",
      "Epoch 11/20\n",
      "28/28 [==============================] - 0s 2ms/step - loss: 0.4994 - accuracy: 0.7767\n",
      "Epoch 12/20\n",
      "28/28 [==============================] - 0s 3ms/step - loss: 0.5016 - accuracy: 0.7598\n",
      "Epoch 13/20\n",
      "28/28 [==============================] - 0s 5ms/step - loss: 0.4854 - accuracy: 0.7710\n",
      "Epoch 14/20\n",
      "28/28 [==============================] - 0s 3ms/step - loss: 0.4798 - accuracy: 0.7811\n",
      "Epoch 15/20\n",
      "28/28 [==============================] - 0s 3ms/step - loss: 0.4731 - accuracy: 0.7800\n",
      "Epoch 16/20\n",
      "28/28 [==============================] - 0s 3ms/step - loss: 0.4593 - accuracy: 0.7767\n",
      "Epoch 17/20\n",
      "28/28 [==============================] - 0s 3ms/step - loss: 0.4812 - accuracy: 0.7767\n",
      "Epoch 18/20\n",
      "28/28 [==============================] - 0s 3ms/step - loss: 0.4639 - accuracy: 0.8092\n",
      "Epoch 19/20\n",
      "28/28 [==============================] - 0s 2ms/step - loss: 0.4497 - accuracy: 0.8070\n",
      "Epoch 20/20\n",
      "28/28 [==============================] - 0s 2ms/step - loss: 0.4502 - accuracy: 0.7946\n"
     ]
    },
    {
     "data": {
      "text/plain": [
       "<keras.callbacks.History at 0x7fdf9c18f670>"
      ]
     },
     "execution_count": 15,
     "metadata": {},
     "output_type": "execute_result"
    }
   ],
   "source": [
    "tf_model.fit(X_train_arr, y_train_arr, epochs=20)"
   ]
  },
  {
   "cell_type": "code",
   "execution_count": 16,
   "id": "6c7bfd1c-d89e-4b94-bc5f-c815cce4ba14",
   "metadata": {},
   "outputs": [
    {
     "name": "stdout",
     "output_type": "stream",
     "text": [
      "14/14 [==============================] - 0s 1ms/step\n"
     ]
    }
   ],
   "source": [
    "tf_ans = np.argmax(tf_model.predict(X_test), 1)"
   ]
  },
  {
   "cell_type": "code",
   "execution_count": 17,
   "id": "6af6e52f-b9af-40b1-b8eb-2e06865a3ee6",
   "metadata": {},
   "outputs": [
    {
     "data": {
      "text/plain": [
       "array([0, 0, 0, 0, 0, 0, 0, 0, 1, 0, 0, 0, 1, 0, 1, 1, 0, 0, 0, 0, 0, 0,\n",
       "       1, 0, 1, 0, 1, 0, 0, 0, 0, 0, 0, 0, 0, 0, 0, 1, 0, 0, 0, 0, 0, 1,\n",
       "       1, 0, 0, 0, 1, 0, 0, 0, 0, 1, 0, 0, 0, 0, 0, 1, 0, 0, 0, 1, 1, 1,\n",
       "       1, 0, 0, 1, 1, 0, 0, 0, 1, 0, 0, 0, 0, 1, 0, 1, 0, 0, 0, 0, 0, 1,\n",
       "       0, 0, 0, 0, 0, 0, 0, 0, 1, 0, 1, 0, 1, 0, 0, 0, 0, 0, 0, 0, 0, 0,\n",
       "       0, 0, 1, 1, 1, 0, 0, 1, 0, 1, 1, 0, 1, 0, 0, 1, 0, 0, 0, 0, 0, 0,\n",
       "       0, 0, 0, 0, 0, 0, 1, 0, 0, 1, 0, 0, 0, 0, 0, 0, 0, 0, 1, 0, 0, 0,\n",
       "       0, 0, 1, 1, 0, 0, 0, 0, 1, 0, 0, 0, 0, 0, 1, 1, 0, 0, 0, 0, 0, 1,\n",
       "       1, 0, 0, 1, 0, 0, 1, 0, 1, 0, 1, 0, 0, 0, 0, 0, 0, 0, 0, 0, 1, 1,\n",
       "       0, 0, 1, 1, 0, 1, 0, 0, 0, 0, 1, 0, 0, 0, 0, 0, 0, 0, 0, 0, 1, 0,\n",
       "       0, 0, 1, 0, 0, 0, 0, 0, 0, 0, 0, 1, 0, 0, 0, 0, 0, 0, 0, 1, 0, 0,\n",
       "       0, 0, 0, 0, 1, 0, 1, 0, 1, 0, 0, 0, 0, 0, 0, 0, 1, 0, 0, 0, 0, 1,\n",
       "       0, 0, 0, 0, 0, 0, 0, 0, 1, 0, 0, 1, 0, 0, 0, 0, 1, 1, 0, 1, 1, 0,\n",
       "       0, 0, 0, 0, 0, 0, 0, 0, 0, 0, 1, 0, 0, 0, 0, 0, 0, 0, 0, 0, 0, 1,\n",
       "       0, 0, 0, 0, 0, 0, 1, 1, 0, 0, 0, 0, 0, 0, 0, 0, 1, 0, 0, 0, 0, 0,\n",
       "       0, 0, 0, 0, 0, 0, 0, 0, 0, 0, 0, 0, 0, 1, 0, 1, 0, 0, 0, 1, 1, 0,\n",
       "       0, 0, 1, 0, 0, 0, 0, 0, 0, 1, 1, 0, 1, 0, 0, 1, 1, 0, 0, 1, 0, 0,\n",
       "       1, 1, 0, 0, 0, 0, 0, 0, 1, 1, 0, 1, 0, 0, 0, 0, 0, 1, 0, 0, 0, 1,\n",
       "       0, 1, 0, 0, 1, 0, 1, 0, 0, 0, 0, 0, 0, 1, 0, 1, 0, 0, 1, 0, 0, 0])"
      ]
     },
     "execution_count": 17,
     "metadata": {},
     "output_type": "execute_result"
    }
   ],
   "source": [
    "tf_ans"
   ]
  },
  {
   "cell_type": "code",
   "execution_count": 18,
   "id": "4f3ab953-1273-4f32-bbb3-7d636db607a5",
   "metadata": {},
   "outputs": [],
   "source": [
    "tf_ans_df = pd.DataFrame({\"PassengerId\": data_test[\"PassengerId\"], \"Survived\": tf_ans})"
   ]
  },
  {
   "cell_type": "code",
   "execution_count": 19,
   "id": "7e7aa145-2f52-4766-8a87-eb5ec05a8f2f",
   "metadata": {},
   "outputs": [],
   "source": [
    "tf_ans_df.to_csv(\"outputs/ans_tf_8.csv\", index=False)"
   ]
  },
  {
   "cell_type": "code",
   "execution_count": null,
   "id": "9f9aa6d1-370a-43fb-a3e7-d6b3f6e382ea",
   "metadata": {},
   "outputs": [],
   "source": []
  }
 ],
 "metadata": {
  "kernelspec": {
   "display_name": "Python 3 (ipykernel)",
   "language": "python",
   "name": "python3"
  },
  "language_info": {
   "codemirror_mode": {
    "name": "ipython",
    "version": 3
   },
   "file_extension": ".py",
   "mimetype": "text/x-python",
   "name": "python",
   "nbconvert_exporter": "python",
   "pygments_lexer": "ipython3",
   "version": "3.9.16"
  }
 },
 "nbformat": 4,
 "nbformat_minor": 5
}
