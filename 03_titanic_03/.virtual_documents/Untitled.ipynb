import pandas as pd
import numpy as np
from sklearn.ensemble import RandomForestClassifier


data = pd.read_csv("train.csv")


data.head()


# plt.matshow(data.corr())
# plt.show()
data.corr()


y = data["Survived"]


cols = ["Pclass", "Sex", "Age", "SibSp", "Fare"]


X = data[cols]


X


X = X.fillna(0)


X


X["Sex"] =X["Sex"]  == "female"


X


X["Sex"] = X["Sex"].astype(int)


X


get_ipython().run_line_magic('pinfo',  'RandomForestClassifier')


model = RandomForestClassifier(n_estimators=500, max_depth=20)


model.fit(X, y)


model.predict(X[:10])


test_data = pd.read_csv("test.csv")


test_data = test_data.fillna(0)


test_data["Sex"] =test_data["Sex"]  == "female"


test_data["Sex"] = test_data["Sex"].astype(int)


test_data_short = test_data[cols]


test_data_short


test_ans = model.predict(test_data_short)


test_ans


idk = pd.DataFrame({"PassengerId": test_data["PassengerId"], "Survived": test_ans})


idk


idk.to_csv("newans3.csv", index=None)
# idk.to_csv?



