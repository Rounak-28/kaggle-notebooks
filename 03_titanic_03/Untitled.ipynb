{
 "cells": [
  {
   "cell_type": "code",
   "execution_count": 1,
   "id": "df903731-f319-4047-b010-621ea0ab1f76",
   "metadata": {},
   "outputs": [],
   "source": [
    "import pandas as pd\n",
    "import numpy as np\n",
    "from sklearn.ensemble import RandomForestClassifier"
   ]
  },
  {
   "cell_type": "code",
   "execution_count": 2,
   "id": "07f6b2f0-ed45-4070-a80d-9f2a335c4ee6",
   "metadata": {},
   "outputs": [],
   "source": [
    "data = pd.read_csv(\"train.csv\")"
   ]
  },
  {
   "cell_type": "code",
   "execution_count": 3,
   "id": "e8c017ce-632f-4672-8d3b-1c022753275e",
   "metadata": {},
   "outputs": [
    {
     "data": {
      "text/html": [
       "<div>\n",
       "<style scoped>\n",
       "    .dataframe tbody tr th:only-of-type {\n",
       "        vertical-align: middle;\n",
       "    }\n",
       "\n",
       "    .dataframe tbody tr th {\n",
       "        vertical-align: top;\n",
       "    }\n",
       "\n",
       "    .dataframe thead th {\n",
       "        text-align: right;\n",
       "    }\n",
       "</style>\n",
       "<table border=\"1\" class=\"dataframe\">\n",
       "  <thead>\n",
       "    <tr style=\"text-align: right;\">\n",
       "      <th></th>\n",
       "      <th>PassengerId</th>\n",
       "      <th>Survived</th>\n",
       "      <th>Pclass</th>\n",
       "      <th>Name</th>\n",
       "      <th>Sex</th>\n",
       "      <th>Age</th>\n",
       "      <th>SibSp</th>\n",
       "      <th>Parch</th>\n",
       "      <th>Ticket</th>\n",
       "      <th>Fare</th>\n",
       "      <th>Cabin</th>\n",
       "      <th>Embarked</th>\n",
       "    </tr>\n",
       "  </thead>\n",
       "  <tbody>\n",
       "    <tr>\n",
       "      <th>0</th>\n",
       "      <td>1</td>\n",
       "      <td>0</td>\n",
       "      <td>3</td>\n",
       "      <td>Braund, Mr. Owen Harris</td>\n",
       "      <td>male</td>\n",
       "      <td>22.0</td>\n",
       "      <td>1</td>\n",
       "      <td>0</td>\n",
       "      <td>A/5 21171</td>\n",
       "      <td>7.2500</td>\n",
       "      <td>NaN</td>\n",
       "      <td>S</td>\n",
       "    </tr>\n",
       "    <tr>\n",
       "      <th>1</th>\n",
       "      <td>2</td>\n",
       "      <td>1</td>\n",
       "      <td>1</td>\n",
       "      <td>Cumings, Mrs. John Bradley (Florence Briggs Th...</td>\n",
       "      <td>female</td>\n",
       "      <td>38.0</td>\n",
       "      <td>1</td>\n",
       "      <td>0</td>\n",
       "      <td>PC 17599</td>\n",
       "      <td>71.2833</td>\n",
       "      <td>C85</td>\n",
       "      <td>C</td>\n",
       "    </tr>\n",
       "    <tr>\n",
       "      <th>2</th>\n",
       "      <td>3</td>\n",
       "      <td>1</td>\n",
       "      <td>3</td>\n",
       "      <td>Heikkinen, Miss. Laina</td>\n",
       "      <td>female</td>\n",
       "      <td>26.0</td>\n",
       "      <td>0</td>\n",
       "      <td>0</td>\n",
       "      <td>STON/O2. 3101282</td>\n",
       "      <td>7.9250</td>\n",
       "      <td>NaN</td>\n",
       "      <td>S</td>\n",
       "    </tr>\n",
       "    <tr>\n",
       "      <th>3</th>\n",
       "      <td>4</td>\n",
       "      <td>1</td>\n",
       "      <td>1</td>\n",
       "      <td>Futrelle, Mrs. Jacques Heath (Lily May Peel)</td>\n",
       "      <td>female</td>\n",
       "      <td>35.0</td>\n",
       "      <td>1</td>\n",
       "      <td>0</td>\n",
       "      <td>113803</td>\n",
       "      <td>53.1000</td>\n",
       "      <td>C123</td>\n",
       "      <td>S</td>\n",
       "    </tr>\n",
       "    <tr>\n",
       "      <th>4</th>\n",
       "      <td>5</td>\n",
       "      <td>0</td>\n",
       "      <td>3</td>\n",
       "      <td>Allen, Mr. William Henry</td>\n",
       "      <td>male</td>\n",
       "      <td>35.0</td>\n",
       "      <td>0</td>\n",
       "      <td>0</td>\n",
       "      <td>373450</td>\n",
       "      <td>8.0500</td>\n",
       "      <td>NaN</td>\n",
       "      <td>S</td>\n",
       "    </tr>\n",
       "  </tbody>\n",
       "</table>\n",
       "</div>"
      ],
      "text/plain": [
       "   PassengerId  Survived  Pclass  \\\n",
       "0            1         0       3   \n",
       "1            2         1       1   \n",
       "2            3         1       3   \n",
       "3            4         1       1   \n",
       "4            5         0       3   \n",
       "\n",
       "                                                Name     Sex   Age  SibSp  \\\n",
       "0                            Braund, Mr. Owen Harris    male  22.0      1   \n",
       "1  Cumings, Mrs. John Bradley (Florence Briggs Th...  female  38.0      1   \n",
       "2                             Heikkinen, Miss. Laina  female  26.0      0   \n",
       "3       Futrelle, Mrs. Jacques Heath (Lily May Peel)  female  35.0      1   \n",
       "4                           Allen, Mr. William Henry    male  35.0      0   \n",
       "\n",
       "   Parch            Ticket     Fare Cabin Embarked  \n",
       "0      0         A/5 21171   7.2500   NaN        S  \n",
       "1      0          PC 17599  71.2833   C85        C  \n",
       "2      0  STON/O2. 3101282   7.9250   NaN        S  \n",
       "3      0            113803  53.1000  C123        S  \n",
       "4      0            373450   8.0500   NaN        S  "
      ]
     },
     "execution_count": 3,
     "metadata": {},
     "output_type": "execute_result"
    }
   ],
   "source": [
    "data.head()"
   ]
  },
  {
   "cell_type": "code",
   "execution_count": null,
   "id": "9e0fd8cf-de3e-49dc-a26f-a73ae397fee7",
   "metadata": {},
   "outputs": [],
   "source": [
    "# plt.matshow(data.corr())\n",
    "# plt.show()\n",
    "data.corr()"
   ]
  },
  {
   "cell_type": "code",
   "execution_count": null,
   "id": "2d021650-cce8-4f11-b226-d88e8d937118",
   "metadata": {},
   "outputs": [],
   "source": [
    "y = data[\"Survived\"]"
   ]
  },
  {
   "cell_type": "code",
   "execution_count": null,
   "id": "9d119bd2-6426-4832-a099-6738b609a130",
   "metadata": {},
   "outputs": [],
   "source": [
    "cols = [\"Pclass\", \"Sex\", \"Age\", \"SibSp\", \"Fare\"]"
   ]
  },
  {
   "cell_type": "code",
   "execution_count": null,
   "id": "7b534ed8-6fa1-4c87-baf6-927f41d5bbc2",
   "metadata": {},
   "outputs": [],
   "source": [
    "X = data[cols]"
   ]
  },
  {
   "cell_type": "code",
   "execution_count": null,
   "id": "ff1a4850-e513-4f62-ad29-e371fdaae64c",
   "metadata": {},
   "outputs": [],
   "source": [
    "X"
   ]
  },
  {
   "cell_type": "code",
   "execution_count": null,
   "id": "6a2db808-7a9c-4eb4-b2a2-4ca20bf8f19c",
   "metadata": {},
   "outputs": [],
   "source": [
    "X = X.fillna(0)"
   ]
  },
  {
   "cell_type": "code",
   "execution_count": null,
   "id": "1f5c835b-1496-4eeb-a708-de93319e582e",
   "metadata": {},
   "outputs": [],
   "source": [
    "X"
   ]
  },
  {
   "cell_type": "code",
   "execution_count": null,
   "id": "ac05e3d5-e696-4e43-b482-b26f9149a90d",
   "metadata": {},
   "outputs": [],
   "source": [
    "X[\"Sex\"] =X[\"Sex\"]  == \"female\""
   ]
  },
  {
   "cell_type": "code",
   "execution_count": null,
   "id": "48902f7c-ba5f-4e7b-a76b-17dc539218f1",
   "metadata": {},
   "outputs": [],
   "source": [
    "X"
   ]
  },
  {
   "cell_type": "code",
   "execution_count": null,
   "id": "05797d83-e6ab-4a79-9293-0ad0fba806f1",
   "metadata": {},
   "outputs": [],
   "source": [
    "X[\"Sex\"] = X[\"Sex\"].astype(int)"
   ]
  },
  {
   "cell_type": "code",
   "execution_count": null,
   "id": "33811f9d-70fe-420a-9b03-743afc766376",
   "metadata": {},
   "outputs": [],
   "source": [
    "X"
   ]
  },
  {
   "cell_type": "code",
   "execution_count": null,
   "id": "4588a678-0e20-4d1e-aefa-618f73f24356",
   "metadata": {},
   "outputs": [],
   "source": [
    "RandomForestClassifier?"
   ]
  },
  {
   "cell_type": "code",
   "execution_count": null,
   "id": "78d235ba-0144-4d53-8c3d-3123601f1995",
   "metadata": {},
   "outputs": [],
   "source": [
    "model = RandomForestClassifier(n_estimators=500, max_depth=20)"
   ]
  },
  {
   "cell_type": "code",
   "execution_count": null,
   "id": "6e4be973-92bf-4c14-98f7-30643f56c770",
   "metadata": {},
   "outputs": [],
   "source": [
    "model.fit(X, y)"
   ]
  },
  {
   "cell_type": "code",
   "execution_count": null,
   "id": "630ccf44-9955-441b-b7a6-9dcde5c3b41c",
   "metadata": {},
   "outputs": [],
   "source": [
    "model.predict(X[:10])"
   ]
  },
  {
   "cell_type": "code",
   "execution_count": null,
   "id": "73eb69c5-196f-4ce8-82e3-ccc426ecdb4c",
   "metadata": {},
   "outputs": [],
   "source": [
    "test_data = pd.read_csv(\"test.csv\")"
   ]
  },
  {
   "cell_type": "code",
   "execution_count": null,
   "id": "2e11176e-d86a-4033-91f8-c24e6be9593e",
   "metadata": {},
   "outputs": [],
   "source": [
    "test_data = test_data.fillna(0)"
   ]
  },
  {
   "cell_type": "code",
   "execution_count": null,
   "id": "32a38f5a-fe2a-410c-b5ef-e4900d19e9cd",
   "metadata": {},
   "outputs": [],
   "source": [
    "test_data[\"Sex\"] =test_data[\"Sex\"]  == \"female\""
   ]
  },
  {
   "cell_type": "code",
   "execution_count": null,
   "id": "26ff51a8-4d92-49e0-838e-16532aed5cd0",
   "metadata": {},
   "outputs": [],
   "source": [
    "test_data[\"Sex\"] = test_data[\"Sex\"].astype(int)"
   ]
  },
  {
   "cell_type": "code",
   "execution_count": null,
   "id": "ce026256-696a-4a40-9e2c-4850c93131cc",
   "metadata": {},
   "outputs": [],
   "source": [
    "test_data_short = test_data[cols]"
   ]
  },
  {
   "cell_type": "code",
   "execution_count": null,
   "id": "932f2703-c8c9-40c2-924f-854726560cc3",
   "metadata": {},
   "outputs": [],
   "source": [
    "test_data_short"
   ]
  },
  {
   "cell_type": "code",
   "execution_count": null,
   "id": "d21d6eeb-e063-4c42-957f-6c2ec958c94a",
   "metadata": {},
   "outputs": [],
   "source": [
    "test_ans = model.predict(test_data_short)"
   ]
  },
  {
   "cell_type": "code",
   "execution_count": null,
   "id": "0b7a95d2-c31b-49dc-99b3-453dfd792a00",
   "metadata": {},
   "outputs": [],
   "source": [
    "test_ans"
   ]
  },
  {
   "cell_type": "code",
   "execution_count": null,
   "id": "8a33a704-5482-4670-9120-59372d91db23",
   "metadata": {},
   "outputs": [],
   "source": [
    "idk = pd.DataFrame({\"PassengerId\": test_data[\"PassengerId\"], \"Survived\": test_ans})"
   ]
  },
  {
   "cell_type": "code",
   "execution_count": null,
   "id": "408cf074-5b3f-48f4-9b78-2af83421ef21",
   "metadata": {},
   "outputs": [],
   "source": [
    "idk"
   ]
  },
  {
   "cell_type": "code",
   "execution_count": null,
   "id": "bf5b00cf-e07e-486f-9353-44324a5b5856",
   "metadata": {},
   "outputs": [],
   "source": [
    "idk.to_csv(\"newans3.csv\", index=None)\n",
    "# idk.to_csv?"
   ]
  },
  {
   "cell_type": "code",
   "execution_count": null,
   "id": "ba8dcd47-babd-4b21-a153-c86e5fd67c3b",
   "metadata": {},
   "outputs": [],
   "source": []
  }
 ],
 "metadata": {
  "kernelspec": {
   "display_name": "Python 3 (ipykernel)",
   "language": "python",
   "name": "python3"
  },
  "language_info": {
   "codemirror_mode": {
    "name": "ipython",
    "version": 3
   },
   "file_extension": ".py",
   "mimetype": "text/x-python",
   "name": "python",
   "nbconvert_exporter": "python",
   "pygments_lexer": "ipython3",
   "version": "3.9.16"
  }
 },
 "nbformat": 4,
 "nbformat_minor": 5
}
